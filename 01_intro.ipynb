{
 "cells": [
  {
   "cell_type": "markdown",
   "id": "06e76afa-94b5-4ec4-bd2d-1712918df27a",
   "metadata": {},
   "source": [
    "# 01. intro\n",
    "\n",
    "## 단축키\n",
    "\n",
    "- ctrl + enter : 지금 셀 실행\n",
    "- shlft + enter : 지금 셀 실행함과 동시에 아래로 이동\n",
    "- alt + enter : 지금 셀 실행함과 동시에 아래에 새로운 셀 추가\n",
    "\n",
    "## 주의사항\n",
    "\n",
    "1. Apple/apple은 다르다.(대,소문자 구별)\n",
    "2. git add . / git add.\n",
    "3. message/ massage"
   ]
  },
  {
   "cell_type": "code",
   "execution_count": 7,
   "id": "64d02724-9fbf-4225-bcf6-1a8abd40474e",
   "metadata": {},
   "outputs": [
    {
     "data": {
      "text/plain": [
       "'\\n안녕하세요\\n'"
      ]
     },
     "execution_count": 7,
     "metadata": {},
     "output_type": "execute_result"
    }
   ],
   "source": [
    "# 주석을 나타냄\n",
    "\n",
    "\"\"\"\n",
    "안녕하세요\n",
    "\"\"\""
   ]
  },
  {
   "cell_type": "markdown",
   "id": "682b8f4c-9453-4743-840b-25f84942c96d",
   "metadata": {},
   "source": [
    "# 1.변수\n",
    "\n",
    "변수이름 = 값\n",
    "\n",
    "- 변수이름은 어떤 이름이든 상관 없음\n",
    "- 다만 영어, 숫자, _를 이용하여 선언\n",
    "- 키워드는 사용불가"
   ]
  },
  {
   "cell_type": "code",
   "execution_count": 8,
   "id": "ae37e932-ecee-4c30-8848-11397e479af8",
   "metadata": {},
   "outputs": [],
   "source": [
    "a = 10"
   ]
  },
  {
   "cell_type": "code",
   "execution_count": 9,
   "id": "ce102354-f21d-48fc-b163-1aa4a0268540",
   "metadata": {},
   "outputs": [
    {
     "data": {
      "text/plain": [
       "10"
      ]
     },
     "execution_count": 9,
     "metadata": {},
     "output_type": "execute_result"
    }
   ],
   "source": [
    "a"
   ]
  },
  {
   "cell_type": "code",
   "execution_count": 12,
   "id": "933d13e9-729a-4092-8b41-9af531940129",
   "metadata": {},
   "outputs": [
    {
     "data": {
      "text/plain": [
       "['False',\n",
       " 'None',\n",
       " 'True',\n",
       " 'and',\n",
       " 'as',\n",
       " 'assert',\n",
       " 'async',\n",
       " 'await',\n",
       " 'break',\n",
       " 'class',\n",
       " 'continue',\n",
       " 'def',\n",
       " 'del',\n",
       " 'elif',\n",
       " 'else',\n",
       " 'except',\n",
       " 'finally',\n",
       " 'for',\n",
       " 'from',\n",
       " 'global',\n",
       " 'if',\n",
       " 'import',\n",
       " 'in',\n",
       " 'is',\n",
       " 'lambda',\n",
       " 'nonlocal',\n",
       " 'not',\n",
       " 'or',\n",
       " 'pass',\n",
       " 'raise',\n",
       " 'return',\n",
       " 'try',\n",
       " 'while',\n",
       " 'with',\n",
       " 'yield']"
      ]
     },
     "execution_count": 12,
     "metadata": {},
     "output_type": "execute_result"
    }
   ],
   "source": [
    "import keyword\n",
    "keyword.kwlist"
   ]
  },
  {
   "cell_type": "markdown",
   "id": "fbfaca36-ae6f-4855-af2a-89eb54228471",
   "metadata": {},
   "source": [
    "## 1.1 number"
   ]
  },
  {
   "cell_type": "code",
   "execution_count": 16,
   "id": "836866e0-108b-489d-8d18-a93f92ba1355",
   "metadata": {},
   "outputs": [],
   "source": [
    "a = 10000000"
   ]
  },
  {
   "cell_type": "code",
   "execution_count": 18,
   "id": "b11d65e9-55f3-4445-b433-2ad0eef40c4b",
   "metadata": {},
   "outputs": [
    {
     "data": {
      "text/plain": [
       "10000000"
      ]
     },
     "execution_count": 18,
     "metadata": {},
     "output_type": "execute_result"
    }
   ],
   "source": [
    "a"
   ]
  },
  {
   "cell_type": "code",
   "execution_count": 20,
   "id": "50a44200-93d0-4e4c-8f14-7fc8b1d42500",
   "metadata": {},
   "outputs": [
    {
     "data": {
      "text/plain": [
       "int"
      ]
     },
     "execution_count": 20,
     "metadata": {},
     "output_type": "execute_result"
    }
   ],
   "source": [
    "type(a)"
   ]
  },
  {
   "cell_type": "code",
   "execution_count": 24,
   "id": "8699aea6-48c0-45b1-b854-3973624ac8c0",
   "metadata": {},
   "outputs": [],
   "source": [
    "b = 1.1"
   ]
  },
  {
   "cell_type": "code",
   "execution_count": 26,
   "id": "216ae752-c542-4d6a-bf02-6762a1dab1bd",
   "metadata": {},
   "outputs": [
    {
     "data": {
      "text/plain": [
       "1.1"
      ]
     },
     "execution_count": 26,
     "metadata": {},
     "output_type": "execute_result"
    }
   ],
   "source": [
    "b"
   ]
  },
  {
   "cell_type": "code",
   "execution_count": 28,
   "id": "358be0e1-f435-438e-855d-2e465655e913",
   "metadata": {},
   "outputs": [
    {
     "data": {
      "text/plain": [
       "float"
      ]
     },
     "execution_count": 28,
     "metadata": {},
     "output_type": "execute_result"
    }
   ],
   "source": [
    "type(b)"
   ]
  },
  {
   "cell_type": "code",
   "execution_count": 29,
   "id": "7cccc166-10a3-4c72-ae4d-abc4a9ff7d2f",
   "metadata": {},
   "outputs": [],
   "source": [
    "#상수와 허수를 나타냄\n",
    "c = 1 - 4j"
   ]
  },
  {
   "cell_type": "code",
   "execution_count": 31,
   "id": "958f1e9a-a49a-4ea4-ae5e-35aab8b03a93",
   "metadata": {},
   "outputs": [
    {
     "data": {
      "text/plain": [
       "(1-4j)"
      ]
     },
     "execution_count": 31,
     "metadata": {},
     "output_type": "execute_result"
    }
   ],
   "source": [
    "c"
   ]
  },
  {
   "cell_type": "code",
   "execution_count": 33,
   "id": "689c81d0-0a74-4e99-b898-ecc26e95eba5",
   "metadata": {},
   "outputs": [
    {
     "data": {
      "text/plain": [
       "complex"
      ]
     },
     "execution_count": 33,
     "metadata": {},
     "output_type": "execute_result"
    }
   ],
   "source": [
    "type(c)"
   ]
  },
  {
   "cell_type": "code",
   "execution_count": 35,
   "id": "f0de7db8-ba5b-45b2-a930-81fb0168ce18",
   "metadata": {},
   "outputs": [
    {
     "data": {
      "text/plain": [
       "-4.0"
      ]
     },
     "execution_count": 35,
     "metadata": {},
     "output_type": "execute_result"
    }
   ],
   "source": [
    "#허수출력\n",
    "c.imag"
   ]
  },
  {
   "cell_type": "code",
   "execution_count": 37,
   "id": "cfdb2031-1e3a-4617-aefe-b769ea4c55d4",
   "metadata": {},
   "outputs": [
    {
     "data": {
      "text/plain": [
       "1.0"
      ]
     },
     "execution_count": 37,
     "metadata": {},
     "output_type": "execute_result"
    }
   ],
   "source": [
    "#상수출력\n",
    "c.real"
   ]
  },
  {
   "cell_type": "markdown",
   "id": "b7ba796c-c372-4ec2-a666-3a73acd3f81b",
   "metadata": {},
   "source": [
    "### 1.2 Boolean\n",
    "\n",
    "True, False로 이루어진 타입"
   ]
  },
  {
   "cell_type": "code",
   "execution_count": 63,
   "id": "9d1d6e0f-d027-4819-b02b-e4e1641dc787",
   "metadata": {},
   "outputs": [],
   "source": [
    "a = True"
   ]
  },
  {
   "cell_type": "code",
   "execution_count": 64,
   "id": "660adaa5-5e09-4c31-b10b-b07dfc80f5a1",
   "metadata": {},
   "outputs": [
    {
     "data": {
      "text/plain": [
       "bool"
      ]
     },
     "execution_count": 64,
     "metadata": {},
     "output_type": "execute_result"
    }
   ],
   "source": [
    "type(a)"
   ]
  },
  {
   "cell_type": "code",
   "execution_count": 44,
   "id": "3ae24680-16b8-4c20-bca0-947f87eaaf52",
   "metadata": {},
   "outputs": [],
   "source": [
    "b = False"
   ]
  },
  {
   "cell_type": "code",
   "execution_count": 45,
   "id": "4dfe965e-a443-4c6b-be7d-070d327061e8",
   "metadata": {},
   "outputs": [
    {
     "data": {
      "text/plain": [
       "bool"
      ]
     },
     "execution_count": 45,
     "metadata": {},
     "output_type": "execute_result"
    }
   ],
   "source": [
    "type(b)"
   ]
  },
  {
   "cell_type": "code",
   "execution_count": 46,
   "id": "8adf1dff-6b92-4c5b-9100-82eb69de6dcf",
   "metadata": {},
   "outputs": [
    {
     "data": {
      "text/plain": [
       "False"
      ]
     },
     "execution_count": 46,
     "metadata": {},
     "output_type": "execute_result"
    }
   ],
   "source": [
    "bool(0)"
   ]
  },
  {
   "cell_type": "code",
   "execution_count": 47,
   "id": "862c09d5-1bdf-402c-ab4a-05925f2390c2",
   "metadata": {},
   "outputs": [
    {
     "data": {
      "text/plain": [
       "True"
      ]
     },
     "execution_count": 47,
     "metadata": {},
     "output_type": "execute_result"
    }
   ],
   "source": [
    "bool(1)"
   ]
  },
  {
   "cell_type": "code",
   "execution_count": 50,
   "id": "41cbe2e7-cbe5-4e2f-8ec4-a23b7a76d11e",
   "metadata": {},
   "outputs": [
    {
     "data": {
      "text/plain": [
       "True"
      ]
     },
     "execution_count": 50,
     "metadata": {},
     "output_type": "execute_result"
    }
   ],
   "source": [
    "bool([1])"
   ]
  },
  {
   "cell_type": "markdown",
   "id": "765aa2a8-82a2-4a01-8594-42a0779b6eb2",
   "metadata": {},
   "source": [
    "### 1.3 None"
   ]
  },
  {
   "cell_type": "code",
   "execution_count": 65,
   "id": "996747cf-a409-4b21-99b5-cf2dcf40cb33",
   "metadata": {},
   "outputs": [],
   "source": [
    "a = None"
   ]
  },
  {
   "cell_type": "code",
   "execution_count": 66,
   "id": "aab6ddcb-88c1-47e7-9b5c-ed9f0dda614d",
   "metadata": {},
   "outputs": [
    {
     "data": {
      "text/plain": [
       "NoneType"
      ]
     },
     "execution_count": 66,
     "metadata": {},
     "output_type": "execute_result"
    }
   ],
   "source": [
    "type(a)"
   ]
  },
  {
   "cell_type": "markdown",
   "id": "a44d14c9-88a1-409d-aace-dc7d83ba70f7",
   "metadata": {},
   "source": [
    "### 1.4 string\n",
    "\n",
    "- 문자열은 `'` `\"'를 이용하여 표현"
   ]
  },
  {
   "cell_type": "code",
   "execution_count": 229,
   "id": "0ad676dc-21e9-4e8d-bdab-badd3906c30a",
   "metadata": {},
   "outputs": [],
   "source": [
    "a = 'Hello'"
   ]
  },
  {
   "cell_type": "code",
   "execution_count": 230,
   "id": "47794cba-1442-40dd-8408-647c4a34d9a5",
   "metadata": {},
   "outputs": [
    {
     "data": {
      "text/plain": [
       "str"
      ]
     },
     "execution_count": 230,
     "metadata": {},
     "output_type": "execute_result"
    }
   ],
   "source": [
    "type(a)"
   ]
  },
  {
   "cell_type": "code",
   "execution_count": 61,
   "id": "7effa9e1-48a0-493a-a81a-a8f0d644cd1e",
   "metadata": {},
   "outputs": [],
   "source": [
    "b = \"world\""
   ]
  },
  {
   "cell_type": "code",
   "execution_count": 62,
   "id": "284fb2df-7ea9-4abd-8e7e-a9f665eec58e",
   "metadata": {},
   "outputs": [
    {
     "data": {
      "text/plain": [
       "str"
      ]
     },
     "execution_count": 62,
     "metadata": {},
     "output_type": "execute_result"
    }
   ],
   "source": [
    "type(b)"
   ]
  },
  {
   "cell_type": "code",
   "execution_count": 69,
   "id": "3846db7c-3a33-4d17-b942-13ae50831e8a",
   "metadata": {},
   "outputs": [
    {
     "name": "stdin",
     "output_type": "stream",
     "text": [
      " 123\n"
     ]
    },
    {
     "name": "stdout",
     "output_type": "stream",
     "text": [
      "123\n",
      "<class 'str'>\n"
     ]
    }
   ],
   "source": [
    "age = input()\n",
    "print(age)\n",
    "print(type(age))"
   ]
  },
  {
   "cell_type": "code",
   "execution_count": 72,
   "id": "77405b39-c5d2-4b01-a73d-b9efb4639f55",
   "metadata": {},
   "outputs": [
    {
     "ename": "SyntaxError",
     "evalue": "invalid syntax. Perhaps you forgot a comma? (2892615836.py, line 1)",
     "output_type": "error",
     "traceback": [
      "\u001b[1;36m  Cell \u001b[1;32mIn[72], line 1\u001b[1;36m\u001b[0m\n\u001b[1;33m    print('안녕하세요? '박준범'입니다.')\u001b[0m\n\u001b[1;37m          ^\u001b[0m\n\u001b[1;31mSyntaxError\u001b[0m\u001b[1;31m:\u001b[0m invalid syntax. Perhaps you forgot a comma?\n"
     ]
    }
   ],
   "source": [
    "print('안녕하세요? '박준범'입니다.')"
   ]
  },
  {
   "cell_type": "code",
   "execution_count": 73,
   "id": "ee518918-fe96-4a15-b89e-081db39bea1c",
   "metadata": {},
   "outputs": [
    {
     "name": "stdout",
     "output_type": "stream",
     "text": [
      "안녕하세요? '박준범'입니다.\n"
     ]
    }
   ],
   "source": [
    "print(\"안녕하세요? '박준범'입니다.\")"
   ]
  },
  {
   "cell_type": "code",
   "execution_count": 75,
   "id": "df705016-4551-4e7e-aba8-715423c1bdc9",
   "metadata": {},
   "outputs": [
    {
     "name": "stdout",
     "output_type": "stream",
     "text": [
      "안녕하세요? \"박준범\"입니다.\n"
     ]
    }
   ],
   "source": [
    "print('안녕하세요? \"박준범\"입니다.')"
   ]
  },
  {
   "cell_type": "code",
   "execution_count": 231,
   "id": "d1c811c5-9046-4b1b-9c4b-a0bdfda51533",
   "metadata": {},
   "outputs": [
    {
     "name": "stdout",
     "output_type": "stream",
     "text": [
      "안녕하세요? '박준범'입니다.\n"
     ]
    }
   ],
   "source": [
    "#작은따옴표 안에 작은따옴표 출력 시 \\' 를 활용하자\n",
    "print('안녕하세요? \\'박준범\\'입니다.')"
   ]
  },
  {
   "cell_type": "code",
   "execution_count": 77,
   "id": "8867c161-5fa4-49ae-b710-47eb5fbb308a",
   "metadata": {},
   "outputs": [],
   "source": [
    "a = '''\n",
    "여기는 문자열입니다.\n",
    "엔터를 쳐서 여러줄을 작성할 수 있습니다.\n",
    "'''"
   ]
  },
  {
   "cell_type": "code",
   "execution_count": 78,
   "id": "ac88f357-894c-438e-ad53-39b56c2a7de9",
   "metadata": {},
   "outputs": [
    {
     "name": "stdout",
     "output_type": "stream",
     "text": [
      "\n",
      "여기는 문자열입니다.\n",
      "엔터를 쳐서 여러줄을 작성할 수 있습니다.\n",
      "\n"
     ]
    }
   ],
   "source": [
    "print(a)"
   ]
  },
  {
   "cell_type": "code",
   "execution_count": 80,
   "id": "2cd51721-902b-43c8-ae80-745da52dd6b0",
   "metadata": {},
   "outputs": [
    {
     "name": "stdout",
     "output_type": "stream",
     "text": [
      "엔터를 입력해봐요 \n",
      "다음줄입니다. \t들여쓰기도 가능합니다\n"
     ]
    }
   ],
   "source": [
    "print('엔터를 입력해봐요 \\n다음줄입니다. \\t들여쓰기도 가능합니다')"
   ]
  },
  {
   "cell_type": "code",
   "execution_count": 87,
   "id": "91cd400e-d939-417b-84b5-7560cb41f3eb",
   "metadata": {},
   "outputs": [
    {
     "name": "stdout",
     "output_type": "stream",
     "text": [
      "하나\t둘\t셋\n"
     ]
    }
   ],
   "source": [
    "print('하나', '둘', '셋', sep='\\t')"
   ]
  },
  {
   "cell_type": "markdown",
   "id": "5a80c0cb-8e94-4ab2-a563-1fb58cd1e0c1",
   "metadata": {},
   "source": [
    "#### string interpolation\n",
    "1. %-formatting\n",
    "2. str.format()\n",
    "3. f-string"
   ]
  },
  {
   "cell_type": "code",
   "execution_count": 2,
   "id": "aa254adc-b440-44af-ae81-e91c0e7a6401",
   "metadata": {},
   "outputs": [],
   "source": [
    "age = 20"
   ]
  },
  {
   "cell_type": "code",
   "execution_count": 88,
   "id": "2a231d05-99d4-45d7-8a84-d21fc38dbaca",
   "metadata": {},
   "outputs": [
    {
     "name": "stdout",
     "output_type": "stream",
     "text": [
      "홍길동은 20 살입니다.\n"
     ]
    }
   ],
   "source": [
    "print('홍길동은 %s살입니다.' % age)"
   ]
  },
  {
   "cell_type": "code",
   "execution_count": 91,
   "id": "69a630f5-11cf-4b80-b4cb-634e4de84b2b",
   "metadata": {},
   "outputs": [
    {
     "name": "stdout",
     "output_type": "stream",
     "text": [
      "홍길동은 20살입니다.\n"
     ]
    }
   ],
   "source": [
    "print('홍길동은 {}살입니다.'.format(age))"
   ]
  },
  {
   "cell_type": "code",
   "execution_count": 3,
   "id": "32949b39-f146-46bf-90f2-3e04cc5aafe7",
   "metadata": {},
   "outputs": [
    {
     "name": "stdout",
     "output_type": "stream",
     "text": [
      "홍길동은 20살입니다.\n"
     ]
    }
   ],
   "source": [
    "# 변수를 포함한 출력은 f함수를 자주사용함.\n",
    "print(f'홍길동은 {age}살입니다.')"
   ]
  },
  {
   "cell_type": "markdown",
   "id": "fc2d387c-4bf2-4cbb-80fa-c51480da6c13",
   "metadata": {},
   "source": [
    "## 2. 연산자\n",
    "### 2.1 산술연선자"
   ]
  },
  {
   "cell_type": "code",
   "execution_count": 101,
   "id": "8a90ff66-80f5-407e-9d9b-24ca8f1efd26",
   "metadata": {},
   "outputs": [],
   "source": [
    "a = 2\n",
    "b = 3"
   ]
  },
  {
   "cell_type": "code",
   "execution_count": 102,
   "id": "c5d63ab1-7760-4102-8b87-8094b52fca09",
   "metadata": {},
   "outputs": [
    {
     "name": "stdout",
     "output_type": "stream",
     "text": [
      "5\n",
      "-1\n",
      "6\n",
      "0.6666666666666666\n",
      "8\n"
     ]
    }
   ],
   "source": [
    "print(a + b)\n",
    "print(a - b)\n",
    "print(a * b)\n",
    "print(a / b)\n",
    "print(a ** b)"
   ]
  },
  {
   "cell_type": "code",
   "execution_count": 106,
   "id": "e0ca8424-c567-4d6e-ae8d-a2ce2ada4200",
   "metadata": {},
   "outputs": [
    {
     "name": "stdout",
     "output_type": "stream",
     "text": [
      "0\n",
      "2\n",
      "(0, 2)\n"
     ]
    }
   ],
   "source": [
    "# a를 b로 나눈 몫\n",
    "print(a // b)\n",
    "# a를 b로 나누고 나머지 출력\n",
    "print(a % b)\n",
    "# a를 b로 나누고 나눈 몫, 나머지 출력\n",
    "print(divmod(a, b))"
   ]
  },
  {
   "cell_type": "markdown",
   "id": "a0996c15-bf53-4cc8-be81-8ddf3a73e861",
   "metadata": {},
   "source": [
    "### 2.2 비교연산자"
   ]
  },
  {
   "cell_type": "code",
   "execution_count": 107,
   "id": "33537279-0876-4f7c-90c0-abefaed43f93",
   "metadata": {},
   "outputs": [],
   "source": [
    "a = 5\n",
    "b = 10"
   ]
  },
  {
   "cell_type": "code",
   "execution_count": 110,
   "id": "24b33a46-f556-4f7d-9871-a2bf1bb3ba33",
   "metadata": {},
   "outputs": [
    {
     "name": "stdout",
     "output_type": "stream",
     "text": [
      "False\n",
      "True\n",
      "False\n",
      "True\n"
     ]
    }
   ],
   "source": [
    "print(a > b)\n",
    "print(a < b)\n",
    "print(a >= b)\n",
    "print(a <= b)"
   ]
  },
  {
   "cell_type": "code",
   "execution_count": 111,
   "id": "122450ee-5002-4432-a877-07a9565917bf",
   "metadata": {},
   "outputs": [
    {
     "name": "stdout",
     "output_type": "stream",
     "text": [
      "False\n",
      "True\n"
     ]
    }
   ],
   "source": [
    "print(a == b)\n",
    "print(a != b)"
   ]
  },
  {
   "cell_type": "code",
   "execution_count": 113,
   "id": "49602396-bf4e-480c-93a4-93cc74684c86",
   "metadata": {},
   "outputs": [
    {
     "name": "stdout",
     "output_type": "stream",
     "text": [
      "True\n",
      "False\n"
     ]
    }
   ],
   "source": [
    "print('hi' == 'hi')\n",
    "print('HI' == 'hi')"
   ]
  },
  {
   "cell_type": "markdown",
   "id": "3644711e-0ae7-4ff0-bb9d-8d26cf5ac97f",
   "metadata": {},
   "source": [
    "### 2.3 논리연산자\n",
    "\n",
    "- and : 양쪽 모두 True일 때, True를 반환\n",
    "- or : 양쪽 모두 False일 때, False를 반환\n",
    "- not"
   ]
  },
  {
   "cell_type": "code",
   "execution_count": 115,
   "id": "fe468a57-43fb-496d-aab8-1b82c7eeeb8a",
   "metadata": {},
   "outputs": [
    {
     "name": "stdout",
     "output_type": "stream",
     "text": [
      "True\n",
      "False\n",
      "False\n",
      "False\n"
     ]
    }
   ],
   "source": [
    "print(True and True)\n",
    "print(True and False)\n",
    "print(False and True)\n",
    "print(False and False)"
   ]
  },
  {
   "cell_type": "code",
   "execution_count": 116,
   "id": "e286c33c-95fc-49f4-b86b-aeb909507401",
   "metadata": {},
   "outputs": [
    {
     "name": "stdout",
     "output_type": "stream",
     "text": [
      "True\n",
      "True\n",
      "True\n",
      "False\n"
     ]
    }
   ],
   "source": [
    "print(True or True)\n",
    "print(True or False)\n",
    "print(False or True)\n",
    "print(False or False)"
   ]
  },
  {
   "cell_type": "code",
   "execution_count": 117,
   "id": "4dfee231-a9e1-4d40-8ed9-04b9f90ff308",
   "metadata": {},
   "outputs": [
    {
     "name": "stdout",
     "output_type": "stream",
     "text": [
      "True\n",
      "False\n"
     ]
    }
   ],
   "source": [
    "print(True)\n",
    "print(not True)"
   ]
  },
  {
   "cell_type": "code",
   "execution_count": 118,
   "id": "93e6cb20-b8e6-41f1-ac1d-b30ed9ec0e97",
   "metadata": {},
   "outputs": [
    {
     "name": "stdout",
     "output_type": "stream",
     "text": [
      "5\n",
      "0\n",
      "0\n",
      "0\n"
     ]
    }
   ],
   "source": [
    "# 단축평가(and)\n",
    "print(3 and 5)\n",
    "print(3 and 0)\n",
    "print(0 and 5)\n",
    "print(0 and 0)"
   ]
  },
  {
   "cell_type": "code",
   "execution_count": 119,
   "id": "98dd721a-59f6-4b5a-b07c-67e9eda13553",
   "metadata": {},
   "outputs": [
    {
     "name": "stdout",
     "output_type": "stream",
     "text": [
      "3\n",
      "3\n",
      "5\n",
      "0\n"
     ]
    }
   ],
   "source": [
    "# 단축평가(or)\n",
    "print(3 or 5)\n",
    "print(3 or 0)\n",
    "print(0 or 5)\n",
    "print(0 or 0)"
   ]
  },
  {
   "cell_type": "markdown",
   "id": "ba16abcb-e3b1-476d-a1e9-0068c28a30a3",
   "metadata": {},
   "source": [
    "### 2.3 복합연산자"
   ]
  },
  {
   "cell_type": "code",
   "execution_count": 124,
   "id": "6e063065-4ee6-4a58-9498-9c0fd9918bc0",
   "metadata": {},
   "outputs": [],
   "source": [
    "a = 1\n",
    "b = 2"
   ]
  },
  {
   "cell_type": "code",
   "execution_count": 125,
   "id": "ba06ff4d-000c-49b7-94ac-07005038f295",
   "metadata": {},
   "outputs": [],
   "source": [
    "a = a + b\n",
    "a = a - b\n",
    "a = a * b\n",
    "a = a / b\n",
    "a = a // b\n",
    "a = a % b\n",
    "a = a ** b"
   ]
  },
  {
   "cell_type": "code",
   "execution_count": 126,
   "id": "9d7ce715-96d6-4da8-81c8-d91a1bdee433",
   "metadata": {},
   "outputs": [],
   "source": [
    "a += b\n",
    "a -= b\n",
    "a *= b\n",
    "a /= b\n",
    "a //= b\n",
    "a %= b\n",
    "a **= b"
   ]
  },
  {
   "cell_type": "markdown",
   "id": "7d82036b-d9fe-4090-a471-563a88831668",
   "metadata": {},
   "source": [
    "### 2.4 기타연산자"
   ]
  },
  {
   "cell_type": "code",
   "execution_count": 135,
   "id": "d4c06635-0b62-446f-8831-4175898ea149",
   "metadata": {},
   "outputs": [],
   "source": [
    "a = 'hi!'\n",
    "b = 'hello'"
   ]
  },
  {
   "cell_type": "code",
   "execution_count": 136,
   "id": "0790ff66-53a8-4576-8501-06228af83f5f",
   "metadata": {},
   "outputs": [
    {
     "data": {
      "text/plain": [
       "'hi!hello'"
      ]
     },
     "execution_count": 136,
     "metadata": {},
     "output_type": "execute_result"
    }
   ],
   "source": [
    "# concatenation\n",
    "a + b"
   ]
  },
  {
   "cell_type": "code",
   "execution_count": 137,
   "id": "e3e8f753-5e31-4d4d-bd11-d517bd97dbf3",
   "metadata": {},
   "outputs": [],
   "source": [
    "a = [1, 2, 3]\n",
    "b = [4, 5, 6]"
   ]
  },
  {
   "cell_type": "code",
   "execution_count": 138,
   "id": "08074019-7503-4f6a-9fb8-4126042b447c",
   "metadata": {},
   "outputs": [
    {
     "data": {
      "text/plain": [
       "[1, 2, 3, 4, 5, 6]"
      ]
     },
     "execution_count": 138,
     "metadata": {},
     "output_type": "execute_result"
    }
   ],
   "source": [
    "# concatenation\n",
    "a + b"
   ]
  },
  {
   "cell_type": "code",
   "execution_count": 139,
   "id": "45b9935f-b05b-4632-a9b5-3bd4467d8dad",
   "metadata": {},
   "outputs": [
    {
     "name": "stdout",
     "output_type": "stream",
     "text": [
      "True\n",
      "False\n"
     ]
    }
   ],
   "source": [
    "#containment\n",
    "print('a' in 'apple')\n",
    "print('z' in 'apple')"
   ]
  },
  {
   "cell_type": "code",
   "execution_count": 140,
   "id": "f9b86fe6-1550-49de-ab72-21c288871309",
   "metadata": {},
   "outputs": [
    {
     "name": "stdout",
     "output_type": "stream",
     "text": [
      "True\n",
      "False\n"
     ]
    }
   ],
   "source": [
    "#containment\n",
    "print(1 in [1,2,3])\n",
    "print(10 in [1,2,3])"
   ]
  },
  {
   "cell_type": "code",
   "execution_count": 144,
   "id": "1d388c80-f63a-4927-9008-5767db373c13",
   "metadata": {},
   "outputs": [
    {
     "name": "stdout",
     "output_type": "stream",
     "text": [
      "True\n",
      "140734072415016\n",
      "140734072415016\n"
     ]
    }
   ],
   "source": [
    "#idnetity\n",
    "a = 1\n",
    "b = 1\n",
    "print(a is b)\n",
    "print(id(a))\n",
    "print(id(b))"
   ]
  },
  {
   "cell_type": "code",
   "execution_count": 148,
   "id": "f84699e7-9151-49ab-94ff-cfa72f1ab72f",
   "metadata": {},
   "outputs": [
    {
     "name": "stdout",
     "output_type": "stream",
     "text": [
      "False\n",
      "2376935718512\n",
      "2376935715728\n"
     ]
    }
   ],
   "source": [
    "#identity\n",
    "#파이썬에선 1~256까지만 동일 객체의 주소로 보기 때문에 257이상의 숫자를 비교하면 false가 출력됌.\n",
    "a = 123123\n",
    "b = 123123\n",
    "print(a is b)\n",
    "print(id(a))\n",
    "print(id(b))"
   ]
  },
  {
   "cell_type": "markdown",
   "id": "f0c98e57-a5b5-443d-823c-1625ec277d4d",
   "metadata": {},
   "source": [
    "#### 우선순위 연산자\n",
    "\n",
    "0. ()를 통한 그룹\n",
    "1. **\n",
    "2. 산술연산자(*,/)\n",
    "3. 산술연산자(+,-)\n",
    "4. 비교연산자(in, is)\n",
    "5. not\n",
    "6. and\n",
    "7. or"
   ]
  },
  {
   "cell_type": "code",
   "execution_count": 149,
   "id": "88b4180a-16c0-475d-bc71-7a8a3974a1d0",
   "metadata": {},
   "outputs": [
    {
     "name": "stdout",
     "output_type": "stream",
     "text": [
      "-81\n",
      "81\n"
     ]
    }
   ],
   "source": [
    "print(-3 ** 4)\n",
    "print((-3) ** 4)"
   ]
  },
  {
   "cell_type": "markdown",
   "id": "efae5531-9f0c-45ff-a3b7-27c9a80a6c44",
   "metadata": {},
   "source": [
    "## 3. 형변환\n",
    "### 3.1 암시적 형변환"
   ]
  },
  {
   "cell_type": "code",
   "execution_count": 152,
   "id": "b4ff9776-778d-4eaf-9d8e-7c3aec278868",
   "metadata": {},
   "outputs": [],
   "source": [
    "a = True\n",
    "b = False\n",
    "c = 1"
   ]
  },
  {
   "cell_type": "code",
   "execution_count": 153,
   "id": "260b9aad-b6c4-49a8-801d-020862ea14aa",
   "metadata": {},
   "outputs": [
    {
     "name": "stdout",
     "output_type": "stream",
     "text": [
      "2\n",
      "1\n"
     ]
    }
   ],
   "source": [
    "print(a + c)\n",
    "print(b + c)"
   ]
  },
  {
   "cell_type": "code",
   "execution_count": 154,
   "id": "29ea7983-44b2-4c26-9dce-4ca731616b21",
   "metadata": {},
   "outputs": [],
   "source": [
    "int_num = 3\n",
    "float_num = 3.3\n",
    "complex_num = 1 + 3j"
   ]
  },
  {
   "cell_type": "code",
   "execution_count": 156,
   "id": "7b948fc8-bbf8-46eb-9736-2ef057de23b8",
   "metadata": {},
   "outputs": [
    {
     "name": "stdout",
     "output_type": "stream",
     "text": [
      "6.3\n",
      "(4+3j)\n"
     ]
    }
   ],
   "source": [
    "print(int_num + float_num)\n",
    "print(int_num + complex_num)"
   ]
  },
  {
   "cell_type": "markdown",
   "id": "350c1844-f5cd-424d-b189-c24001c1a0f1",
   "metadata": {},
   "source": [
    "### 3.2 명시적 형변환\n",
    "\n",
    "- int() : string, float를 int로 변환\n",
    "- float() : string, int를 float로 변환\n",
    "- str() : int, float 등을 string으로 변환\n",
    "- bool() : int, list 등을 boolean으로 변환"
   ]
  },
  {
   "cell_type": "code",
   "execution_count": 157,
   "id": "7e5f2dd4-69cc-4d89-a2e0-9caf93265b0f",
   "metadata": {},
   "outputs": [],
   "source": [
    "a = 1\n",
    "b = '번'"
   ]
  },
  {
   "cell_type": "code",
   "execution_count": 158,
   "id": "0bc6698b-fc4b-4e29-a0c0-e2075047ce52",
   "metadata": {},
   "outputs": [
    {
     "ename": "TypeError",
     "evalue": "unsupported operand type(s) for +: 'int' and 'str'",
     "output_type": "error",
     "traceback": [
      "\u001b[1;31m---------------------------------------------------------------------------\u001b[0m",
      "\u001b[1;31mTypeError\u001b[0m                                 Traceback (most recent call last)",
      "Cell \u001b[1;32mIn[158], line 1\u001b[0m\n\u001b[1;32m----> 1\u001b[0m \u001b[38;5;28mprint\u001b[39m(\u001b[43ma\u001b[49m\u001b[43m \u001b[49m\u001b[38;5;241;43m+\u001b[39;49m\u001b[43m \u001b[49m\u001b[43mb\u001b[49m)\n",
      "\u001b[1;31mTypeError\u001b[0m: unsupported operand type(s) for +: 'int' and 'str'"
     ]
    }
   ],
   "source": [
    "print(a + b)"
   ]
  },
  {
   "cell_type": "code",
   "execution_count": 159,
   "id": "64e4f0f6-f828-49a4-8864-89c9f42b6e09",
   "metadata": {},
   "outputs": [
    {
     "name": "stdout",
     "output_type": "stream",
     "text": [
      "1번\n"
     ]
    }
   ],
   "source": [
    "print(str(a) + b)"
   ]
  },
  {
   "cell_type": "code",
   "execution_count": 160,
   "id": "1a7c031a-ada7-40c8-ad87-7d3441fd00ea",
   "metadata": {},
   "outputs": [],
   "source": [
    "a = '3'"
   ]
  },
  {
   "cell_type": "code",
   "execution_count": 161,
   "id": "cf448f73-27c5-4779-abb7-356b543211a7",
   "metadata": {},
   "outputs": [
    {
     "data": {
      "text/plain": [
       "3"
      ]
     },
     "execution_count": 161,
     "metadata": {},
     "output_type": "execute_result"
    }
   ],
   "source": [
    "int(a)"
   ]
  },
  {
   "cell_type": "code",
   "execution_count": 162,
   "id": "4175e41e-cd98-4394-aa22-eade6fcab36d",
   "metadata": {},
   "outputs": [
    {
     "data": {
      "text/plain": [
       "int"
      ]
     },
     "execution_count": 162,
     "metadata": {},
     "output_type": "execute_result"
    }
   ],
   "source": [
    "type(int(a))"
   ]
  },
  {
   "cell_type": "code",
   "execution_count": 163,
   "id": "23452b21-f43b-4f32-972e-00c60c6a146a",
   "metadata": {},
   "outputs": [],
   "source": [
    "a = '3.3'"
   ]
  },
  {
   "cell_type": "code",
   "execution_count": 164,
   "id": "76f7e1b7-c68c-4caf-8197-6dbfc259fdbc",
   "metadata": {},
   "outputs": [
    {
     "ename": "ValueError",
     "evalue": "invalid literal for int() with base 10: '3.3'",
     "output_type": "error",
     "traceback": [
      "\u001b[1;31m---------------------------------------------------------------------------\u001b[0m",
      "\u001b[1;31mValueError\u001b[0m                                Traceback (most recent call last)",
      "Cell \u001b[1;32mIn[164], line 1\u001b[0m\n\u001b[1;32m----> 1\u001b[0m \u001b[38;5;28mtype\u001b[39m(\u001b[38;5;28;43mint\u001b[39;49m\u001b[43m(\u001b[49m\u001b[43ma\u001b[49m\u001b[43m)\u001b[49m)\n",
      "\u001b[1;31mValueError\u001b[0m: invalid literal for int() with base 10: '3.3'"
     ]
    }
   ],
   "source": [
    "type(int(a))"
   ]
  },
  {
   "cell_type": "code",
   "execution_count": 165,
   "id": "605053cd-b58e-4973-85e1-900cb40b9088",
   "metadata": {},
   "outputs": [
    {
     "data": {
      "text/plain": [
       "float"
      ]
     },
     "execution_count": 165,
     "metadata": {},
     "output_type": "execute_result"
    }
   ],
   "source": [
    "type(float(a))"
   ]
  },
  {
   "cell_type": "code",
   "execution_count": 166,
   "id": "81972558-74ac-426d-b82c-21d862730fd7",
   "metadata": {},
   "outputs": [],
   "source": [
    "a = 1\n",
    "b = 0"
   ]
  },
  {
   "cell_type": "code",
   "execution_count": 167,
   "id": "ec56b24a-5e44-4847-a229-f98d6b694979",
   "metadata": {},
   "outputs": [
    {
     "data": {
      "text/plain": [
       "True"
      ]
     },
     "execution_count": 167,
     "metadata": {},
     "output_type": "execute_result"
    }
   ],
   "source": [
    "bool(a)"
   ]
  },
  {
   "cell_type": "code",
   "execution_count": 168,
   "id": "33fe7874-2a14-4f32-bb68-e7c2a89caebe",
   "metadata": {},
   "outputs": [
    {
     "data": {
      "text/plain": [
       "False"
      ]
     },
     "execution_count": 168,
     "metadata": {},
     "output_type": "execute_result"
    }
   ],
   "source": [
    "bool(b)"
   ]
  },
  {
   "cell_type": "code",
   "execution_count": 171,
   "id": "6da95b20-aad7-4ba8-8abc-f5345ae39675",
   "metadata": {},
   "outputs": [
    {
     "name": "stdout",
     "output_type": "stream",
     "text": [
      "False\n",
      "True\n"
     ]
    }
   ],
   "source": [
    "print(bool([]))\n",
    "print(bool([1,2,3]))"
   ]
  },
  {
   "cell_type": "markdown",
   "id": "c65fcbec-3e1b-4590-beb1-d99c3e6de43b",
   "metadata": {},
   "source": [
    "## 4. 시퀀스(sequence) 자료형\n",
    "\n",
    "시퀀스는 데이터의 순서대로 나열된 자료구조. (순서대로 나열되어 있다는 것은 정렬된 것과 다르다.)\n",
    "\n",
    "1. 리스트\n",
    "2. 튜플\n",
    "3. 레이지\n",
    "4. 문자열"
   ]
  },
  {
   "cell_type": "markdown",
   "id": "3f7e7db6-ed2f-4111-b3fb-7cc07ae25025",
   "metadata": {},
   "source": [
    "### 4.1 List(배열)\n",
    "\n",
    "- 선언 : 변수이름 = [value1, value2, value3, ...]\n",
    "- 접근 : 변수이름[index]"
   ]
  },
  {
   "cell_type": "code",
   "execution_count": 174,
   "id": "30292e94-fc2d-43cb-ba63-f07fbc8e62b4",
   "metadata": {},
   "outputs": [
    {
     "name": "stdout",
     "output_type": "stream",
     "text": [
      "[]\n",
      "<class 'list'>\n"
     ]
    }
   ],
   "source": [
    "l = []\n",
    "print(l)\n",
    "print(type(l))"
   ]
  },
  {
   "cell_type": "code",
   "execution_count": 175,
   "id": "b02c99f9-ba78-47b4-8305-639d63e5617a",
   "metadata": {},
   "outputs": [
    {
     "name": "stdout",
     "output_type": "stream",
     "text": [
      "['서울', '대구', '대전']\n",
      "서울\n"
     ]
    }
   ],
   "source": [
    "location = ['서울', '대구', '대전']\n",
    "print(location)\n",
    "print(location[0])"
   ]
  },
  {
   "cell_type": "code",
   "execution_count": 176,
   "id": "606eef89-f7d0-45d0-9e1b-6f32fec4efe8",
   "metadata": {},
   "outputs": [
    {
     "name": "stdout",
     "output_type": "stream",
     "text": [
      "대구\n"
     ]
    }
   ],
   "source": [
    "print(location[1])"
   ]
  },
  {
   "cell_type": "markdown",
   "id": "e8b62636-81fa-4a49-bd38-2ff5a685e13c",
   "metadata": {},
   "source": [
    "### 4.2 Tuple()\n",
    "- 선언 : 변수이름 = (value1, value2, value3)\n",
    "- 접근 : 변수이름[index]\n",
    "- 리스트와 유사하지만 수정 불가능(immutable)함"
   ]
  },
  {
   "cell_type": "code",
   "execution_count": 179,
   "id": "71ceab57-14d8-48bc-bcd3-0af90050e300",
   "metadata": {},
   "outputs": [
    {
     "name": "stdout",
     "output_type": "stream",
     "text": [
      "(1, 2, 3)\n",
      "<class 'tuple'>\n",
      "3\n"
     ]
    }
   ],
   "source": [
    "t = (1,2,3)\n",
    "print(t)\n",
    "print(type(t))\n",
    "print(t[2])"
   ]
  },
  {
   "cell_type": "code",
   "execution_count": 180,
   "id": "b68ce974-3433-48b5-a98d-1afab9601aaa",
   "metadata": {},
   "outputs": [
    {
     "ename": "TypeError",
     "evalue": "'tuple' object does not support item assignment",
     "output_type": "error",
     "traceback": [
      "\u001b[1;31m---------------------------------------------------------------------------\u001b[0m",
      "\u001b[1;31mTypeError\u001b[0m                                 Traceback (most recent call last)",
      "Cell \u001b[1;32mIn[180], line 1\u001b[0m\n\u001b[1;32m----> 1\u001b[0m \u001b[43mt\u001b[49m\u001b[43m[\u001b[49m\u001b[38;5;241;43m2\u001b[39;49m\u001b[43m]\u001b[49m \u001b[38;5;241m=\u001b[39m \u001b[38;5;241m5\u001b[39m\n",
      "\u001b[1;31mTypeError\u001b[0m: 'tuple' object does not support item assignment"
     ]
    }
   ],
   "source": [
    "t[2] = 5"
   ]
  },
  {
   "cell_type": "code",
   "execution_count": 183,
   "id": "8db9389e-71b0-41fc-ac7d-5fb746c6b40c",
   "metadata": {},
   "outputs": [
    {
     "name": "stdout",
     "output_type": "stream",
     "text": [
      "1 2\n",
      "2 1\n"
     ]
    }
   ],
   "source": [
    "x,y = (1,2)\n",
    "print(x,y)\n",
    "\n",
    "x,y = y,x\n",
    "print(x,y)"
   ]
  },
  {
   "cell_type": "markdown",
   "id": "bb1ce612-d409-4d6a-a02c-40d3a5261642",
   "metadata": {},
   "source": [
    "### 4.3 range\n",
    "\n",
    "- range(n) : 0부터 n-1까지 범위\n",
    "- range(n,m) : n부터 m-1까지 범위\n",
    "- range(n,m,s) : n부터 m-1까지 +s만큼 증가하는 범위"
   ]
  },
  {
   "cell_type": "code",
   "execution_count": 184,
   "id": "b7bc2b11-922c-49fa-87d6-dc98c5232c52",
   "metadata": {},
   "outputs": [
    {
     "name": "stdout",
     "output_type": "stream",
     "text": [
      "<class 'range'>\n"
     ]
    }
   ],
   "source": [
    "a = range(1)\n",
    "print(type(a))"
   ]
  },
  {
   "cell_type": "code",
   "execution_count": 186,
   "id": "7bc8f6e9-6bcc-4669-9068-d95122863d26",
   "metadata": {},
   "outputs": [
    {
     "name": "stdout",
     "output_type": "stream",
     "text": [
      "range(0, 10)\n",
      "[0, 1, 2, 3, 4, 5, 6, 7, 8, 9]\n"
     ]
    }
   ],
   "source": [
    "a = range(10)\n",
    "print(a)\n",
    "print(list(a))"
   ]
  },
  {
   "cell_type": "code",
   "execution_count": 187,
   "id": "79145fbb-087d-49cd-88f3-0d20a90cec23",
   "metadata": {},
   "outputs": [
    {
     "name": "stdout",
     "output_type": "stream",
     "text": [
      "[5, 6, 7, 8, 9, 10, 11, 12, 13, 14]\n"
     ]
    }
   ],
   "source": [
    "a = range(5,15)\n",
    "print(list(a))"
   ]
  },
  {
   "cell_type": "code",
   "execution_count": 188,
   "id": "c2e34b8e-977d-4fc9-929f-3d92760f5645",
   "metadata": {},
   "outputs": [
    {
     "name": "stdout",
     "output_type": "stream",
     "text": [
      "[1, 3, 5, 7, 9]\n"
     ]
    }
   ],
   "source": [
    "a = range(1, 10, 2)\n",
    "print(list(a))"
   ]
  },
  {
   "cell_type": "code",
   "execution_count": 190,
   "id": "32e59d49-847b-4d69-b2a4-f29e4adde683",
   "metadata": {},
   "outputs": [
    {
     "name": "stdout",
     "output_type": "stream",
     "text": [
      "[-1, -2, -3, -4, -5, -6, -7, -8, -9]\n"
     ]
    }
   ],
   "source": [
    "a = range(-1, -10, -1)\n",
    "print(list(a))"
   ]
  },
  {
   "cell_type": "markdown",
   "id": "e293396a-79c0-4443-ae42-79e8c372f2ff",
   "metadata": {},
   "source": [
    "### 4.4 String\n",
    "기본 데이터 구조 참고"
   ]
  },
  {
   "cell_type": "markdown",
   "id": "14f0413f-a5ed-43d9-bad5-67aebbe11818",
   "metadata": {},
   "source": [
    "### 4.5 시퀀스에서 활용가능한 연산/함수"
   ]
  },
  {
   "cell_type": "code",
   "execution_count": 199,
   "id": "c8aaa262-eca7-444f-92b0-b708bb48137e",
   "metadata": {},
   "outputs": [],
   "source": [
    "my_list = [1,2,3,4,5]\n",
    "my_tuple = (1,2,3,4,5)\n",
    "my_range = range(1,100)\n",
    "my_string = '12345'"
   ]
  },
  {
   "cell_type": "code",
   "execution_count": 196,
   "id": "71aa7c0b-0f24-4f0e-858b-88117ce0a07b",
   "metadata": {},
   "outputs": [
    {
     "name": "stdout",
     "output_type": "stream",
     "text": [
      "2\n",
      "2\n",
      "2\n",
      "2\n"
     ]
    }
   ],
   "source": [
    "# indexing\n",
    "print(my_list[1])\n",
    "print(my_tuple[1])\n",
    "print(my_range[1])\n",
    "print(my_string[1])"
   ]
  },
  {
   "cell_type": "code",
   "execution_count": 198,
   "id": "00f6500f-45e9-464e-a673-54bd93310f43",
   "metadata": {},
   "outputs": [
    {
     "name": "stdout",
     "output_type": "stream",
     "text": [
      "[2, 3]\n",
      "(2, 3)\n",
      "range(2, 4)\n",
      "23\n"
     ]
    }
   ],
   "source": [
    "# slicing\n",
    "print(my_list[1:3])\n",
    "print(my_tuple[1:3])\n",
    "print(my_range[1:3])\n",
    "print(my_string[1:3])"
   ]
  },
  {
   "cell_type": "code",
   "execution_count": 202,
   "id": "f653ceb5-09de-4189-8b61-3d118f067844",
   "metadata": {},
   "outputs": [
    {
     "data": {
      "text/plain": [
       "[3, 5]"
      ]
     },
     "execution_count": 202,
     "metadata": {},
     "output_type": "execute_result"
    }
   ],
   "source": [
    "# slicing (k간격으로)\n",
    "list(my_range[2:6:2])"
   ]
  },
  {
   "cell_type": "code",
   "execution_count": 204,
   "id": "efea1f65-eeb7-4ee5-ab81-3fed9625018f",
   "metadata": {},
   "outputs": [
    {
     "name": "stdout",
     "output_type": "stream",
     "text": [
      "True\n",
      "True\n",
      "True\n",
      "True\n"
     ]
    }
   ],
   "source": [
    "# in\n",
    "print(1 in my_list)\n",
    "print(1 in my_tuple)\n",
    "print(1 in my_range)\n",
    "print('1' in my_string)"
   ]
  },
  {
   "cell_type": "code",
   "execution_count": 205,
   "id": "dfc43fe7-17b3-4686-9733-24208bcf689e",
   "metadata": {},
   "outputs": [
    {
     "name": "stdout",
     "output_type": "stream",
     "text": [
      "False\n",
      "False\n",
      "False\n",
      "False\n"
     ]
    }
   ],
   "source": [
    "# not in\n",
    "print(1 not in my_list)\n",
    "print(1 not in my_tuple)\n",
    "print(1 not in my_range)\n",
    "print('1' not in my_string)"
   ]
  },
  {
   "cell_type": "code",
   "execution_count": 206,
   "id": "6f753443-3b87-4af6-874b-6c776ef8fd4c",
   "metadata": {},
   "outputs": [
    {
     "name": "stdout",
     "output_type": "stream",
     "text": [
      "[1, 2, 3, 4, 5, 1, 2, 3]\n"
     ]
    }
   ],
   "source": [
    "# concatenation\n",
    "print(my_list + [1,2,3])"
   ]
  },
  {
   "cell_type": "code",
   "execution_count": 207,
   "id": "575c88e4-f712-48df-b479-ab9a6c28a979",
   "metadata": {
    "scrolled": true
   },
   "outputs": [
    {
     "name": "stdout",
     "output_type": "stream",
     "text": [
      "[0, 0, 0, 0, 0, 0, 0, 0, 0, 0]\n",
      "[[0, 0, 0, 0, 0, 0, 0, 0, 0, 0], [0, 0, 0, 0, 0, 0, 0, 0, 0, 0], [0, 0, 0, 0, 0, 0, 0, 0, 0, 0], [0, 0, 0, 0, 0, 0, 0, 0, 0, 0], [0, 0, 0, 0, 0, 0, 0, 0, 0, 0], [0, 0, 0, 0, 0, 0, 0, 0, 0, 0], [0, 0, 0, 0, 0, 0, 0, 0, 0, 0], [0, 0, 0, 0, 0, 0, 0, 0, 0, 0], [0, 0, 0, 0, 0, 0, 0, 0, 0, 0], [0, 0, 0, 0, 0, 0, 0, 0, 0, 0], [0, 0, 0, 0, 0, 0, 0, 0, 0, 0], [0, 0, 0, 0, 0, 0, 0, 0, 0, 0], [0, 0, 0, 0, 0, 0, 0, 0, 0, 0], [0, 0, 0, 0, 0, 0, 0, 0, 0, 0], [0, 0, 0, 0, 0, 0, 0, 0, 0, 0], [0, 0, 0, 0, 0, 0, 0, 0, 0, 0], [0, 0, 0, 0, 0, 0, 0, 0, 0, 0], [0, 0, 0, 0, 0, 0, 0, 0, 0, 0], [0, 0, 0, 0, 0, 0, 0, 0, 0, 0], [0, 0, 0, 0, 0, 0, 0, 0, 0, 0], [0, 0, 0, 0, 0, 0, 0, 0, 0, 0], [0, 0, 0, 0, 0, 0, 0, 0, 0, 0], [0, 0, 0, 0, 0, 0, 0, 0, 0, 0], [0, 0, 0, 0, 0, 0, 0, 0, 0, 0], [0, 0, 0, 0, 0, 0, 0, 0, 0, 0], [0, 0, 0, 0, 0, 0, 0, 0, 0, 0], [0, 0, 0, 0, 0, 0, 0, 0, 0, 0], [0, 0, 0, 0, 0, 0, 0, 0, 0, 0], [0, 0, 0, 0, 0, 0, 0, 0, 0, 0], [0, 0, 0, 0, 0, 0, 0, 0, 0, 0]]\n"
     ]
    }
   ],
   "source": [
    "# *\n",
    "print([0] * 10)\n",
    "print([[0] * 10] * 30)"
   ]
  },
  {
   "cell_type": "code",
   "execution_count": 208,
   "id": "c25211ac-a84d-4dbc-90ae-de551ce78585",
   "metadata": {},
   "outputs": [
    {
     "name": "stdout",
     "output_type": "stream",
     "text": [
      "5\n"
     ]
    }
   ],
   "source": [
    "print(len(my_list))"
   ]
  },
  {
   "cell_type": "code",
   "execution_count": 209,
   "id": "65c7dae1-2530-4fe9-a74e-1ec25e3a1b1b",
   "metadata": {},
   "outputs": [
    {
     "name": "stdout",
     "output_type": "stream",
     "text": [
      "1\n"
     ]
    }
   ],
   "source": [
    "print(min(my_list))"
   ]
  },
  {
   "cell_type": "code",
   "execution_count": 210,
   "id": "9e84597e-c391-4ed9-a168-fb4a1192d8c3",
   "metadata": {},
   "outputs": [
    {
     "name": "stdout",
     "output_type": "stream",
     "text": [
      "5\n"
     ]
    }
   ],
   "source": [
    "print(max(my_list))"
   ]
  },
  {
   "cell_type": "code",
   "execution_count": 211,
   "id": "addea3e7-7956-45d4-b43f-84c45f5463e3",
   "metadata": {},
   "outputs": [
    {
     "data": {
      "text/plain": [
       "1"
      ]
     },
     "execution_count": 211,
     "metadata": {},
     "output_type": "execute_result"
    }
   ],
   "source": [
    "my_list.count(1)"
   ]
  },
  {
   "cell_type": "markdown",
   "id": "ec0d14bb-0478-43a4-9520-1242da33d39f",
   "metadata": {},
   "source": [
    "## 5. 시퀀스데이터가 아닌 자료구조\n",
    "\n",
    "### 5.1 Set\n",
    "수학에서 사용하는 집합과 동일하게 처리 (중복된 값이 없음)\n",
    "\n",
    "- 선언 : 변수이름 = {value1, value2, value3,...}"
   ]
  },
  {
   "cell_type": "code",
   "execution_count": 213,
   "id": "f12de73a-7f00-4343-8d46-b980bf69a2af",
   "metadata": {},
   "outputs": [],
   "source": [
    "my_set_a = {1,2,3,4,5}\n",
    "my_set_b = {3,4,5,6,7}"
   ]
  },
  {
   "cell_type": "code",
   "execution_count": 217,
   "id": "a2041dbd-fb02-4fed-84ea-946a41e42276",
   "metadata": {},
   "outputs": [
    {
     "name": "stdout",
     "output_type": "stream",
     "text": [
      "{1, 2}\n",
      "{1, 2, 3, 4, 5, 6, 7}\n",
      "{3, 4, 5}\n"
     ]
    }
   ],
   "source": [
    "print(my_set_a - my_set_b)\n",
    "print(my_set_a | my_set_b)\n",
    "print(my_set_a & my_set_b)"
   ]
  },
  {
   "cell_type": "code",
   "execution_count": 219,
   "id": "6232908d-d02d-4428-a992-d8016f2512fb",
   "metadata": {},
   "outputs": [
    {
     "name": "stdout",
     "output_type": "stream",
     "text": [
      "{1, 2, 3, 4, 5, 6, 7}\n"
     ]
    }
   ],
   "source": [
    "my_list = [1,1,1,1,1,1,1,1,2,3,4,5,6,7]\n",
    "print(set(my_list))"
   ]
  },
  {
   "cell_type": "code",
   "execution_count": 220,
   "id": "2ad3209b-4b30-4dae-b90f-d97ad7057c90",
   "metadata": {},
   "outputs": [
    {
     "name": "stdout",
     "output_type": "stream",
     "text": [
      "[1, 2, 3, 4, 5, 6, 7]\n"
     ]
    }
   ],
   "source": [
    "print(list(set(my_list)))"
   ]
  },
  {
   "cell_type": "markdown",
   "id": "8aa7513c-dd74-4bbe-870f-ce12c0f6db10",
   "metadata": {},
   "source": [
    "### 5.2 Dictionary\n",
    "\n",
    "- 선언 : 변수이름 = {key1: value1, key2: value2, ...}\n",
    "- 접근 : 변수이름[key]\n",
    "\n",
    "- dictionary는 key와 value가 쌍으로 이루어져있다.\n",
    "- key에는 immutable한 모든 것을 사용 가능함(불변값 : string, integer 등)\n",
    "- value에는 모든 데이터 가능(list, dictionary도 가능)"
   ]
  },
  {
   "cell_type": "code",
   "execution_count": 222,
   "id": "62a4528e-d6c4-45a2-a6f7-253bd345866c",
   "metadata": {},
   "outputs": [
    {
     "data": {
      "text/plain": [
       "'02'"
      ]
     },
     "execution_count": 222,
     "metadata": {},
     "output_type": "execute_result"
    }
   ],
   "source": [
    "my_dict = {'서울': '02', '경기도': '031'}\n",
    "my_dict['서울']"
   ]
  },
  {
   "cell_type": "code",
   "execution_count": 223,
   "id": "13f606da-11a7-4a70-8759-0d98a662a4a3",
   "metadata": {},
   "outputs": [],
   "source": [
    "dict_a = {\n",
    "    'name': 'changhee',\n",
    "    'location': 'seoul',\n",
    "    'location': 'seoul2',\n",
    "}"
   ]
  },
  {
   "cell_type": "code",
   "execution_count": 225,
   "id": "1bc9d243-b841-4150-91d3-e4c63c5cb25e",
   "metadata": {},
   "outputs": [
    {
     "name": "stdout",
     "output_type": "stream",
     "text": [
      "{'name': 'changhee', 'location': 'seoul2'}\n"
     ]
    }
   ],
   "source": [
    "print(dict_a)"
   ]
  },
  {
   "cell_type": "code",
   "execution_count": 226,
   "id": "eaea5f9d-d13e-4b77-a64a-6f9582bcb0e0",
   "metadata": {},
   "outputs": [
    {
     "data": {
      "text/plain": [
       "dict_keys(['name', 'location'])"
      ]
     },
     "execution_count": 226,
     "metadata": {},
     "output_type": "execute_result"
    }
   ],
   "source": [
    "dict_a.keys()"
   ]
  },
  {
   "cell_type": "code",
   "execution_count": 227,
   "id": "0f3e8bab-e7ec-42a8-acff-fc35191f4b9d",
   "metadata": {},
   "outputs": [
    {
     "data": {
      "text/plain": [
       "dict_values(['changhee', 'seoul2'])"
      ]
     },
     "execution_count": 227,
     "metadata": {},
     "output_type": "execute_result"
    }
   ],
   "source": [
    "dict_a.values()"
   ]
  },
  {
   "cell_type": "markdown",
   "id": "d50c48b3-a8b7-4209-8f4b-c9a1ee08f1b5",
   "metadata": {},
   "source": [
    "# 데이터 타입\n",
    "\n",
    "1. Number\n",
    "2. Boolean\n",
    "3. String\n",
    "\n",
    "# 자료구조\n",
    "\n",
    "- 시퀀스 자료형\n",
    "1. [List] : mutable\n",
    "2. (Tuple) : immutable\n",
    "3. range() : immutable\n",
    "4. 'String' : immutable\n",
    "\n",
    "- 시퀀스가 아닌 자료형\n",
    "1. {Set} : mutable\n",
    "2. {Dict: ionary} : mutable"
   ]
  },
  {
   "cell_type": "code",
   "execution_count": null,
   "id": "fe5f57ac-afba-45eb-b2f4-3d1d2e069cfd",
   "metadata": {},
   "outputs": [],
   "source": []
  }
 ],
 "metadata": {
  "kernelspec": {
   "display_name": "Python 3 (ipykernel)",
   "language": "python",
   "name": "python3"
  },
  "language_info": {
   "codemirror_mode": {
    "name": "ipython",
    "version": 3
   },
   "file_extension": ".py",
   "mimetype": "text/x-python",
   "name": "python",
   "nbconvert_exporter": "python",
   "pygments_lexer": "ipython3",
   "version": "3.11.4"
  }
 },
 "nbformat": 4,
 "nbformat_minor": 5
}
