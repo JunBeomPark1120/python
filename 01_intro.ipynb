{
 "cells": [
  {
   "cell_type": "markdown",
   "id": "06e76afa-94b5-4ec4-bd2d-1712918df27a",
   "metadata": {},
   "source": [
    "# 01. intro\n",
    "\n",
    "## 단축키\n",
    "\n",
    "- ctrl + enter : 지금 셀 실행\n",
    "- shlft + enter : 지금 셀 실행함과 동시에 아래로 이동\n",
    "- alt + enter : 지금 셀 실행함과 동시에 아래에 새로운 셀 추가\n",
    "\n",
    "## 주의사항\n",
    "\n",
    "1. Apple/apple은 다르다.(대,소문자 구별)\n",
    "2. git add . / git add.\n",
    "3. message/ massage"
   ]
  },
  {
   "cell_type": "code",
   "execution_count": 7,
   "id": "64d02724-9fbf-4225-bcf6-1a8abd40474e",
   "metadata": {},
   "outputs": [
    {
     "data": {
      "text/plain": [
       "'\\n안녕하세요\\n'"
      ]
     },
     "execution_count": 7,
     "metadata": {},
     "output_type": "execute_result"
    }
   ],
   "source": [
    "# 주석을 나타냄\n",
    "\n",
    "\"\"\"\n",
    "안녕하세요\n",
    "\"\"\""
   ]
  },
  {
   "cell_type": "markdown",
   "id": "682b8f4c-9453-4743-840b-25f84942c96d",
   "metadata": {},
   "source": [
    "# 1.변수\n",
    "\n",
    "변수이름 = 값\n",
    "\n",
    "- 변수이름은 어떤 이름이든 상관 없음\n",
    "- 다만 영어, 숫자, _를 이용하여 선언\n",
    "- 키워드는 사용불가"
   ]
  },
  {
   "cell_type": "code",
   "execution_count": 8,
   "id": "ae37e932-ecee-4c30-8848-11397e479af8",
   "metadata": {},
   "outputs": [],
   "source": [
    "a = 10"
   ]
  },
  {
   "cell_type": "code",
   "execution_count": 9,
   "id": "ce102354-f21d-48fc-b163-1aa4a0268540",
   "metadata": {},
   "outputs": [
    {
     "data": {
      "text/plain": [
       "10"
      ]
     },
     "execution_count": 9,
     "metadata": {},
     "output_type": "execute_result"
    }
   ],
   "source": [
    "a"
   ]
  },
  {
   "cell_type": "code",
   "execution_count": 12,
   "id": "933d13e9-729a-4092-8b41-9af531940129",
   "metadata": {},
   "outputs": [
    {
     "data": {
      "text/plain": [
       "['False',\n",
       " 'None',\n",
       " 'True',\n",
       " 'and',\n",
       " 'as',\n",
       " 'assert',\n",
       " 'async',\n",
       " 'await',\n",
       " 'break',\n",
       " 'class',\n",
       " 'continue',\n",
       " 'def',\n",
       " 'del',\n",
       " 'elif',\n",
       " 'else',\n",
       " 'except',\n",
       " 'finally',\n",
       " 'for',\n",
       " 'from',\n",
       " 'global',\n",
       " 'if',\n",
       " 'import',\n",
       " 'in',\n",
       " 'is',\n",
       " 'lambda',\n",
       " 'nonlocal',\n",
       " 'not',\n",
       " 'or',\n",
       " 'pass',\n",
       " 'raise',\n",
       " 'return',\n",
       " 'try',\n",
       " 'while',\n",
       " 'with',\n",
       " 'yield']"
      ]
     },
     "execution_count": 12,
     "metadata": {},
     "output_type": "execute_result"
    }
   ],
   "source": [
    "import keyword\n",
    "keyword.kwlist"
   ]
  },
  {
   "cell_type": "code",
   "execution_count": 15,
   "id": "a233ef04-3fcd-4d90-8ac8-15478a05eb4d",
   "metadata": {},
   "outputs": [],
   "source": [
    "## 1.1 number"
   ]
  },
  {
   "cell_type": "code",
   "execution_count": 16,
   "id": "836866e0-108b-489d-8d18-a93f92ba1355",
   "metadata": {},
   "outputs": [],
   "source": [
    "a = 10000000"
   ]
  },
  {
   "cell_type": "code",
   "execution_count": 18,
   "id": "b11d65e9-55f3-4445-b433-2ad0eef40c4b",
   "metadata": {},
   "outputs": [
    {
     "data": {
      "text/plain": [
       "10000000"
      ]
     },
     "execution_count": 18,
     "metadata": {},
     "output_type": "execute_result"
    }
   ],
   "source": [
    "a"
   ]
  },
  {
   "cell_type": "code",
   "execution_count": 20,
   "id": "50a44200-93d0-4e4c-8f14-7fc8b1d42500",
   "metadata": {},
   "outputs": [
    {
     "data": {
      "text/plain": [
       "int"
      ]
     },
     "execution_count": 20,
     "metadata": {},
     "output_type": "execute_result"
    }
   ],
   "source": [
    "type(a)"
   ]
  },
  {
   "cell_type": "code",
   "execution_count": 24,
   "id": "8699aea6-48c0-45b1-b854-3973624ac8c0",
   "metadata": {},
   "outputs": [],
   "source": [
    "b = 1.1"
   ]
  },
  {
   "cell_type": "code",
   "execution_count": 26,
   "id": "216ae752-c542-4d6a-bf02-6762a1dab1bd",
   "metadata": {},
   "outputs": [
    {
     "data": {
      "text/plain": [
       "1.1"
      ]
     },
     "execution_count": 26,
     "metadata": {},
     "output_type": "execute_result"
    }
   ],
   "source": [
    "b"
   ]
  },
  {
   "cell_type": "code",
   "execution_count": 28,
   "id": "358be0e1-f435-438e-855d-2e465655e913",
   "metadata": {},
   "outputs": [
    {
     "data": {
      "text/plain": [
       "float"
      ]
     },
     "execution_count": 28,
     "metadata": {},
     "output_type": "execute_result"
    }
   ],
   "source": [
    "type(b)"
   ]
  },
  {
   "cell_type": "code",
   "execution_count": 29,
   "id": "7cccc166-10a3-4c72-ae4d-abc4a9ff7d2f",
   "metadata": {},
   "outputs": [],
   "source": [
    "c = 1 - 4j"
   ]
  },
  {
   "cell_type": "code",
   "execution_count": 31,
   "id": "958f1e9a-a49a-4ea4-ae5e-35aab8b03a93",
   "metadata": {},
   "outputs": [
    {
     "data": {
      "text/plain": [
       "(1-4j)"
      ]
     },
     "execution_count": 31,
     "metadata": {},
     "output_type": "execute_result"
    }
   ],
   "source": [
    "c"
   ]
  },
  {
   "cell_type": "code",
   "execution_count": 33,
   "id": "689c81d0-0a74-4e99-b898-ecc26e95eba5",
   "metadata": {},
   "outputs": [
    {
     "data": {
      "text/plain": [
       "complex"
      ]
     },
     "execution_count": 33,
     "metadata": {},
     "output_type": "execute_result"
    }
   ],
   "source": [
    "type(c)"
   ]
  },
  {
   "cell_type": "code",
   "execution_count": 35,
   "id": "f0de7db8-ba5b-45b2-a930-81fb0168ce18",
   "metadata": {},
   "outputs": [
    {
     "data": {
      "text/plain": [
       "-4.0"
      ]
     },
     "execution_count": 35,
     "metadata": {},
     "output_type": "execute_result"
    }
   ],
   "source": [
    "c.imag"
   ]
  },
  {
   "cell_type": "code",
   "execution_count": 37,
   "id": "cfdb2031-1e3a-4617-aefe-b769ea4c55d4",
   "metadata": {},
   "outputs": [
    {
     "data": {
      "text/plain": [
       "1.0"
      ]
     },
     "execution_count": 37,
     "metadata": {},
     "output_type": "execute_result"
    }
   ],
   "source": [
    "c.real"
   ]
  },
  {
   "cell_type": "markdown",
   "id": "b7ba796c-c372-4ec2-a666-3a73acd3f81b",
   "metadata": {},
   "source": [
    "### 1.2 Boolean\n",
    "\n",
    "True, False로 이루어진 타입"
   ]
  },
  {
   "cell_type": "code",
   "execution_count": 63,
   "id": "9d1d6e0f-d027-4819-b02b-e4e1641dc787",
   "metadata": {},
   "outputs": [],
   "source": [
    "a = True"
   ]
  },
  {
   "cell_type": "code",
   "execution_count": 64,
   "id": "660adaa5-5e09-4c31-b10b-b07dfc80f5a1",
   "metadata": {},
   "outputs": [
    {
     "data": {
      "text/plain": [
       "bool"
      ]
     },
     "execution_count": 64,
     "metadata": {},
     "output_type": "execute_result"
    }
   ],
   "source": [
    "type(a)"
   ]
  },
  {
   "cell_type": "code",
   "execution_count": 44,
   "id": "3ae24680-16b8-4c20-bca0-947f87eaaf52",
   "metadata": {},
   "outputs": [],
   "source": [
    "b = False"
   ]
  },
  {
   "cell_type": "code",
   "execution_count": 45,
   "id": "4dfe965e-a443-4c6b-be7d-070d327061e8",
   "metadata": {},
   "outputs": [
    {
     "data": {
      "text/plain": [
       "bool"
      ]
     },
     "execution_count": 45,
     "metadata": {},
     "output_type": "execute_result"
    }
   ],
   "source": [
    "type(b)"
   ]
  },
  {
   "cell_type": "code",
   "execution_count": 46,
   "id": "8adf1dff-6b92-4c5b-9100-82eb69de6dcf",
   "metadata": {},
   "outputs": [
    {
     "data": {
      "text/plain": [
       "False"
      ]
     },
     "execution_count": 46,
     "metadata": {},
     "output_type": "execute_result"
    }
   ],
   "source": [
    "bool(0)"
   ]
  },
  {
   "cell_type": "code",
   "execution_count": 47,
   "id": "862c09d5-1bdf-402c-ab4a-05925f2390c2",
   "metadata": {},
   "outputs": [
    {
     "data": {
      "text/plain": [
       "True"
      ]
     },
     "execution_count": 47,
     "metadata": {},
     "output_type": "execute_result"
    }
   ],
   "source": [
    "bool(1)"
   ]
  },
  {
   "cell_type": "code",
   "execution_count": 50,
   "id": "41cbe2e7-cbe5-4e2f-8ec4-a23b7a76d11e",
   "metadata": {},
   "outputs": [
    {
     "data": {
      "text/plain": [
       "True"
      ]
     },
     "execution_count": 50,
     "metadata": {},
     "output_type": "execute_result"
    }
   ],
   "source": [
    "bool([1])"
   ]
  },
  {
   "cell_type": "markdown",
   "id": "765aa2a8-82a2-4a01-8594-42a0779b6eb2",
   "metadata": {},
   "source": [
    "### 1.3 None"
   ]
  },
  {
   "cell_type": "code",
   "execution_count": null,
   "id": "2f2cc43e-bf63-4bf1-aa59-2d5c84397c3f",
   "metadata": {},
   "outputs": [],
   "source": []
  },
  {
   "cell_type": "code",
   "execution_count": 65,
   "id": "996747cf-a409-4b21-99b5-cf2dcf40cb33",
   "metadata": {},
   "outputs": [],
   "source": [
    "a = None"
   ]
  },
  {
   "cell_type": "code",
   "execution_count": 66,
   "id": "aab6ddcb-88c1-47e7-9b5c-ed9f0dda614d",
   "metadata": {},
   "outputs": [
    {
     "data": {
      "text/plain": [
       "NoneType"
      ]
     },
     "execution_count": 66,
     "metadata": {},
     "output_type": "execute_result"
    }
   ],
   "source": [
    "type(a)"
   ]
  },
  {
   "cell_type": "markdown",
   "id": "a44d14c9-88a1-409d-aace-dc7d83ba70f7",
   "metadata": {},
   "source": [
    "### 1.4 string\n",
    "\n",
    "- 문자열은 `'` `\"`를 이용하여 표현"
   ]
  },
  {
   "cell_type": "code",
   "execution_count": 59,
   "id": "0ad676dc-21e9-4e8d-bdab-badd3906c30a",
   "metadata": {},
   "outputs": [],
   "source": [
    "a = 'hello'"
   ]
  },
  {
   "cell_type": "code",
   "execution_count": 60,
   "id": "47794cba-1442-40dd-8408-647c4a34d9a5",
   "metadata": {},
   "outputs": [
    {
     "data": {
      "text/plain": [
       "str"
      ]
     },
     "execution_count": 60,
     "metadata": {},
     "output_type": "execute_result"
    }
   ],
   "source": [
    "type(a)"
   ]
  },
  {
   "cell_type": "code",
   "execution_count": 61,
   "id": "7effa9e1-48a0-493a-a81a-a8f0d644cd1e",
   "metadata": {},
   "outputs": [],
   "source": [
    "b = \"world\""
   ]
  },
  {
   "cell_type": "code",
   "execution_count": 62,
   "id": "284fb2df-7ea9-4abd-8e7e-a9f665eec58e",
   "metadata": {},
   "outputs": [
    {
     "data": {
      "text/plain": [
       "str"
      ]
     },
     "execution_count": 62,
     "metadata": {},
     "output_type": "execute_result"
    }
   ],
   "source": [
    "type(b)"
   ]
  },
  {
   "cell_type": "code",
   "execution_count": 69,
   "id": "3846db7c-3a33-4d17-b942-13ae50831e8a",
   "metadata": {},
   "outputs": [
    {
     "name": "stdin",
     "output_type": "stream",
     "text": [
      " 123\n"
     ]
    },
    {
     "name": "stdout",
     "output_type": "stream",
     "text": [
      "123\n",
      "<class 'str'>\n"
     ]
    }
   ],
   "source": [
    "age = input()\n",
    "print(age)\n",
    "print(type(age))"
   ]
  },
  {
   "cell_type": "code",
   "execution_count": 72,
   "id": "77405b39-c5d2-4b01-a73d-b9efb4639f55",
   "metadata": {},
   "outputs": [
    {
     "ename": "SyntaxError",
     "evalue": "invalid syntax. Perhaps you forgot a comma? (2892615836.py, line 1)",
     "output_type": "error",
     "traceback": [
      "\u001b[1;36m  Cell \u001b[1;32mIn[72], line 1\u001b[1;36m\u001b[0m\n\u001b[1;33m    print('안녕하세요? '박준범'입니다.')\u001b[0m\n\u001b[1;37m          ^\u001b[0m\n\u001b[1;31mSyntaxError\u001b[0m\u001b[1;31m:\u001b[0m invalid syntax. Perhaps you forgot a comma?\n"
     ]
    }
   ],
   "source": [
    "print('안녕하세요? '박준범'입니다.')"
   ]
  },
  {
   "cell_type": "code",
   "execution_count": 73,
   "id": "ee518918-fe96-4a15-b89e-081db39bea1c",
   "metadata": {},
   "outputs": [
    {
     "name": "stdout",
     "output_type": "stream",
     "text": [
      "안녕하세요? '박준범'입니다.\n"
     ]
    }
   ],
   "source": [
    "print(\"안녕하세요? '박준범'입니다.\")"
   ]
  },
  {
   "cell_type": "code",
   "execution_count": 75,
   "id": "df705016-4551-4e7e-aba8-715423c1bdc9",
   "metadata": {},
   "outputs": [
    {
     "name": "stdout",
     "output_type": "stream",
     "text": [
      "안녕하세요? \"박준범\"입니다.\n"
     ]
    }
   ],
   "source": [
    "print('안녕하세요? \"박준범\"입니다.')"
   ]
  },
  {
   "cell_type": "code",
   "execution_count": 76,
   "id": "d1c811c5-9046-4b1b-9c4b-a0bdfda51533",
   "metadata": {},
   "outputs": [
    {
     "name": "stdout",
     "output_type": "stream",
     "text": [
      "안녕하세요? '박준범'입니다.\n"
     ]
    }
   ],
   "source": [
    "print('안녕하세요? \\'박준범\\'입니다.')"
   ]
  },
  {
   "cell_type": "code",
   "execution_count": 77,
   "id": "8867c161-5fa4-49ae-b710-47eb5fbb308a",
   "metadata": {},
   "outputs": [],
   "source": [
    "a = '''\n",
    "여기는 문자열입니다.\n",
    "엔터를 쳐서 여러줄을 작성할 수 있습니다.\n",
    "'''"
   ]
  },
  {
   "cell_type": "code",
   "execution_count": 78,
   "id": "ac88f357-894c-438e-ad53-39b56c2a7de9",
   "metadata": {},
   "outputs": [
    {
     "name": "stdout",
     "output_type": "stream",
     "text": [
      "\n",
      "여기는 문자열입니다.\n",
      "엔터를 쳐서 여러줄을 작성할 수 있습니다.\n",
      "\n"
     ]
    }
   ],
   "source": [
    "print(a)"
   ]
  },
  {
   "cell_type": "code",
   "execution_count": 80,
   "id": "2cd51721-902b-43c8-ae80-745da52dd6b0",
   "metadata": {},
   "outputs": [
    {
     "name": "stdout",
     "output_type": "stream",
     "text": [
      "엔터를 입력해봐요 \n",
      "다음줄입니다. \t들여쓰기도 가능합니다\n"
     ]
    }
   ],
   "source": [
    "print('엔터를 입력해봐요 \\n다음줄입니다. \\t들여쓰기도 가능합니다')"
   ]
  },
  {
   "cell_type": "code",
   "execution_count": 87,
   "id": "91cd400e-d939-417b-84b5-7560cb41f3eb",
   "metadata": {},
   "outputs": [
    {
     "name": "stdout",
     "output_type": "stream",
     "text": [
      "하나\t둘\t셋\n"
     ]
    }
   ],
   "source": [
    "print('하나', '둘', '셋', sep='\\t')"
   ]
  },
  {
   "cell_type": "markdown",
   "id": "5a80c0cb-8e94-4ab2-a563-1fb58cd1e0c1",
   "metadata": {},
   "source": [
    "#### string interpolation\n",
    "1. %-formatting\n",
    "2. str.format()\n",
    "3. f-string"
   ]
  },
  {
   "cell_type": "code",
   "execution_count": 85,
   "id": "aa254adc-b440-44af-ae81-e91c0e7a6401",
   "metadata": {},
   "outputs": [],
   "source": [
    "age = 20"
   ]
  },
  {
   "cell_type": "code",
   "execution_count": 88,
   "id": "2a231d05-99d4-45d7-8a84-d21fc38dbaca",
   "metadata": {},
   "outputs": [
    {
     "name": "stdout",
     "output_type": "stream",
     "text": [
      "홍길동은 20 살입니다.\n"
     ]
    }
   ],
   "source": [
    "print('홍길동은 %s 살입니다.' % age)"
   ]
  },
  {
   "cell_type": "code",
   "execution_count": 91,
   "id": "69a630f5-11cf-4b80-b4cb-634e4de84b2b",
   "metadata": {},
   "outputs": [
    {
     "name": "stdout",
     "output_type": "stream",
     "text": [
      "홍길동은 20살입니다.\n"
     ]
    }
   ],
   "source": [
    "print('홍길동은 {}살입니다.'.format(age))"
   ]
  },
  {
   "cell_type": "code",
   "execution_count": 95,
   "id": "32949b39-f146-46bf-90f2-3e04cc5aafe7",
   "metadata": {},
   "outputs": [
    {
     "name": "stdout",
     "output_type": "stream",
     "text": [
      "홍길동은 20살입니다.\n"
     ]
    }
   ],
   "source": [
    "print(f'홍길동은 {age}살입니다.')"
   ]
  },
  {
   "cell_type": "code",
   "execution_count": null,
   "id": "4444f7f9-ac75-46c1-8ae3-f0629e64a1e1",
   "metadata": {},
   "outputs": [],
   "source": []
  }
 ],
 "metadata": {
  "kernelspec": {
   "display_name": "Python 3 (ipykernel)",
   "language": "python",
   "name": "python3"
  },
  "language_info": {
   "codemirror_mode": {
    "name": "ipython",
    "version": 3
   },
   "file_extension": ".py",
   "mimetype": "text/x-python",
   "name": "python",
   "nbconvert_exporter": "python",
   "pygments_lexer": "ipython3",
   "version": "3.11.4"
  }
 },
 "nbformat": 4,
 "nbformat_minor": 5
}
