{
 "cells": [
  {
   "cell_type": "code",
   "execution_count": 2,
   "id": "a8de2f10-899a-4fad-97be-cb74207f1815",
   "metadata": {},
   "outputs": [
    {
     "name": "stdout",
     "output_type": "stream",
     "text": [
      "직사각형의 둘레는 60, 면적은 200입니다.\n",
      "직사각형의 둘레는 260, 면적은 4000입니다.\n"
     ]
    }
   ],
   "source": [
    "height = 10\n",
    "width = 20\n",
    "\n",
    "height2 = 50\n",
    "width2 = 80\n",
    "\n",
    "# 직사각형의 둘레는 ***, 면적은 *** 입니다.\n",
    "\n",
    "area = height * width\n",
    "perimeter = (height + width) * 2\n",
    "print(f'직사각형의 둘레는 {perimeter}, 면적은 {area}입니다.')\n",
    "\n",
    "area = height2 * width2\n",
    "perimeter = (height2 + width2) * 2\n",
    "print(f'직사각형의 둘레는 {perimeter}, 면적은 {area}입니다.')\n"
   ]
  },
  {
   "cell_type": "markdown",
   "id": "0bfc4b51-ef00-4754-be75-97efb3c27951",
   "metadata": {},
   "source": [
    "## 함수의 선언과 호출\n",
    "\n",
    "- 함수의 선언\n",
    "```python\n",
    "def func_name(parameter1, parameter2...):\n",
    "    code1\n",
    "    code2\n",
    "    ...\n",
    "    return value\n",
    "```\n",
    "\n",
    "- 함수의 호출(실행)\n",
    "```python\n",
    "func_name(parameter1, parameter2)\n",
    "```"
   ]
  },
  {
   "cell_type": "code",
   "execution_count": 3,
   "id": "7fbca19b-3793-4789-b420-c334fcca4c43",
   "metadata": {},
   "outputs": [],
   "source": [
    "def rectangle(height, width):\n",
    "    area = height * width\n",
    "    perimeter = (height + width) * 2\n",
    "    print(f'직사각형의 둘레는 {perimeter}, 면적은 {area}입니다.')"
   ]
  },
  {
   "cell_type": "code",
   "execution_count": 5,
   "id": "54a32ff2-31f6-4041-b2d1-692f570394e7",
   "metadata": {},
   "outputs": [
    {
     "name": "stdout",
     "output_type": "stream",
     "text": [
      "직사각형의 둘레는 60, 면적은 200입니다.\n"
     ]
    }
   ],
   "source": [
    "rectangle(10, 20)"
   ]
  },
  {
   "cell_type": "code",
   "execution_count": 6,
   "id": "c75d63ed-cb77-439b-92e0-89ebe88ce0cb",
   "metadata": {},
   "outputs": [
    {
     "data": {
      "text/plain": [
       "['ArithmeticError',\n",
       " 'AssertionError',\n",
       " 'AttributeError',\n",
       " 'BaseException',\n",
       " 'BaseExceptionGroup',\n",
       " 'BlockingIOError',\n",
       " 'BrokenPipeError',\n",
       " 'BufferError',\n",
       " 'BytesWarning',\n",
       " 'ChildProcessError',\n",
       " 'ConnectionAbortedError',\n",
       " 'ConnectionError',\n",
       " 'ConnectionRefusedError',\n",
       " 'ConnectionResetError',\n",
       " 'DeprecationWarning',\n",
       " 'EOFError',\n",
       " 'Ellipsis',\n",
       " 'EncodingWarning',\n",
       " 'EnvironmentError',\n",
       " 'Exception',\n",
       " 'ExceptionGroup',\n",
       " 'False',\n",
       " 'FileExistsError',\n",
       " 'FileNotFoundError',\n",
       " 'FloatingPointError',\n",
       " 'FutureWarning',\n",
       " 'GeneratorExit',\n",
       " 'IOError',\n",
       " 'ImportError',\n",
       " 'ImportWarning',\n",
       " 'IndentationError',\n",
       " 'IndexError',\n",
       " 'InterruptedError',\n",
       " 'IsADirectoryError',\n",
       " 'KeyError',\n",
       " 'KeyboardInterrupt',\n",
       " 'LookupError',\n",
       " 'MemoryError',\n",
       " 'ModuleNotFoundError',\n",
       " 'NameError',\n",
       " 'None',\n",
       " 'NotADirectoryError',\n",
       " 'NotImplemented',\n",
       " 'NotImplementedError',\n",
       " 'OSError',\n",
       " 'OverflowError',\n",
       " 'PendingDeprecationWarning',\n",
       " 'PermissionError',\n",
       " 'ProcessLookupError',\n",
       " 'RecursionError',\n",
       " 'ReferenceError',\n",
       " 'ResourceWarning',\n",
       " 'RuntimeError',\n",
       " 'RuntimeWarning',\n",
       " 'StopAsyncIteration',\n",
       " 'StopIteration',\n",
       " 'SyntaxError',\n",
       " 'SyntaxWarning',\n",
       " 'SystemError',\n",
       " 'SystemExit',\n",
       " 'TabError',\n",
       " 'TimeoutError',\n",
       " 'True',\n",
       " 'TypeError',\n",
       " 'UnboundLocalError',\n",
       " 'UnicodeDecodeError',\n",
       " 'UnicodeEncodeError',\n",
       " 'UnicodeError',\n",
       " 'UnicodeTranslateError',\n",
       " 'UnicodeWarning',\n",
       " 'UserWarning',\n",
       " 'ValueError',\n",
       " 'Warning',\n",
       " 'WindowsError',\n",
       " 'ZeroDivisionError',\n",
       " '__IPYTHON__',\n",
       " '__build_class__',\n",
       " '__debug__',\n",
       " '__doc__',\n",
       " '__import__',\n",
       " '__loader__',\n",
       " '__name__',\n",
       " '__package__',\n",
       " '__spec__',\n",
       " 'abs',\n",
       " 'aiter',\n",
       " 'all',\n",
       " 'anext',\n",
       " 'any',\n",
       " 'ascii',\n",
       " 'bin',\n",
       " 'bool',\n",
       " 'breakpoint',\n",
       " 'bytearray',\n",
       " 'bytes',\n",
       " 'callable',\n",
       " 'chr',\n",
       " 'classmethod',\n",
       " 'compile',\n",
       " 'complex',\n",
       " 'copyright',\n",
       " 'credits',\n",
       " 'delattr',\n",
       " 'dict',\n",
       " 'dir',\n",
       " 'display',\n",
       " 'divmod',\n",
       " 'enumerate',\n",
       " 'eval',\n",
       " 'exec',\n",
       " 'execfile',\n",
       " 'filter',\n",
       " 'float',\n",
       " 'format',\n",
       " 'frozenset',\n",
       " 'get_ipython',\n",
       " 'getattr',\n",
       " 'globals',\n",
       " 'hasattr',\n",
       " 'hash',\n",
       " 'help',\n",
       " 'hex',\n",
       " 'id',\n",
       " 'input',\n",
       " 'int',\n",
       " 'isinstance',\n",
       " 'issubclass',\n",
       " 'iter',\n",
       " 'len',\n",
       " 'license',\n",
       " 'list',\n",
       " 'locals',\n",
       " 'map',\n",
       " 'max',\n",
       " 'memoryview',\n",
       " 'min',\n",
       " 'next',\n",
       " 'object',\n",
       " 'oct',\n",
       " 'open',\n",
       " 'ord',\n",
       " 'pow',\n",
       " 'print',\n",
       " 'property',\n",
       " 'range',\n",
       " 'repr',\n",
       " 'reversed',\n",
       " 'round',\n",
       " 'runfile',\n",
       " 'set',\n",
       " 'setattr',\n",
       " 'slice',\n",
       " 'sorted',\n",
       " 'staticmethod',\n",
       " 'str',\n",
       " 'sum',\n",
       " 'super',\n",
       " 'tuple',\n",
       " 'type',\n",
       " 'vars',\n",
       " 'zip']"
      ]
     },
     "execution_count": 6,
     "metadata": {},
     "output_type": "execute_result"
    }
   ],
   "source": [
    "dir(__builtins__)"
   ]
  },
  {
   "cell_type": "code",
   "execution_count": 7,
   "id": "e1eec785-0f79-423d-b3de-8acd442a3e21",
   "metadata": {},
   "outputs": [
    {
     "data": {
      "text/plain": [
       "5"
      ]
     },
     "execution_count": 7,
     "metadata": {},
     "output_type": "execute_result"
    }
   ],
   "source": [
    "max(1, 5)"
   ]
  },
  {
   "cell_type": "code",
   "execution_count": 29,
   "id": "b9b78f95-7482-498e-8f89-865e8f0da398",
   "metadata": {},
   "outputs": [],
   "source": [
    "def my_max(x,y):\n",
    "    if x>y:\n",
    "        print(f'{x}(이)가 더 큽니다.')\n",
    "    elif y>x:\n",
    "        print(f'{y}(이)가 더 큽니다.')\n",
    "    else:\n",
    "        print('두 수가 같음.')\n",
    "\n",
    "    # return None - 자동으로 처리. 그래서 우리 눈으로 보이지 않음"
   ]
  },
  {
   "cell_type": "code",
   "execution_count": 28,
   "id": "b0de3779-806e-46e3-8a0b-4b21c67fffce",
   "metadata": {},
   "outputs": [
    {
     "name": "stdout",
     "output_type": "stream",
     "text": [
      "두 수가 같음.\n",
      "None\n"
     ]
    }
   ],
   "source": [
    "result = my_max(10,10)\n",
    "print(result)"
   ]
  },
  {
   "cell_type": "markdown",
   "id": "ddb3d772-bed9-4210-8ccb-1e79161be8f3",
   "metadata": {},
   "source": [
    "## 함수의 return\n",
    "\n",
    "- 함수가 return을 만나면 해당 값을 반환하고 함수를 종료\n",
    "- 만약 return이 없다면 None을 자동으로 반환\n",
    "- return은 오직 하나의 객체만 반환함"
   ]
  },
  {
   "cell_type": "code",
   "execution_count": 35,
   "id": "4e63a3e6-82d0-4d8d-b58a-2cc5a5df88de",
   "metadata": {},
   "outputs": [],
   "source": [
    "# 두 개의 정수를 받아서 큰수를 변환\n",
    "def my_max2(x,y):\n",
    "\n",
    "    # return 'hello'\n",
    "    \n",
    "    if x>y:\n",
    "        return x\n",
    "    elif x<y:\n",
    "        return y\n",
    "    else:\n",
    "        return 0"
   ]
  },
  {
   "cell_type": "code",
   "execution_count": 36,
   "id": "33c3d3d3-df1d-43c8-9990-9f79ed48084d",
   "metadata": {},
   "outputs": [
    {
     "name": "stdout",
     "output_type": "stream",
     "text": [
      "2가 더 큽니다.\n"
     ]
    }
   ],
   "source": [
    "result = my_max2(1,2)\n",
    "print(f'{result}가 더 큽니다.')"
   ]
  },
  {
   "cell_type": "code",
   "execution_count": 42,
   "id": "ff427789-daec-4fb9-991e-375d20b355b2",
   "metadata": {},
   "outputs": [],
   "source": [
    "def my_list_max(list_a, list_b):\n",
    "    if sum(list_a) > sum(list_b):\n",
    "        return list_a\n",
    "    else:\n",
    "        return list_b"
   ]
  },
  {
   "cell_type": "code",
   "execution_count": 43,
   "id": "7b4fafa9-c1f9-4b9a-8a1a-9463160179c9",
   "metadata": {},
   "outputs": [
    {
     "data": {
      "text/plain": [
       "[11, 12]"
      ]
     },
     "execution_count": 43,
     "metadata": {},
     "output_type": "execute_result"
    }
   ],
   "source": [
    "my_list_max([10, 11],[11, 12])"
   ]
  },
  {
   "cell_type": "markdown",
   "id": "ddfddd5e-0242-4b18-8aad-a776945fa866",
   "metadata": {},
   "source": [
    "## 함수의 인수"
   ]
  },
  {
   "cell_type": "markdown",
   "id": "dc1d8147-8dfc-4284-85d1-911ab74864cc",
   "metadata": {},
   "source": [
    "### 위치 인수\n",
    "기본적으로 함수는 인수의 위치로 판단함."
   ]
  },
  {
   "cell_type": "code",
   "execution_count": 5,
   "id": "3dd66e7c-1c27-450a-b2c0-0148eb8ea90f",
   "metadata": {},
   "outputs": [
    {
     "name": "stdout",
     "output_type": "stream",
     "text": [
      "1570.0\n",
      "785.0\n"
     ]
    }
   ],
   "source": [
    "def cylinder(r, h):\n",
    "    return 3.14 * r**2 * h\n",
    "\n",
    "print(cylinder(10, 5))\n",
    "print(cylinder(5, 10))"
   ]
  },
  {
   "cell_type": "markdown",
   "id": "992e5176-cc07-4e31-82da-fcfadb444bb1",
   "metadata": {},
   "source": [
    "### 기본값\n",
    "\n",
    "```python\n",
    "def func(p1 = v1):\n",
    "    return v1\n",
    "```"
   ]
  },
  {
   "cell_type": "code",
   "execution_count": 9,
   "id": "fc0f7b68-7968-4d7a-9917-2a16b3752abe",
   "metadata": {},
   "outputs": [
    {
     "name": "stdout",
     "output_type": "stream",
     "text": [
      "창희님 반갑습니다.\n",
      "익명님 반갑습니다.\n"
     ]
    }
   ],
   "source": [
    "def greeting(name = '익명'):\n",
    "    return f'{name}님 반갑습니다.'\n",
    "print(greeting('창희'))\n",
    "print(greeting())\n",
    "# 인자 안에 아무것도 없으면 error\n",
    "#그러나 '익명'이라는 기본값을 할당하였을 때는 기본값으로 할당된다."
   ]
  },
  {
   "cell_type": "code",
   "execution_count": 10,
   "id": "dee29cb3-471d-4343-ae6e-e525f0dbb7ac",
   "metadata": {},
   "outputs": [
    {
     "ename": "SyntaxError",
     "evalue": "non-default argument follows default argument (1266620151.py, line 1)",
     "output_type": "error",
     "traceback": [
      "\u001b[1;36m  Cell \u001b[1;32mIn[10], line 1\u001b[1;36m\u001b[0m\n\u001b[1;33m    def greeeting(name = '익명', age):\u001b[0m\n\u001b[1;37m                               ^\u001b[0m\n\u001b[1;31mSyntaxError\u001b[0m\u001b[1;31m:\u001b[0m non-default argument follows default argument\n"
     ]
    }
   ],
   "source": [
    "#기본인자의 순서가 잘못되었으면?\n",
    "def greeeting(name = '익명', age):\n",
    "    return f'{name}님은 {age}입니다.'"
   ]
  },
  {
   "cell_type": "code",
   "execution_count": 11,
   "id": "c76a9375-c35a-44cd-8187-f906a0a56581",
   "metadata": {},
   "outputs": [
    {
     "name": "stdout",
     "output_type": "stream",
     "text": [
      "홍길동님은 10입니다.\n",
      "익명님은 20입니다.\n"
     ]
    }
   ],
   "source": [
    "#올바른 코드\n",
    "def greeting(age, name = '익명'):\n",
    "    return f'{name}님은 {age}입니다.'\n",
    "\n",
    "print(greeting(10,'홍길동'))\n",
    "print(greeting(20))"
   ]
  },
  {
   "cell_type": "markdown",
   "id": "3cfcd6aa-3f6c-4f53-aa8c-83135c43f3f0",
   "metadata": {},
   "source": [
    "### 키워드 인자\n",
    "함수를 호출(실행)할 때 내가 원하는 위치에 직접적으로 특정인자를 전달가능"
   ]
  },
  {
   "cell_type": "code",
   "execution_count": 16,
   "id": "193008ae-5615-4ee8-b9ee-68ae31f6b67e",
   "metadata": {},
   "outputs": [
    {
     "name": "stdout",
     "output_type": "stream",
     "text": [
      "홍길동님은 10입니다.\n",
      "홍길동님은 10입니다.\n"
     ]
    }
   ],
   "source": [
    "def greeting(age, name = '익명'):\n",
    "    return f'{name}님은 {age}입니다.'\n",
    "\n",
    "print(greeting(10, '홍길동'))\n",
    "print(greeting(name = '홍길동', age = 10))"
   ]
  },
  {
   "cell_type": "code",
   "execution_count": 20,
   "id": "c29189f8-fa03-4251-b973-ff2cfbfde3ad",
   "metadata": {},
   "outputs": [
    {
     "name": "stdout",
     "output_type": "stream",
     "text": [
      "안녕\n",
      "안녕!하세요!Hi!Hello?"
     ]
    }
   ],
   "source": [
    "print('안녕')\n",
    "print('안녕', '하세요', 'Hi', 'Hello',sep='!', end='?')"
   ]
  },
  {
   "cell_type": "markdown",
   "id": "96e1aaef-9b5f-482f-9596-1564db79d0c7",
   "metadata": {},
   "source": [
    "### 가변 인자 리스트\n",
    "```python\n",
    "def func(*params):\n",
    "    pass"
   ]
  },
  {
   "cell_type": "code",
   "execution_count": 22,
   "id": "da688884-f114-4ead-8ae5-b9b3d3403404",
   "metadata": {},
   "outputs": [
    {
     "name": "stdout",
     "output_type": "stream",
     "text": [
      "('hi', 'hello', '안녕', '하세요')\n",
      "<class 'tuple'>\n"
     ]
    }
   ],
   "source": [
    "def my_print(*words):\n",
    "    print(words)\n",
    "    print(type(words))\n",
    "\n",
    "my_print('hi', 'hello', '안녕', '하세요')"
   ]
  },
  {
   "cell_type": "code",
   "execution_count": 38,
   "id": "ded48941-901b-40d8-a663-6d25ade46a9f",
   "metadata": {},
   "outputs": [],
   "source": [
    "# 내 코드\n",
    "# def my_max(*numbers):\n",
    "#     max = 0\n",
    "#     for i in len(numbers):\n",
    "#         if numbers[i] > max:\n",
    "#             max = numbers[i]\n",
    "#     return max"
   ]
  },
  {
   "cell_type": "code",
   "execution_count": 44,
   "id": "825b4c7f-057a-4525-9fb5-b0ef53d25b0a",
   "metadata": {},
   "outputs": [],
   "source": [
    "def my_max(*numbers):\n",
    "    #양수만 비교 시 result = 0\n",
    "    #음수도 비교 시 result = numbers[0]\n",
    "    result = numbers[0]\n",
    "    for number in numbers:\n",
    "        if result < number:\n",
    "            result = number\n",
    "\n",
    "    return result\n"
   ]
  },
  {
   "cell_type": "code",
   "execution_count": 40,
   "id": "04b570c7-0fed-4b9d-a0c5-3ac8943a253a",
   "metadata": {},
   "outputs": [
    {
     "data": {
      "text/plain": [
       "5"
      ]
     },
     "execution_count": 40,
     "metadata": {},
     "output_type": "execute_result"
    }
   ],
   "source": [
    "my_max(1,2,3,4,5)"
   ]
  },
  {
   "cell_type": "code",
   "execution_count": 45,
   "id": "5b4c5463-5465-4bce-9fb6-a7e4e462088f",
   "metadata": {},
   "outputs": [
    {
     "name": "stdout",
     "output_type": "stream",
     "text": [
      "5\n",
      "-1\n"
     ]
    }
   ],
   "source": [
    "print(my_max(1,2,3,4,5))\n",
    "print(my_max(-1, -2, -3, -4))"
   ]
  },
  {
   "cell_type": "markdown",
   "id": "c11f6056-8fdb-4736-b263-09acde4036d2",
   "metadata": {},
   "source": [
    "### 정의되지 않은 키워드 인자 처리하기\n",
    "\n",
    "```python\n",
    "def func(**kwargs):\n",
    "    pass\n",
    "```"
   ]
  },
  {
   "cell_type": "code",
   "execution_count": 46,
   "id": "b738cfaf-4156-47b1-a866-218e5dfa26b8",
   "metadata": {},
   "outputs": [
    {
     "data": {
      "text/plain": [
       "{'name': 'hong', 'age': 20}"
      ]
     },
     "execution_count": 46,
     "metadata": {},
     "output_type": "execute_result"
    }
   ],
   "source": [
    "info = {\n",
    "    'name' : 'hong',\n",
    "    'age' : 20\n",
    "}\n",
    "\n",
    "info"
   ]
  },
  {
   "cell_type": "code",
   "execution_count": 48,
   "id": "f688bb7a-6cbb-4916-99b3-2d5e8309fd2e",
   "metadata": {},
   "outputs": [
    {
     "name": "stdout",
     "output_type": "stream",
     "text": [
      "{'name': 'hong', 'age': 20, 'asdf': 1234}\n"
     ]
    }
   ],
   "source": [
    "info = dict(name = 'hong', age = 20, asdf=1234)\n",
    "print(info)"
   ]
  },
  {
   "cell_type": "code",
   "execution_count": 50,
   "id": "0aa48244-cab5-4453-8814-b6d8294b39d4",
   "metadata": {},
   "outputs": [
    {
     "name": "stdout",
     "output_type": "stream",
     "text": [
      "korean는 안녕입니다.\n",
      "english는 hello입니다.\n"
     ]
    }
   ],
   "source": [
    "def fake_dict(**kwargs):\n",
    "    for key, value in kwargs.items():\n",
    "        print(f'{key}는 {value}입니다.')\n",
    "        \n",
    "fake_dict(korean = '안녕', english = 'hello')"
   ]
  },
  {
   "cell_type": "markdown",
   "id": "9f7ef75d-c4a8-439a-8d50-b77c68cf59b1",
   "metadata": {},
   "source": [
    "### 딕셔너리를 인자로 넣기(unpacking)"
   ]
  },
  {
   "cell_type": "code",
   "execution_count": 52,
   "id": "4f6dc3e9-b831-43d4-afb5-3804d7071a92",
   "metadata": {},
   "outputs": [
    {
     "name": "stdout",
     "output_type": "stream",
     "text": [
      "parkjunbeom님 회원가입이 완료되었습니다.\n",
      "비밀번호가 일치하지 않습니다.\n"
     ]
    }
   ],
   "source": [
    "def sign_up(username, password, password_confirmation):\n",
    "    if password == password_confirmation:\n",
    "        print(f'{username}님 회원가입이 완료되었습니다.')\n",
    "    else:\n",
    "        print(f'비밀번호가 일치하지 않습니다.')\n",
    "\n",
    "sign_up('parkjunbeom', 'qkrwnsqja1120', 'qkrwnsqja1120')\n",
    "sign_up('parkjunbeom', 'qkrwnsqja1120', 'qkrwnsqja11201')"
   ]
  },
  {
   "cell_type": "code",
   "execution_count": 53,
   "id": "a03860f7-7ffb-484c-8ef0-29c828a08cf5",
   "metadata": {},
   "outputs": [
    {
     "name": "stdout",
     "output_type": "stream",
     "text": [
      "asdf1234님 회원가입이 완료되었습니다.\n"
     ]
    }
   ],
   "source": [
    "my_account = {\n",
    "    'username' : 'asdf1234',\n",
    "    'password' : '1q2w3e4r',\n",
    "    'password_confirmation' : '1q2w3e4r',\n",
    "    \n",
    "}\n",
    "\n",
    "sign_up(**my_account)"
   ]
  },
  {
   "cell_type": "markdown",
   "id": "758f643a-076b-4da6-92c0-2e8f95013f24",
   "metadata": {},
   "source": [
    "### lambda(람다) 표현식\n",
    "\n",
    "```python\n",
    "lambda parameter : expression\n",
    "```"
   ]
  },
  {
   "cell_type": "code",
   "execution_count": 55,
   "id": "dd4f91b1-85a3-4ede-b94b-90c335090f70",
   "metadata": {},
   "outputs": [
    {
     "data": {
      "text/plain": [
       "3"
      ]
     },
     "execution_count": 55,
     "metadata": {},
     "output_type": "execute_result"
    }
   ],
   "source": [
    "(lambda a, b : a + b)(1, 2)"
   ]
  },
  {
   "cell_type": "code",
   "execution_count": 60,
   "id": "f6890f31-92b7-4671-a696-2d50dbe3f877",
   "metadata": {},
   "outputs": [
    {
     "data": {
      "text/plain": [
       "3"
      ]
     },
     "execution_count": 60,
     "metadata": {},
     "output_type": "execute_result"
    }
   ],
   "source": [
    "#위의 코드와 동일 표현만 다를 뿐\n",
    "def my_sum(a, b):\n",
    "    return a + b\n",
    "\n",
    "my_sum(1,2)"
   ]
  },
  {
   "cell_type": "markdown",
   "id": "9e3067b6-9821-400c-af90-1e4cf7c5d273",
   "metadata": {},
   "source": [
    "### 타입 힌트"
   ]
  },
  {
   "cell_type": "code",
   "execution_count": 67,
   "id": "3ebba022-07aa-4c7f-a109-4a0c2bca6dec",
   "metadata": {},
   "outputs": [
    {
     "data": {
      "text/plain": [
       "3"
      ]
     },
     "execution_count": 67,
     "metadata": {},
     "output_type": "execute_result"
    }
   ],
   "source": [
    "def my_sum(num1 : int, num2 : int) -> int:\n",
    "    '''\n",
    "    두수의 합을 구하는 함수입니다.\n",
    "    매개변수 num1,num2를 받아서 num1 + num2을 리턴함\n",
    "    '''\n",
    "    return num1 + num2\n",
    "\n",
    "my_sum(1,2)"
   ]
  },
  {
   "cell_type": "markdown",
   "id": "397a76be-7cd5-4ec0-8bf4-b95f8e6c440f",
   "metadata": {},
   "source": [
    "### 이름공간 (scope)\n",
    "파이썬에서 사용되는 이름들은 이름공간(namespace)에 저장되어 있습니다.\n",
    "\n",
    "- Local scope : 정의된 함수 내부\n",
    "- Fnclosed scope : 상위 함수\n",
    "- Global scope : 함수 밖의 변수 혹은 import된 모듈\n",
    "- Built-in scope : 파이썬이 기본적으로 가지고 있는 함수 or 변수"
   ]
  },
  {
   "cell_type": "code",
   "execution_count": 69,
   "id": "e91b3b43-3e8f-461c-8e50-f2636e11829a",
   "metadata": {},
   "outputs": [],
   "source": [
    "str = '123'"
   ]
  },
  {
   "cell_type": "code",
   "execution_count": 70,
   "id": "fba4185e-b74f-4f2c-add7-502f50bff528",
   "metadata": {},
   "outputs": [
    {
     "name": "stdout",
     "output_type": "stream",
     "text": [
      "123\n"
     ]
    }
   ],
   "source": [
    "print(str)"
   ]
  },
  {
   "cell_type": "code",
   "execution_count": 71,
   "id": "03d40b78-2f65-4c4a-b979-426adc45f7bb",
   "metadata": {},
   "outputs": [
    {
     "ename": "TypeError",
     "evalue": "'str' object is not callable",
     "output_type": "error",
     "traceback": [
      "\u001b[1;31m---------------------------------------------------------------------------\u001b[0m",
      "\u001b[1;31mTypeError\u001b[0m                                 Traceback (most recent call last)",
      "Cell \u001b[1;32mIn[71], line 1\u001b[0m\n\u001b[1;32m----> 1\u001b[0m \u001b[38;5;28;43mstr\u001b[39;49m\u001b[43m(\u001b[49m\u001b[38;5;241;43m789\u001b[39;49m\u001b[43m)\u001b[49m\n",
      "\u001b[1;31mTypeError\u001b[0m: 'str' object is not callable"
     ]
    }
   ],
   "source": [
    "str(789)"
   ]
  },
  {
   "cell_type": "code",
   "execution_count": 72,
   "id": "ee61233f-6150-4fc4-a3dd-8352c443e251",
   "metadata": {},
   "outputs": [],
   "source": [
    "del str"
   ]
  },
  {
   "cell_type": "code",
   "execution_count": 73,
   "id": "66bf5d2a-e2bd-4c94-b51c-855c57d466a4",
   "metadata": {},
   "outputs": [
    {
     "name": "stdout",
     "output_type": "stream",
     "text": [
      "5\n"
     ]
    }
   ],
   "source": [
    "a = 1\n",
    "def localscope(a):\n",
    "    # a = 5\n",
    "    print(a)\n",
    "\n",
    "localscope(5)"
   ]
  },
  {
   "cell_type": "code",
   "execution_count": 75,
   "id": "0134d96c-2911-4d79-bb70-9f7687e054bc",
   "metadata": {},
   "outputs": [
    {
     "name": "stdout",
     "output_type": "stream",
     "text": [
      "20\n",
      "20\n"
     ]
    }
   ],
   "source": [
    "num = 10\n",
    "def scope():\n",
    "    global num\n",
    "    num = 20\n",
    "    print(num)\n",
    "\n",
    "scope()\n",
    "print(num)"
   ]
  },
  {
   "cell_type": "markdown",
   "id": "a2054ee0-57e3-4cc1-85a6-5e23c3a3175e",
   "metadata": {},
   "source": [
    "## 재귀 (recursive)\n",
    "재귀 함수는 함수 내부에서 자기 자신을 호출하는 함수를 의미"
   ]
  },
  {
   "cell_type": "code",
   "execution_count": 78,
   "id": "6e3a8953-7bb0-4dc3-babd-98682cbffda6",
   "metadata": {},
   "outputs": [
    {
     "ename": "TypeError",
     "evalue": "'int' object is not iterable",
     "output_type": "error",
     "traceback": [
      "\u001b[1;31m---------------------------------------------------------------------------\u001b[0m",
      "\u001b[1;31mTypeError\u001b[0m                                 Traceback (most recent call last)",
      "Cell \u001b[1;32mIn[78], line 9\u001b[0m\n\u001b[0;32m      6\u001b[0m         n \u001b[38;5;241m*\u001b[39m\u001b[38;5;241m=\u001b[39m (n \u001b[38;5;241m-\u001b[39m \u001b[38;5;241m1\u001b[39m)\n\u001b[0;32m      7\u001b[0m     \u001b[38;5;28;01mreturn\u001b[39;00m n\n\u001b[1;32m----> 9\u001b[0m \u001b[43mfact\u001b[49m\u001b[43m(\u001b[49m\u001b[38;5;241;43m5\u001b[39;49m\u001b[43m)\u001b[49m\n",
      "Cell \u001b[1;32mIn[78], line 5\u001b[0m, in \u001b[0;36mfact\u001b[1;34m(n)\u001b[0m\n\u001b[0;32m      3\u001b[0m \u001b[38;5;28;01mif\u001b[39;00m n \u001b[38;5;241m==\u001b[39m \u001b[38;5;241m1\u001b[39m:\n\u001b[0;32m      4\u001b[0m     \u001b[38;5;28;01mreturn\u001b[39;00m\n\u001b[1;32m----> 5\u001b[0m \u001b[38;5;28;01mfor\u001b[39;00m i \u001b[38;5;129;01min\u001b[39;00m n :\n\u001b[0;32m      6\u001b[0m     n \u001b[38;5;241m*\u001b[39m\u001b[38;5;241m=\u001b[39m (n \u001b[38;5;241m-\u001b[39m \u001b[38;5;241m1\u001b[39m)\n\u001b[0;32m      7\u001b[0m \u001b[38;5;28;01mreturn\u001b[39;00m n\n",
      "\u001b[1;31mTypeError\u001b[0m: 'int' object is not iterable"
     ]
    }
   ],
   "source": [
    "# 팩토리얼\n",
    "# 내 코드\n",
    "# def fact(n):\n",
    "#     if n == 1:\n",
    "#         return\n",
    "#     for i in n :\n",
    "#         n *= (n - 1)\n",
    "#     return n\n",
    "    \n",
    "# fact(5)"
   ]
  },
  {
   "cell_type": "code",
   "execution_count": 80,
   "id": "67ddfc6f-ebb2-4055-8fed-32fb232fad40",
   "metadata": {},
   "outputs": [
    {
     "data": {
      "text/plain": [
       "120"
      ]
     },
     "execution_count": 80,
     "metadata": {},
     "output_type": "execute_result"
    }
   ],
   "source": [
    "#팩토리얼(1 * 2 * ... * n = n!)\n",
    "#강사님 코드\n",
    "def face(n):\n",
    "    result = 1\n",
    "\n",
    "    while n > 1:\n",
    "        result = result * n\n",
    "        # result *= n\n",
    "        n = n -1\n",
    "        # n -= 1\n",
    "    return result\n",
    "    \n",
    "face(5)"
   ]
  },
  {
   "cell_type": "code",
   "execution_count": null,
   "id": "00f2fb47-3b12-440b-a9c2-a767c3ed1ae7",
   "metadata": {},
   "outputs": [],
   "source": [
    "# factorial 간단 개념\n",
    "# 1! = 1\n",
    "# 2! = 1 * 2 = 1! * 2\n",
    "# 3! = 1 * 2 * 3 = 2! * 3\n",
    "# 4! = 1 * 2 * 3 * 4 = 3! * 4\n",
    "# 5! = 1 * 2 * 3 * 4 * 5 = 4! * 5\n",
    "\n",
    "# factorial 함수의 원리\n",
    "# fact(5)가 실행되면?\n",
    "# fact( fact(4) * 5)\n",
    "# fact( fact( fact(3) * 4 ) * 5)\n",
    "\n",
    "#print('hello')"
   ]
  },
  {
   "cell_type": "code",
   "execution_count": 81,
   "id": "6e20fcc1-82d1-4049-a84f-fb01984526aa",
   "metadata": {},
   "outputs": [
    {
     "data": {
      "text/plain": [
       "120"
      ]
     },
     "execution_count": 81,
     "metadata": {},
     "output_type": "execute_result"
    }
   ],
   "source": [
    "def factorial(n):\n",
    "    if n <= 1:\n",
    "        return 1\n",
    "    else:\n",
    "        return factorial(n - 1) * n\n",
    "        # 10! = 9! * 10 = 1 * 2 * 3 * ... * 10\n",
    "factorial(5)"
   ]
  },
  {
   "cell_type": "code",
   "execution_count": 82,
   "id": "4502d5db-d6d3-4449-bc45-45902157ed74",
   "metadata": {},
   "outputs": [
    {
     "ename": "TypeError",
     "evalue": "test_error() takes 0 positional arguments but 1 was given",
     "output_type": "error",
     "traceback": [
      "\u001b[1;31m---------------------------------------------------------------------------\u001b[0m",
      "\u001b[1;31mTypeError\u001b[0m                                 Traceback (most recent call last)",
      "Cell \u001b[1;32mIn[82], line 3\u001b[0m\n\u001b[0;32m      1\u001b[0m \u001b[38;5;28;01mdef\u001b[39;00m \u001b[38;5;21mtest_error\u001b[39m():\n\u001b[0;32m      2\u001b[0m     \u001b[38;5;28;01mreturn\u001b[39;00m test_error(n)\n\u001b[1;32m----> 3\u001b[0m \u001b[43mtest_error\u001b[49m\u001b[43m(\u001b[49m\u001b[38;5;241;43m1\u001b[39;49m\u001b[43m)\u001b[49m\n",
      "\u001b[1;31mTypeError\u001b[0m: test_error() takes 0 positional arguments but 1 was given"
     ]
    }
   ],
   "source": [
    "def test_error():\n",
    "    return test_error(n)\n",
    "test_error(1)"
   ]
  },
  {
   "cell_type": "markdown",
   "id": "0f312d86-1afb-4c02-a223-de84d99910bc",
   "metadata": {},
   "source": [
    "### 피보나치 수열\n",
    "\n",
    "```\n",
    "F(0) = F(1) = 1\n",
    "F(n) = F(n-1) + F(n-2)\n",
    "```"
   ]
  },
  {
   "cell_type": "code",
   "execution_count": 7,
   "id": "8023159d-e434-4b8e-a281-446edea1c0fb",
   "metadata": {},
   "outputs": [
    {
     "data": {
      "text/plain": [
       "573147844013817084101"
      ]
     },
     "execution_count": 7,
     "metadata": {},
     "output_type": "execute_result"
    }
   ],
   "source": [
    "#강사님 코드\n",
    "#반복문\n",
    "def fib_loop(n):\n",
    "    result = [1,1]\n",
    "    \n",
    "    for i in range(1,n):\n",
    "        end1 = result[-1]\n",
    "        end2 = result[len(result) - 2]\n",
    "        fib_num = end1 + end2\n",
    "\n",
    "        result.append(fib_num)\n",
    "\n",
    "    return result[-1]\n",
    "    \n",
    "fib_loop(100)"
   ]
  },
  {
   "cell_type": "code",
   "execution_count": 8,
   "id": "4a7a0289-3f5c-46ed-869d-ba8158c7f11d",
   "metadata": {},
   "outputs": [
    {
     "ename": "KeyboardInterrupt",
     "evalue": "",
     "output_type": "error",
     "traceback": [
      "\u001b[1;31m---------------------------------------------------------------------------\u001b[0m",
      "\u001b[1;31mKeyboardInterrupt\u001b[0m                         Traceback (most recent call last)",
      "Cell \u001b[1;32mIn[8], line 8\u001b[0m\n\u001b[0;32m      5\u001b[0m     \u001b[38;5;28;01melse\u001b[39;00m:\n\u001b[0;32m      6\u001b[0m         \u001b[38;5;28;01mreturn\u001b[39;00m fib_rec(n\u001b[38;5;241m-\u001b[39m\u001b[38;5;241m1\u001b[39m) \u001b[38;5;241m+\u001b[39m fib_rec(n\u001b[38;5;241m-\u001b[39m\u001b[38;5;241m2\u001b[39m)\n\u001b[1;32m----> 8\u001b[0m \u001b[43mfib_rec\u001b[49m\u001b[43m(\u001b[49m\u001b[38;5;241;43m100\u001b[39;49m\u001b[43m)\u001b[49m\n",
      "Cell \u001b[1;32mIn[8], line 6\u001b[0m, in \u001b[0;36mfib_rec\u001b[1;34m(n)\u001b[0m\n\u001b[0;32m      4\u001b[0m     \u001b[38;5;28;01mreturn\u001b[39;00m \u001b[38;5;241m1\u001b[39m\n\u001b[0;32m      5\u001b[0m \u001b[38;5;28;01melse\u001b[39;00m:\n\u001b[1;32m----> 6\u001b[0m     \u001b[38;5;28;01mreturn\u001b[39;00m \u001b[43mfib_rec\u001b[49m\u001b[43m(\u001b[49m\u001b[43mn\u001b[49m\u001b[38;5;241;43m-\u001b[39;49m\u001b[38;5;241;43m1\u001b[39;49m\u001b[43m)\u001b[49m \u001b[38;5;241m+\u001b[39m fib_rec(n\u001b[38;5;241m-\u001b[39m\u001b[38;5;241m2\u001b[39m)\n",
      "Cell \u001b[1;32mIn[8], line 6\u001b[0m, in \u001b[0;36mfib_rec\u001b[1;34m(n)\u001b[0m\n\u001b[0;32m      4\u001b[0m     \u001b[38;5;28;01mreturn\u001b[39;00m \u001b[38;5;241m1\u001b[39m\n\u001b[0;32m      5\u001b[0m \u001b[38;5;28;01melse\u001b[39;00m:\n\u001b[1;32m----> 6\u001b[0m     \u001b[38;5;28;01mreturn\u001b[39;00m \u001b[43mfib_rec\u001b[49m\u001b[43m(\u001b[49m\u001b[43mn\u001b[49m\u001b[38;5;241;43m-\u001b[39;49m\u001b[38;5;241;43m1\u001b[39;49m\u001b[43m)\u001b[49m \u001b[38;5;241m+\u001b[39m fib_rec(n\u001b[38;5;241m-\u001b[39m\u001b[38;5;241m2\u001b[39m)\n",
      "    \u001b[1;31m[... skipping similar frames: fib_rec at line 6 (80 times)]\u001b[0m\n",
      "Cell \u001b[1;32mIn[8], line 6\u001b[0m, in \u001b[0;36mfib_rec\u001b[1;34m(n)\u001b[0m\n\u001b[0;32m      4\u001b[0m     \u001b[38;5;28;01mreturn\u001b[39;00m \u001b[38;5;241m1\u001b[39m\n\u001b[0;32m      5\u001b[0m \u001b[38;5;28;01melse\u001b[39;00m:\n\u001b[1;32m----> 6\u001b[0m     \u001b[38;5;28;01mreturn\u001b[39;00m \u001b[43mfib_rec\u001b[49m\u001b[43m(\u001b[49m\u001b[43mn\u001b[49m\u001b[38;5;241;43m-\u001b[39;49m\u001b[38;5;241;43m1\u001b[39;49m\u001b[43m)\u001b[49m \u001b[38;5;241m+\u001b[39m fib_rec(n\u001b[38;5;241m-\u001b[39m\u001b[38;5;241m2\u001b[39m)\n",
      "Cell \u001b[1;32mIn[8], line 2\u001b[0m, in \u001b[0;36mfib_rec\u001b[1;34m(n)\u001b[0m\n\u001b[0;32m      1\u001b[0m \u001b[38;5;66;03m#재귀문\u001b[39;00m\n\u001b[1;32m----> 2\u001b[0m \u001b[38;5;28;01mdef\u001b[39;00m \u001b[38;5;21mfib_rec\u001b[39m(n):\n\u001b[0;32m      3\u001b[0m     \u001b[38;5;28;01mif\u001b[39;00m n \u001b[38;5;241m==\u001b[39m \u001b[38;5;241m0\u001b[39m \u001b[38;5;129;01mor\u001b[39;00m n \u001b[38;5;241m==\u001b[39m \u001b[38;5;241m1\u001b[39m:\n\u001b[0;32m      4\u001b[0m         \u001b[38;5;28;01mreturn\u001b[39;00m \u001b[38;5;241m1\u001b[39m\n",
      "\u001b[1;31mKeyboardInterrupt\u001b[0m: "
     ]
    }
   ],
   "source": [
    "#재귀문\n",
    "def fib_rec(n):\n",
    "    if n == 0 or n == 1:\n",
    "        return 1\n",
    "    else:\n",
    "        return fib_rec(n-1) + fib_rec(n-2)\n",
    "\n",
    "fib_rec(100)"
   ]
  },
  {
   "cell_type": "code",
   "execution_count": null,
   "id": "0383ad3f-45a8-485b-bf6f-b48498d1a0d8",
   "metadata": {},
   "outputs": [],
   "source": []
  }
 ],
 "metadata": {
  "kernelspec": {
   "display_name": "Python 3 (ipykernel)",
   "language": "python",
   "name": "python3"
  },
  "language_info": {
   "codemirror_mode": {
    "name": "ipython",
    "version": 3
   },
   "file_extension": ".py",
   "mimetype": "text/x-python",
   "name": "python",
   "nbconvert_exporter": "python",
   "pygments_lexer": "ipython3",
   "version": "3.11.4"
  }
 },
 "nbformat": 4,
 "nbformat_minor": 5
}
