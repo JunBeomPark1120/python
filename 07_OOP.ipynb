{
 "cells": [
  {
   "cell_type": "markdown",
   "id": "ef18858c-febd-4144-b5eb-06628ec8ace7",
   "metadata": {},
   "source": [
    "# 객체지향 프로그래밍(OOP)\n",
    "\n",
    "- 클래스(class) : 같은 종류의 집단에 속하는 속성(attribute)과 행위(method)를 **정의**한 것\n",
    "- 인스턴스(instance) : 클래스를 실제로 메모리상에 할당한 것\n",
    "- 속성(attribute) : 클래스/인스턴스가 가지고 있는 **데이터**/값\n",
    "- 행위 : 클래스/인스턴스가 가지고 있는 **함수**/기능"
   ]
  },
  {
   "cell_type": "code",
   "execution_count": 1,
   "id": "a46f444d-16ee-4975-b5e5-783d906fe1a7",
   "metadata": {},
   "outputs": [
    {
     "name": "stdout",
     "output_type": "stream",
     "text": [
      "(1+2j)\n"
     ]
    }
   ],
   "source": [
    "number = 1 + 2j\n",
    "print(number)"
   ]
  },
  {
   "cell_type": "code",
   "execution_count": 3,
   "id": "7863ac16-c018-4786-b4bb-61ae26e73f0c",
   "metadata": {},
   "outputs": [
    {
     "name": "stdout",
     "output_type": "stream",
     "text": [
      "1.0\n",
      "2.0\n"
     ]
    }
   ],
   "source": [
    "print(number.real)\n",
    "print(number.imag)"
   ]
  },
  {
   "cell_type": "code",
   "execution_count": 6,
   "id": "f49052be-3eae-464e-9836-703edc243983",
   "metadata": {},
   "outputs": [
    {
     "name": "stdout",
     "output_type": "stream",
     "text": [
      "<class 'complex'>\n"
     ]
    }
   ],
   "source": [
    "print(type(number))"
   ]
  },
  {
   "cell_type": "code",
   "execution_count": 7,
   "id": "e0a82a1f-716d-4c7c-918d-340b9d1625ae",
   "metadata": {},
   "outputs": [
    {
     "name": "stdout",
     "output_type": "stream",
     "text": [
      "<class 'list'>\n"
     ]
    }
   ],
   "source": [
    "my_list = [1,2,3,4,5]\n",
    "print(type(my_list))\n",
    "my_list.sort()"
   ]
  },
  {
   "cell_type": "code",
   "execution_count": 8,
   "id": "9ef9965b-5bf3-4150-9a14-2cdb49c4a814",
   "metadata": {},
   "outputs": [],
   "source": [
    "power = False\n",
    "number = '010-1234-5678'\n",
    "book = {\n",
    "    '홍길동' : '010-1111-1111',\n",
    "    '이순신' : '010-2222-2222',\n",
    "}\n",
    "model = 'iphone12'"
   ]
  },
  {
   "cell_type": "code",
   "execution_count": 10,
   "id": "18fcd8a3-4516-4712-9f0b-74e03ed5c1ec",
   "metadata": {},
   "outputs": [],
   "source": [
    "def on():\n",
    "    global power\n",
    "    if power == False:\n",
    "        power = True\n",
    "        print('핸드폰이 켜졌습니다.')"
   ]
  },
  {
   "cell_type": "code",
   "execution_count": 11,
   "id": "e8a9e327-67c0-44e4-a831-4a4d92e4a4fa",
   "metadata": {},
   "outputs": [
    {
     "name": "stdout",
     "output_type": "stream",
     "text": [
      "핸드폰이 켜졌습니다.\n"
     ]
    }
   ],
   "source": [
    "on()"
   ]
  },
  {
   "cell_type": "markdown",
   "id": "b09d6096-a79e-47ca-a5db-d0a10dbc533f",
   "metadata": {},
   "source": [
    "## Class\n",
    "\n",
    "- 클래스 선언\n",
    "```python\n",
    "class ClassName:\n",
    "    attribute = value\n",
    "\n",
    "    def method_name(self):\n",
    "        code\n",
    "```\n",
    "\n",
    "- 인스턴스화\n",
    "```python\n",
    "Classname()\n",
    "```"
   ]
  },
  {
   "cell_type": "code",
   "execution_count": 16,
   "id": "171b0fe4-f40f-4f97-bf10-f6bcf2d6fa34",
   "metadata": {},
   "outputs": [],
   "source": [
    "# 선언\n",
    "class MyClass:\n",
    "    name = 'kim'\n",
    "\n",
    "    def hello(self):\n",
    "        return 'hello'"
   ]
  },
  {
   "cell_type": "code",
   "execution_count": 18,
   "id": "555ddf82-230c-4b79-9f3a-af227938933e",
   "metadata": {},
   "outputs": [
    {
     "name": "stdout",
     "output_type": "stream",
     "text": [
      "kim\n",
      "hello\n",
      "kim\n",
      "hello\n"
     ]
    }
   ],
   "source": [
    "# 인스턴스화\n",
    "a = MyClass()\n",
    "\n",
    "print(a.name)\n",
    "print(a.hello())\n",
    "\n",
    "b = MyClass()\n",
    "\n",
    "print(b.name)\n",
    "print(b.hello())"
   ]
  },
  {
   "cell_type": "code",
   "execution_count": 28,
   "id": "efa3cadf-4bc7-4c70-8647-e1106fb343d1",
   "metadata": {},
   "outputs": [],
   "source": [
    "class phone:\n",
    "    power = False\n",
    "    number = '010-0000-0000'\n",
    "    book = {}\n",
    "    model = ''\n",
    "\n",
    "    def on(self):\n",
    "        if self.power == False:\n",
    "            self.power = True\n",
    "\n",
    "    def off(self):\n",
    "        if self.power == True:\n",
    "            self.power = False\n",
    "\n",
    "    def call(self, target):\n",
    "        if self.power == True:\n",
    "            print(f'내 번호는 {self.number}입니다.')\n",
    "            print(f'{target}번호로 전화거는중')\n",
    "        else:\n",
    "            print('핸드폰을 켜주세요')"
   ]
  },
  {
   "cell_type": "code",
   "execution_count": 29,
   "id": "c0376e55-7ea7-4172-92ad-79d479f9cd59",
   "metadata": {},
   "outputs": [],
   "source": [
    "my_phone = phone()\n",
    "your_phone = phone()"
   ]
  },
  {
   "cell_type": "code",
   "execution_count": 30,
   "id": "1a35037b-2d61-4f93-8596-05f2bcd85921",
   "metadata": {},
   "outputs": [
    {
     "name": "stdout",
     "output_type": "stream",
     "text": [
      "010-1234-1234\n"
     ]
    }
   ],
   "source": [
    "my_phone.number = '010-1234-1234'\n",
    "print(my_phone.number)"
   ]
  },
  {
   "cell_type": "code",
   "execution_count": 31,
   "id": "62ac0ff9-2e8a-4293-a977-bc2b3bd82824",
   "metadata": {},
   "outputs": [
    {
     "data": {
      "text/plain": [
       "'010-0000-0000'"
      ]
     },
     "execution_count": 31,
     "metadata": {},
     "output_type": "execute_result"
    }
   ],
   "source": [
    "your_phone.number"
   ]
  },
  {
   "cell_type": "code",
   "execution_count": 32,
   "id": "ca9ee6eb-3a04-4721-b2b2-f97ed9c338c4",
   "metadata": {},
   "outputs": [
    {
     "data": {
      "text/plain": [
       "False"
      ]
     },
     "execution_count": 32,
     "metadata": {},
     "output_type": "execute_result"
    }
   ],
   "source": [
    "my_phone.power"
   ]
  },
  {
   "cell_type": "code",
   "execution_count": 33,
   "id": "a2e5a88f-4b96-4d54-870b-c8d38f791554",
   "metadata": {},
   "outputs": [],
   "source": [
    "my_phone.on()"
   ]
  },
  {
   "cell_type": "code",
   "execution_count": 27,
   "id": "64f5e5f5-7343-4c48-8582-4a479cc5e515",
   "metadata": {},
   "outputs": [
    {
     "data": {
      "text/plain": [
       "True"
      ]
     },
     "execution_count": 27,
     "metadata": {},
     "output_type": "execute_result"
    }
   ],
   "source": [
    "my_phone.power"
   ]
  },
  {
   "cell_type": "code",
   "execution_count": 34,
   "id": "dd82cb5e-e178-4774-b739-918a8b34431e",
   "metadata": {},
   "outputs": [
    {
     "name": "stdout",
     "output_type": "stream",
     "text": [
      "내 번호는 010-1234-1234입니다.\n",
      "112번호로 전화거는중\n"
     ]
    }
   ],
   "source": [
    "my_phone.call('112')"
   ]
  },
  {
   "cell_type": "code",
   "execution_count": 42,
   "id": "f87410a9-4c70-4e71-a7a0-8d7c931afe60",
   "metadata": {},
   "outputs": [],
   "source": [
    "# 연습\n",
    "class MyList:\n",
    "    data = []\n",
    "\n",
    "    def append(self, item):\n",
    "        self.data = self.data + [item]\n",
    "\n",
    "    # data의 제일 마지막 요소를 삭제하고, 삭제된 요소를 리턴\n",
    "    def pop(self):\n",
    "        num = self.data[-1]\n",
    "        self.data = self.data[:-1]\n",
    "        return num"
   ]
  },
  {
   "cell_type": "code",
   "execution_count": 44,
   "id": "1c757d8f-4b0d-4f42-8611-1d1db53c3c5f",
   "metadata": {},
   "outputs": [
    {
     "name": "stdout",
     "output_type": "stream",
     "text": [
      "[]\n",
      "[5, 1, 10]\n",
      "10\n",
      "[5, 1]\n"
     ]
    }
   ],
   "source": [
    "list_a = MyList()\n",
    "print(list_a.data)\n",
    "\n",
    "list_a.append(5)\n",
    "list_a.append(1)\n",
    "list_a.append(10)\n",
    "print(list_a.data)\n",
    "\n",
    "print(list_a.pop())\n",
    "print(list_a.data)"
   ]
  },
  {
   "cell_type": "code",
   "execution_count": 40,
   "id": "6893b971-b9fe-4f1e-a0da-351d682eef61",
   "metadata": {},
   "outputs": [
    {
     "name": "stdout",
     "output_type": "stream",
     "text": [
      "[]\n",
      "[2, 4, 6]\n"
     ]
    }
   ],
   "source": [
    "list_b = MyList()\n",
    "print(list_b.data)\n",
    "\n",
    "list_b.append(2)\n",
    "list_b.append(4)\n",
    "list_b.append(6)\n",
    "print(list_b.data)"
   ]
  },
  {
   "cell_type": "code",
   "execution_count": 45,
   "id": "45852ef6-8348-4759-b9aa-e25a9d3edfa8",
   "metadata": {},
   "outputs": [
    {
     "data": {
      "text/plain": [
       "'kim'"
      ]
     },
     "execution_count": 45,
     "metadata": {},
     "output_type": "execute_result"
    }
   ],
   "source": [
    "# 정리\n",
    "class Person : # => 클래스 정의(선언) : 클래스 객체 생성\n",
    "    name = 'kim' # => 속성(attribute) : 변수값/데이터\n",
    "\n",
    "    def hello(self): # => 행동(method) : 함수/기능\n",
    "        return self.name\n",
    "\n",
    "p = Person() # => 인스턴스화 / 인스턴스 객체를 생성\n",
    "p.name # => 속성을 호출\n",
    "p.hello() # => 메소드를 실행"
   ]
  },
  {
   "cell_type": "code",
   "execution_count": 205,
   "id": "02c68ecf-2992-42bf-88e7-100bd25c734d",
   "metadata": {},
   "outputs": [],
   "source": [
    "# 연습문제 - Fan 클래스\n",
    "class Fan:\n",
    "    power = ['꺼짐', '약풍', '중풍', '강풍']\n",
    "    status = 0\n",
    "\n",
    "    def button(self):\n",
    "        # self.status += 1\n",
    "        self.status = (self.status + 1) % 4\n",
    "        print(f'현재 상태는 {self.power[self.status]}')"
   ]
  },
  {
   "cell_type": "code",
   "execution_count": 206,
   "id": "87a7173b-bfb1-4442-ad77-f43b0fd91c50",
   "metadata": {},
   "outputs": [],
   "source": [
    "class Person:\n",
    "    name = ''\n",
    "\n",
    "    def hello(self):\n",
    "        print(f'나의 이름은 {self.name}입니다.')"
   ]
  },
  {
   "cell_type": "code",
   "execution_count": 207,
   "id": "a65c6629-cd53-4ddb-87d1-6eac510b492f",
   "metadata": {},
   "outputs": [
    {
     "name": "stdout",
     "output_type": "stream",
     "text": [
      "\n",
      "나의 이름은 입니다.\n",
      "나의 이름은 kim입니다.\n"
     ]
    }
   ],
   "source": [
    "p = Person()\n",
    "print(p.name)\n",
    "p.hello()\n",
    "p.name = 'kim'\n",
    "p.hello()"
   ]
  },
  {
   "cell_type": "code",
   "execution_count": 64,
   "id": "52dbb65d-f659-45ca-86ed-c2aea4354cc8",
   "metadata": {},
   "outputs": [],
   "source": [
    "# self : 인스턴스 객체 자기자신(다른 언어에선 this)\n",
    "# - 특별한 상황을 제외하고는 무조건 메소드의 첫번째 인자로 설정함.\n",
    "# - 인스턴스 메소드를 실행할 때 자동으로 첫 번째 인자에 인스턴스를 할당한다."
   ]
  },
  {
   "cell_type": "code",
   "execution_count": 63,
   "id": "8db98f82-83e0-461f-843f-9b3289b7d3fb",
   "metadata": {},
   "outputs": [
    {
     "name": "stdout",
     "output_type": "stream",
     "text": [
      "나의 이름은 입니다.\n",
      "나의 이름은 입니다.\n"
     ]
    }
   ],
   "source": [
    "p1 = Person()\n",
    "# self 매개변수 자리에 p1이라고 하는 인스턴스 객체가 인자로 전달\n",
    "Person.hello(p1)\n",
    "# p1인스턴스 객체에서부터 메소드가 실행되기 때문에 self == p1\n",
    "p1.hello()"
   ]
  },
  {
   "cell_type": "markdown",
   "id": "47832cd7-892e-4b0a-9460-2c38672a8d3e",
   "metadata": {},
   "source": [
    "## 생성자, 소멸자\n",
    "\n",
    "```python\n",
    "class MyClass:\n",
    "    def __init__(self):\n",
    "        pass\n",
    "    def __del__(self):\n",
    "        pass\n",
    "```"
   ]
  },
  {
   "cell_type": "code",
   "execution_count": 83,
   "id": "495e61b5-6b1f-43b8-a348-5d9925c2941c",
   "metadata": {},
   "outputs": [],
   "source": [
    "class Person:\n",
    "    name = 'noname'\n",
    "\n",
    "    def __init__(self,name = '익명'):\n",
    "        self.name = name\n",
    "        print('생성됨')\n",
    "\n",
    "    def __del__(self):\n",
    "        print('소멸됨')"
   ]
  },
  {
   "cell_type": "code",
   "execution_count": 84,
   "id": "6a469388-8aa2-43f7-a2b2-951cbdd8e874",
   "metadata": {},
   "outputs": [
    {
     "name": "stdout",
     "output_type": "stream",
     "text": [
      "생성됨\n",
      "소멸됨\n",
      "junbeom\n"
     ]
    }
   ],
   "source": [
    "p1 = Person() # => Person.__init__(p1, )\n",
    "p1.name = 'junbeom'\n",
    "print(p1.name)"
   ]
  },
  {
   "cell_type": "code",
   "execution_count": 85,
   "id": "47cf854f-efc7-4a49-83a4-36b03c5a626a",
   "metadata": {},
   "outputs": [
    {
     "name": "stdout",
     "output_type": "stream",
     "text": [
      "생성됨\n",
      "소멸됨\n",
      "kim\n"
     ]
    }
   ],
   "source": [
    "p2 = Person('kim') # => Person.__init__(p2, 'kim')\n",
    "print(p2.name)"
   ]
  },
  {
   "cell_type": "code",
   "execution_count": 108,
   "id": "7d6b6537-3739-4919-86c2-130949a7820a",
   "metadata": {},
   "outputs": [],
   "source": [
    "# Circle 클래스\n",
    "\n",
    "class Circle:\n",
    "    pi = 3.14\n",
    "    \n",
    "    def __init__(self, r, x_point = 0, y_point = 0):\n",
    "        self.r = r\n",
    "        self.x = x_point\n",
    "        self.y = y_point\n",
    "\n",
    "    def area(self):\n",
    "        return self.pi * self.r ** 2\n",
    "\n",
    "    def move(self, x, y):\n",
    "        self.x = x\n",
    "        self.y = y\n",
    "        print(f'원의 중심이 {x}, {y}로 이동했습니다.')\n",
    "\n",
    "    def center(self):\n",
    "        #원의 중심을 (x, y)로 반환\n",
    "        return (self.x, self.y)"
   ]
  },
  {
   "cell_type": "code",
   "execution_count": 110,
   "id": "a8fe9eb8-cc7f-4c62-a407-e60a10eb35c8",
   "metadata": {},
   "outputs": [
    {
     "name": "stdout",
     "output_type": "stream",
     "text": [
      "5\n",
      "3\n",
      "28.26\n",
      "원의 중심이 -3, -3로 이동했습니다.\n",
      "(-3, -3)\n",
      "0\n",
      "10\n",
      "314.0\n",
      "원의 중심이 10, 10로 이동했습니다.\n",
      "None\n",
      "(10, 10)\n"
     ]
    }
   ],
   "source": [
    "c1 = Circle(3, 5, 5)\n",
    "print(c1.x)\n",
    "print(c1.r)\n",
    "print(c1.area())\n",
    "c1.move(-3,-3)\n",
    "print(c1.center())\n",
    "\n",
    "c2 = Circle(10)\n",
    "print(c2.x)\n",
    "print(c2.r)\n",
    "print(c2.area())\n",
    "print(c2.move(10, 10))\n",
    "print(c2.center())"
   ]
  },
  {
   "cell_type": "markdown",
   "id": "24073a48-0f16-4744-87a5-1bbe2d670b75",
   "metadata": {},
   "source": [
    "### 클래스변수\n",
    "- 클래스 선언 블록 최상단에 위치\n",
    "\n",
    "### 인스턴스변수\n",
    "- 인스턴스 내부에서 생성한 변수(self, variable = )\n",
    "\n",
    "```python\n",
    "class TestClass:\n",
    "    class_variable = '클래스변수'\n",
    "\n",
    "    def __init__(self, arg):\n",
    "        self.instance_variable = '인스턴스변수'\n",
    "\n",
    "    def status(self):\n",
    "        return self.instance_variable\n",
    "```"
   ]
  },
  {
   "cell_type": "code",
   "execution_count": 119,
   "id": "87ac96a1-4b07-4249-b572-a5f10c0c0e21",
   "metadata": {},
   "outputs": [],
   "source": [
    "class Person:\n",
    "    name = '홍길동'\n",
    "    phone = '010-0000-0000'\n",
    "    \n",
    "    def __init__(self,name):\n",
    "        self.name = name"
   ]
  },
  {
   "cell_type": "code",
   "execution_count": 122,
   "id": "e9650564-f931-4150-827a-114849168806",
   "metadata": {},
   "outputs": [
    {
     "name": "stdout",
     "output_type": "stream",
     "text": [
      "박준범\n",
      "홍길동\n",
      "010-0000-0000\n"
     ]
    }
   ],
   "source": [
    "p = Person('박준범')\n",
    "print(p.name) # 인스턴스 변수\n",
    "print(Person.name) # 클래스 변수\n",
    "\n",
    "print(p.phone)\n",
    "# print(p.location)"
   ]
  },
  {
   "cell_type": "markdown",
   "id": "5c0faa8d-8e83-456e-8e42-ef190368cc1e",
   "metadata": {},
   "source": [
    "### 클래스메소드, 인스턴스메소드, 스태틱메소드\n",
    "\n",
    "```python\n",
    "class MyClass:\n",
    "    def instance_method(self):\n",
    "        pass\n",
    "\n",
    "    @classmethod\n",
    "    def class_method():\n",
    "        pass\n",
    "\n",
    "    @staticmethod\n",
    "    def static_method():\n",
    "        pass\n",
    "```"
   ]
  },
  {
   "cell_type": "code",
   "execution_count": 135,
   "id": "e233d185-a941-4412-b67e-c97cb62e0635",
   "metadata": {},
   "outputs": [],
   "source": [
    "class MyClass:\n",
    "    def instance_method(self):\n",
    "        return self\n",
    "\n",
    "    @classmethod\n",
    "    def class_method(cls):\n",
    "        return cls\n",
    "\n",
    "    @staticmethod\n",
    "    def static_method():\n",
    "        return 'hello'"
   ]
  },
  {
   "cell_type": "code",
   "execution_count": 136,
   "id": "bfd13c09-e503-4761-8b83-755b30de610c",
   "metadata": {},
   "outputs": [
    {
     "name": "stdout",
     "output_type": "stream",
     "text": [
      "<__main__.MyClass object at 0x000002D6ED27D090>\n",
      "<class '__main__.MyClass'>\n",
      "<class '__main__.MyClass'>\n",
      "hello\n"
     ]
    }
   ],
   "source": [
    "c1 = MyClass()\n",
    "\n",
    "print(c1.instance_method())\n",
    "print(MyClass.class_method())\n",
    "print(c1.class_method())\n",
    "print(c1.static_method())"
   ]
  },
  {
   "cell_type": "code",
   "execution_count": 155,
   "id": "288ab92b-c338-4047-9332-79027694a51b",
   "metadata": {},
   "outputs": [],
   "source": [
    "class Puppy:\n",
    "    num_of_puppy = 0\n",
    "\n",
    "    def __init__(self, name):\n",
    "        self.name = name\n",
    "        Puppy.num_of_puppy += 1\n",
    "\n",
    "    @classmethod\n",
    "    def get_status(cls):\n",
    "        return f'현재 강아지는 {cls.num_of_puppy}마리 입니다.'\n",
    "\n",
    "    @staticmethod\n",
    "    def bark(string='멍멍'):\n",
    "        return string"
   ]
  },
  {
   "cell_type": "code",
   "execution_count": 156,
   "id": "b7da2511-23f7-4024-8637-2e19feafff9f",
   "metadata": {},
   "outputs": [
    {
     "name": "stdout",
     "output_type": "stream",
     "text": [
      "3\n",
      "3\n",
      "현재 강아지는 3마리 입니다.\n",
      "멍멍\n",
      "그르릉\n"
     ]
    }
   ],
   "source": [
    "p1 = Puppy('또또')\n",
    "p2 = Puppy('몽이')\n",
    "p3 = Puppy('흰둥이')\n",
    "\n",
    "print(p1.num_of_puppy)\n",
    "print(Puppy.num_of_puppy)\n",
    "\n",
    "print(Puppy.get_status())\n",
    "\n",
    "print(p1.bark())\n",
    "print(p2.bark('그르릉'))"
   ]
  },
  {
   "cell_type": "markdown",
   "id": "43fb18d8-391f-481f-b941-550472f1c714",
   "metadata": {},
   "source": [
    "## 정리\n",
    "\n",
    "```\n",
    "class\n",
    "    - attribute (variable,data)\n",
    "        - instance_variable\n",
    "        - class_variable\n",
    "    - method\n",
    "        - instance_method\n",
    "        - class_method\n",
    "        - static_method\n",
    "```"
   ]
  },
  {
   "cell_type": "markdown",
   "id": "fa899e72-3ae3-45ad-8e8c-fc826b15bc9f",
   "metadata": {},
   "source": [
    "## 상속"
   ]
  },
  {
   "cell_type": "code",
   "execution_count": 161,
   "id": "648ad8c4-1eb2-405c-8764-e7463117cc5f",
   "metadata": {},
   "outputs": [],
   "source": [
    "class Person:\n",
    "\n",
    "    def __init__(self, name):\n",
    "        self.name = name\n",
    "\n",
    "    def greeting(self):\n",
    "        print(f'안녕하세요 {self.name}입니다.')"
   ]
  },
  {
   "cell_type": "code",
   "execution_count": 162,
   "id": "0d0a683e-1e42-432f-b48c-2e9f54024df4",
   "metadata": {},
   "outputs": [
    {
     "name": "stdout",
     "output_type": "stream",
     "text": [
      "안녕하세요 홍길동입니다.\n"
     ]
    }
   ],
   "source": [
    "p1 = Person('홍길동')\n",
    "p2 = Person('이순신')\n",
    "\n",
    "p1.greeting()"
   ]
  },
  {
   "cell_type": "code",
   "execution_count": 165,
   "id": "6eaa3edc-39b6-4f9c-9a65-0e97cae24bd3",
   "metadata": {},
   "outputs": [],
   "source": [
    "class Student(Person):\n",
    "    # def __init__(self, name):\n",
    "    #     self.name = name\n",
    "\n",
    "    # def greeting(self):\n",
    "    #     print(f'안녕하세요 {self.name}입니다.')\n",
    "    \n",
    "    def __init__(self, name, student_id):\n",
    "        self.name = name\n",
    "        self.student_id = student_id"
   ]
  },
  {
   "cell_type": "code",
   "execution_count": 167,
   "id": "ae394f2c-b107-4a67-84bd-7f5752e875a3",
   "metadata": {},
   "outputs": [
    {
     "name": "stdout",
     "output_type": "stream",
     "text": [
      "안녕하세요 kim입니다.\n",
      "12345\n"
     ]
    }
   ],
   "source": [
    "s1 = Student('kim', 12345)\n",
    "s2 = Student('park', 98765)\n",
    "\n",
    "s1.greeting()\n",
    "print(s1.student_id)"
   ]
  },
  {
   "cell_type": "code",
   "execution_count": 177,
   "id": "a9dcea5e-85d9-428a-975d-29398636ba98",
   "metadata": {},
   "outputs": [],
   "source": [
    "class Soldier(Person):\n",
    "\n",
    "    def greeting(self):\n",
    "        return f'충성! {self.name}입니다.'"
   ]
  },
  {
   "cell_type": "code",
   "execution_count": 178,
   "id": "d9942c77-0663-4959-a91c-cf55c86053b3",
   "metadata": {},
   "outputs": [
    {
     "data": {
      "text/plain": [
       "'충성! 국방이입니다.'"
      ]
     },
     "execution_count": 178,
     "metadata": {},
     "output_type": "execute_result"
    }
   ],
   "source": [
    "s1 = Soldier('국방이')\n",
    "s1.greeting()"
   ]
  },
  {
   "cell_type": "code",
   "execution_count": 179,
   "id": "720b3a86-f259-4452-9d11-616f00110a07",
   "metadata": {},
   "outputs": [],
   "source": [
    "class Person:\n",
    "    def __init__(self, email, phone, location, name):\n",
    "        self.email = email\n",
    "        self.phone = phone\n",
    "        self.location = location\n",
    "        self.name = name\n",
    "\n",
    "class Student(Person):\n",
    "    def __init__(self, email_phone, location, name, student_id):\n",
    "        self.email = email\n",
    "        self.phone = phone\n",
    "        self.location = location\n",
    "        self.name = name\n",
    "        self.student_id = student_id\n",
    "\n",
    "class Soldier(Person):\n",
    "    def __init__(self, email, phone, location, name, soldier_id):\n",
    "        # super() => 부모클래스, 현재 부모클래스는 Person\n",
    "        super().__init__(email, phone, location, name)\n",
    "        self.soldier_id = soldier_id\n",
    "\n"
   ]
  },
  {
   "cell_type": "code",
   "execution_count": 180,
   "id": "722b9006-f0b3-468e-ab86-109d5a2d9f81",
   "metadata": {},
   "outputs": [
    {
     "name": "stdout",
     "output_type": "stream",
     "text": [
      "kim\n",
      "12345\n"
     ]
    }
   ],
   "source": [
    "s1 = Soldier('email@email.com', '010-0000-0000', 'seoul', 'kim', '12345')\n",
    "print(s1.name)\n",
    "print(s1.soldier_id)"
   ]
  },
  {
   "cell_type": "code",
   "execution_count": 187,
   "id": "b504f43f-5d0f-4d46-b08a-1321ff4e0385",
   "metadata": {},
   "outputs": [],
   "source": [
    "class Person:\n",
    "    def __init__(self, name):\n",
    "        self.name = name\n",
    "\n",
    "    def breath(self):\n",
    "        print('후하')"
   ]
  },
  {
   "cell_type": "code",
   "execution_count": 188,
   "id": "708eec72-47ea-4c96-b9a9-e829e15136c9",
   "metadata": {},
   "outputs": [],
   "source": [
    "class Mom(Person):\n",
    "    gend = 'xx'\n",
    "\n",
    "    def swim(self):\n",
    "        print('어푸어푸')"
   ]
  },
  {
   "cell_type": "code",
   "execution_count": 189,
   "id": "09a58b56-042b-43ab-9003-5c5d115ae67a",
   "metadata": {},
   "outputs": [],
   "source": [
    "class Dad(Person):\n",
    "    gend = 'xy'\n",
    "\n",
    "    def run(self):\n",
    "        print('다다다')"
   ]
  },
  {
   "cell_type": "code",
   "execution_count": 197,
   "id": "e0269e9b-f1f1-4ce3-826c-a8159816df6f",
   "metadata": {},
   "outputs": [],
   "source": [
    "class Baby(Dad, Mom):\n",
    "    pass"
   ]
  },
  {
   "cell_type": "code",
   "execution_count": 199,
   "id": "728a608c-c8dd-490f-9eb5-e6e2f9097856",
   "metadata": {},
   "outputs": [
    {
     "name": "stdout",
     "output_type": "stream",
     "text": [
      "후하\n",
      "어푸어푸\n",
      "다다다\n",
      "xy\n"
     ]
    }
   ],
   "source": [
    "b = Baby('금쪽이')\n",
    "b.breath()\n",
    "b.swim()\n",
    "b.run()\n",
    "# 다중상속을 한 경우 먼저 상속받은\n",
    "# 데이터/메소드가 우선적으로 할당됨\n",
    "print(b.gend)"
   ]
  },
  {
   "cell_type": "code",
   "execution_count": 247,
   "id": "d24c5120-3be1-4d04-973b-82938793b5ed",
   "metadata": {},
   "outputs": [],
   "source": [
    "# 한 번 만들어 보기\n",
    "class Pocketmon:\n",
    "    Hp = 100\n",
    "    Attack = ''\n",
    "    Defense = ''\n",
    "    Special_Attack = ''\n",
    "    Special_Defense = ''\n",
    "    Speed = ''\n",
    "\n",
    "    def __init__(self, Hp, Attack, Defense, Special_Attack, Special_Defense, Speed):\n",
    "        self.Hp = Hp\n",
    "        self.Attack = Attack\n",
    "        self.Defense = Defense\n",
    "        self.Special_Attack = Special_Attack\n",
    "        self.Special_Defense = Special_Defense\n",
    "        self.Speed = Speed"
   ]
  },
  {
   "cell_type": "code",
   "execution_count": 250,
   "id": "833c52b9-2ce4-4935-ba59-934682d30472",
   "metadata": {},
   "outputs": [],
   "source": [
    "class pikachu(Pocketmon):\n",
    "    def hp(self):\n",
    "        print(f'피카츄의 hp는 {self.Hp}로 설정합니다.')\n",
    "        return self.Hp\n",
    "\n",
    "    def attack(self):\n",
    "        print(f'피카츄가 {self.Attack}을(를) 공격합니다.')\n",
    "\n",
    "    def defense(self):\n",
    "        print(f'피카츄가 {self.Defense}의 공격을 방어합니다.')\n",
    "\n",
    "    def special_attack(self):\n",
    "        print(f'피카츄가 {self.Special_Attack}을(를) 특수공격합니다.')\n",
    "\n",
    "    def special_defense(self):\n",
    "        print(f'피카츄가 {self.Special_Defense}의 특수공격을 특수방어합니다.')\n",
    "\n",
    "    def speed(self):\n",
    "        print(f'피카츄의 속도는 {self.Speed} 입니다.')"
   ]
  },
  {
   "cell_type": "code",
   "execution_count": 251,
   "id": "b298dd61-c148-4452-b893-2a3b2a8d5855",
   "metadata": {},
   "outputs": [
    {
     "name": "stdout",
     "output_type": "stream",
     "text": [
      "피카츄의 hp는 70로 설정합니다.\n",
      "70\n",
      "피카츄가 라이츄을(를) 공격합니다.\n",
      "None\n",
      "피카츄가 라이츄의 공격을 방어합니다.\n",
      "None\n",
      "피카츄가 라이츄을(를) 특수공격합니다.\n",
      "None\n",
      "피카츄가 라이츄의 특수공격을 특수방어합니다.\n",
      "None\n",
      "피카츄의 속도는 보통 입니다.\n",
      "None\n"
     ]
    }
   ],
   "source": [
    "p = pikachu(70,'라이츄','라이츄','라이츄','라이츄','보통')\n",
    "print(p.hp())\n",
    "print(p.attack())\n",
    "print(p.defense())\n",
    "print(p.special_attack())\n",
    "print(p.special_defense())\n",
    "print(p.speed())\n",
    "# None이 출력된 이유? - 함수에서는 반드시 Return값을 반환을 해줘야함.\n",
    "# 그렇지 않으면 python은 None을 출력되기 때문"
   ]
  },
  {
   "cell_type": "code",
   "execution_count": null,
   "id": "185e76da-62b2-46aa-ab42-9ba547c4c083",
   "metadata": {},
   "outputs": [],
   "source": []
  }
 ],
 "metadata": {
  "kernelspec": {
   "display_name": "Python 3 (ipykernel)",
   "language": "python",
   "name": "python3"
  },
  "language_info": {
   "codemirror_mode": {
    "name": "ipython",
    "version": 3
   },
   "file_extension": ".py",
   "mimetype": "text/x-python",
   "name": "python",
   "nbconvert_exporter": "python",
   "pygments_lexer": "ipython3",
   "version": "3.11.4"
  }
 },
 "nbformat": 4,
 "nbformat_minor": 5
}
