{
 "cells": [
  {
   "cell_type": "markdown",
   "id": "ece3d1bc-c443-4fd0-8fb8-a5834ce25b8b",
   "metadata": {},
   "source": [
    "# 제어문"
   ]
  },
  {
   "cell_type": "markdown",
   "id": "0f6ccc4c-98ed-469c-9306-f0db9348d465",
   "metadata": {},
   "source": [
    "## 조건문(if문)\n",
    "1. 'if'문은 반드시 일정한 참/거짓을 판단할 수 있는 `조건식`과 함께 사용함. (`if <조건식>:`)\n",
    "\n",
    "2-1. `<조건식>`이 참인 경우 `:` 이후의 문장을 실행\n",
    "\n",
    "2-2. `<조건식>`이 거짓인 경우 `else:` 이후의 문장을 실행"
   ]
  },
  {
   "cell_type": "code",
   "execution_count": 3,
   "id": "2b445bee-2a77-4217-bb90-a5b0087fda6e",
   "metadata": {},
   "outputs": [
    {
     "name": "stdin",
     "output_type": "stream",
     "text": [
      " 123\n"
     ]
    },
    {
     "name": "stdout",
     "output_type": "stream",
     "text": [
      "크리스마스가 아닙니다.\n"
     ]
    }
   ],
   "source": [
    "my_string = input()\n",
    "\n",
    "if my_string == '12/25':\n",
    "    print('크리스마스입니다.')\n",
    "else:\n",
    "    print('크리스마스가 아닙니다.')"
   ]
  },
  {
   "cell_type": "code",
   "execution_count": 18,
   "id": "cc2d2c10-7f84-4561-a9a7-ce3f203aa13d",
   "metadata": {},
   "outputs": [
    {
     "name": "stdin",
     "output_type": "stream",
     "text": [
      "숫자를 입력해주세요 123\n"
     ]
    },
    {
     "name": "stdout",
     "output_type": "stream",
     "text": [
      "123\n",
      "<class 'str'>\n",
      "<class 'int'>\n"
     ]
    }
   ],
   "source": [
    "# input으로 숫자를 받으면 int가 아닌 str형으로 받아들이게 되니\n",
    "# 반드시 형변환을 할 것.\n",
    "num = input('숫자를 입력해주세요')\n",
    "print(num)\n",
    "print(type(num))\n",
    "num = int(num)\n",
    "print(type(num))"
   ]
  },
  {
   "cell_type": "code",
   "execution_count": 22,
   "id": "67e9fc5e-0709-464a-84c2-3afb48c056c5",
   "metadata": {},
   "outputs": [
    {
     "name": "stdout",
     "output_type": "stream",
     "text": [
      "홀수입니다.\n"
     ]
    }
   ],
   "source": [
    "# 조건문을 사용하여 num에 들어있는 숫자가 홀수/짝수 인지 판별\n",
    "\n",
    "if (num % 2) == 0:\n",
    "    print('짝수입니다.')\n",
    "else:\n",
    "    print('홀수입니다.')"
   ]
  },
  {
   "cell_type": "code",
   "execution_count": 21,
   "id": "19ce4c20-466e-4ccc-9855-0e918983d504",
   "metadata": {},
   "outputs": [
    {
     "name": "stdout",
     "output_type": "stream",
     "text": [
      "홀수입니다.\n"
     ]
    }
   ],
   "source": [
    "if (num % 2) == 1:\n",
    "    print('홀수입니다.')\n",
    "else:\n",
    "    print('짝수입니다.')"
   ]
  },
  {
   "cell_type": "code",
   "execution_count": 24,
   "id": "91599b15-0b93-4436-a811-9b8156db8790",
   "metadata": {},
   "outputs": [
    {
     "name": "stdout",
     "output_type": "stream",
     "text": [
      "홀수입니다.\n"
     ]
    }
   ],
   "source": [
    "# num을 2로 나눈 나머지는 0,1 두가지 경우가 있음.\n",
    "# if문의 조건식에 0,1은 자동형변환이 일어나 False, True로 변환함.\n",
    "if num % 2:\n",
    "    print('홀수입니다.')\n",
    "else:\n",
    "    print('짝수입니다.')"
   ]
  },
  {
   "cell_type": "markdown",
   "id": "5da94a6f-029f-4556-a3c2-e7232f003ab6",
   "metadata": {},
   "source": [
    "### elif\n",
    "\n",
    "```\n",
    "if <조건식>:\n",
    "    if 조건이 참인경우\n",
    "elif <조건식>:\n",
    "    elif 조건이 참인경우\n",
    "...\n",
    "else:\n",
    "    위의 조건식에 하나도 부합하지 않는경우 실행\n",
    "```"
   ]
  },
  {
   "cell_type": "code",
   "execution_count": 36,
   "id": "fe316dab-3b18-492b-bda9-0db9609a9a3f",
   "metadata": {},
   "outputs": [
    {
     "name": "stdin",
     "output_type": "stream",
     "text": [
      " 95\n"
     ]
    },
    {
     "data": {
      "text/plain": [
       "int"
      ]
     },
     "execution_count": 36,
     "metadata": {},
     "output_type": "execute_result"
    }
   ],
   "source": [
    "score = input()\n",
    "type(score)\n",
    "score = int(score)\n",
    "type(score)"
   ]
  },
  {
   "cell_type": "code",
   "execution_count": 39,
   "id": "134b0f81-2600-4838-a64b-ab8120a4022f",
   "metadata": {},
   "outputs": [
    {
     "name": "stdout",
     "output_type": "stream",
     "text": [
      "A입니다.\n",
      "참잘했어요\n"
     ]
    }
   ],
   "source": [
    "# 90점 이상 A (95점이상 '참잘했어요')\n",
    "# 80점 이상 B\n",
    "# 70점 이상 C\n",
    "# 나머지 F\n",
    "\n",
    "if (score >= 90):\n",
    "    print('A입니다.')\n",
    "    if score >= 95:\n",
    "        print('참잘했어요')\n",
    "elif score >= 90:\n",
    "    print('A입니다.')\n",
    "elif score >= 80:\n",
    "    print('B입니다.')\n",
    "elif score >= 70:\n",
    "    print('C입니다.')\n",
    "else:\n",
    "    print('F입니다.')"
   ]
  },
  {
   "cell_type": "markdown",
   "id": "6d55901a-3b0c-4ff9-859f-34643184d528",
   "metadata": {},
   "source": [
    "## 조건표현식(삼항연산자)\n",
    "\n",
    "```\n",
    "true_value if <조건식> else false_value\n",
    "```\n",
    "- 참일 경우 true_value 출력\n",
    "- 거짓일 경우 false_value 출력"
   ]
  },
  {
   "cell_type": "code",
   "execution_count": 42,
   "id": "1ba0b8e8-1d0f-4132-89dd-d5cc06dece98",
   "metadata": {},
   "outputs": [
    {
     "name": "stdout",
     "output_type": "stream",
     "text": [
      "True\n"
     ]
    }
   ],
   "source": [
    "print('True') if 1 > 0 else print('False')"
   ]
  },
  {
   "cell_type": "code",
   "execution_count": 44,
   "id": "00fcf678-7275-4d06-9cf8-c25b63a7a9cc",
   "metadata": {},
   "outputs": [
    {
     "name": "stdout",
     "output_type": "stream",
     "text": [
      "True\n"
     ]
    }
   ],
   "source": [
    "if 1 > 0:\n",
    "    print('True')\n",
    "else:\n",
    "    print('False')"
   ]
  },
  {
   "cell_type": "code",
   "execution_count": 41,
   "id": "f543b2e4-8598-4297-af18-dc4c87f33716",
   "metadata": {},
   "outputs": [
    {
     "name": "stdout",
     "output_type": "stream",
     "text": [
      "False\n"
     ]
    }
   ],
   "source": [
    "print('True') if 1 < 0 else print('False')"
   ]
  },
  {
   "cell_type": "code",
   "execution_count": 45,
   "id": "7b7f8442-2e12-4828-919c-fa504fa456a0",
   "metadata": {},
   "outputs": [
    {
     "name": "stdout",
     "output_type": "stream",
     "text": [
      "False\n"
     ]
    }
   ],
   "source": [
    "if 1 < 0:\n",
    "    print('True')\n",
    "else:\n",
    "    print('False')"
   ]
  },
  {
   "cell_type": "code",
   "execution_count": 47,
   "id": "a5651ad4-e444-4c9f-88b7-6f9a8fb76388",
   "metadata": {},
   "outputs": [
    {
     "name": "stdout",
     "output_type": "stream",
     "text": [
      "0\n"
     ]
    }
   ],
   "source": [
    "num = -5\n",
    "value = num if num >= 0 else 0\n",
    "print(value)"
   ]
  },
  {
   "cell_type": "code",
   "execution_count": 50,
   "id": "a95f6ceb-b2e0-4b3b-8434-718a7ac26adf",
   "metadata": {},
   "outputs": [
    {
     "name": "stdout",
     "output_type": "stream",
     "text": [
      "0\n"
     ]
    }
   ],
   "source": [
    "#내 코드\n",
    "if num >= 0:\n",
    "    print(num)\n",
    "else:\n",
    "    print(0)"
   ]
  },
  {
   "cell_type": "code",
   "execution_count": 52,
   "id": "0d02bbae-6430-46b6-97aa-6c4934e06f80",
   "metadata": {},
   "outputs": [
    {
     "name": "stdout",
     "output_type": "stream",
     "text": [
      "0\n"
     ]
    }
   ],
   "source": [
    "#강사님 코드\n",
    "num = -5\n",
    "if num >= 0:\n",
    "    value = num\n",
    "else :\n",
    "    value =0\n",
    "print(value)"
   ]
  },
  {
   "cell_type": "code",
   "execution_count": 53,
   "id": "8c163f2d-bc94-48d5-89e5-a8e18966642e",
   "metadata": {},
   "outputs": [
    {
     "name": "stdout",
     "output_type": "stream",
     "text": [
      "짝수\n"
     ]
    }
   ],
   "source": [
    "num = 2\n",
    "if num % 2 == 1:\n",
    "    result = '홀수'\n",
    "else :\n",
    "    result = '짝수'\n",
    "print(result)"
   ]
  },
  {
   "cell_type": "code",
   "execution_count": 1,
   "id": "3146a845-fc75-4977-a648-2c40af186488",
   "metadata": {},
   "outputs": [
    {
     "name": "stdout",
     "output_type": "stream",
     "text": [
      "짝수\n"
     ]
    }
   ],
   "source": [
    "num = 2\n",
    "value = '홀수' if num % 2 == 1 else '짝수'\n",
    "print(value)"
   ]
  },
  {
   "cell_type": "markdown",
   "id": "a348e178-d87e-48c2-9c50-7c2efea017fb",
   "metadata": {},
   "source": [
    "# 반복문\n",
    "\n",
    "## while문\n",
    "\n",
    "```\n",
    "while <조건식>:\n",
    "    실행할 코드\n",
    "```"
   ]
  },
  {
   "cell_type": "code",
   "execution_count": 1,
   "id": "be708201-1f93-4db3-a666-dad92570ca6c",
   "metadata": {},
   "outputs": [
    {
     "name": "stdout",
     "output_type": "stream",
     "text": [
      "0\n",
      "1\n",
      "2\n",
      "3\n",
      "4\n"
     ]
    }
   ],
   "source": [
    "a = 0\n",
    "\n",
    "while a < 5:\n",
    "    print(a)\n",
    "    a += 1\n",
    "    # a = a + 1"
   ]
  },
  {
   "cell_type": "code",
   "execution_count": 3,
   "id": "1fd945dc-f5a6-4f84-92c0-f888ddfad812",
   "metadata": {},
   "outputs": [
    {
     "name": "stdin",
     "output_type": "stream",
     "text": [
      " 1\n",
      " 5\n",
      " 7\n",
      " 안녕\n"
     ]
    },
    {
     "name": "stdout",
     "output_type": "stream",
     "text": [
      "goodbye~\n"
     ]
    }
   ],
   "source": [
    "# 내 코드\n",
    "# 사용자가 '안녕' 이라고 할 때까지 계속 입력을 요청받는 코드\n",
    "a = ''\n",
    "while a != '안녕':\n",
    "    a = input()\n",
    "print('goodbye~)"
   ]
  },
  {
   "cell_type": "code",
   "execution_count": 5,
   "id": "ebb0d504-4400-4a26-87df-4cb74afc774d",
   "metadata": {},
   "outputs": [
    {
     "name": "stdin",
     "output_type": "stream",
     "text": [
      "안녕이라고해줘 :  123\n",
      "안녕이라고해줘 :  123\n",
      "안녕이라고해줘 :  123\n",
      "안녕이라고해줘 :  1234\n",
      "안녕이라고해줘 :  ㅎㅇ\n",
      "안녕이라고해줘 :  하이\n",
      "안녕이라고해줘 :  안녕\n"
     ]
    }
   ],
   "source": [
    "# 강사님 코드\n",
    "greeting = ''\n",
    "\n",
    "while greeting != '안녕':\n",
    "    greeting = input('안녕이라고해줘 : ')"
   ]
  },
  {
   "cell_type": "markdown",
   "id": "01702aeb-03c5-40a5-9f3a-0c16b014c4f9",
   "metadata": {},
   "source": [
    "## for\n",
    "\n",
    "### 정해진 범위 내의 반복\n",
    "\n",
    "```\n",
    "for variable in sequence:\n",
    "    code\n",
    "```"
   ]
  },
  {
   "cell_type": "code",
   "execution_count": 6,
   "id": "757d1944-63bd-4eb6-bd97-413ffc5f5a4b",
   "metadata": {},
   "outputs": [
    {
     "name": "stdout",
     "output_type": "stream",
     "text": [
      "1\n",
      "2\n",
      "3\n",
      "4\n",
      "5\n"
     ]
    }
   ],
   "source": [
    "numbers = [1,2,3,4,5]\n",
    "\n",
    "for number in numbers:\n",
    "    print(number)"
   ]
  },
  {
   "cell_type": "code",
   "execution_count": 12,
   "id": "a97e66c7-3292-4a19-8c59-7f49de7ac4ac",
   "metadata": {},
   "outputs": [
    {
     "name": "stdin",
     "output_type": "stream",
     "text": [
      " apple\n"
     ]
    },
    {
     "name": "stdout",
     "output_type": "stream",
     "text": [
      "a\n",
      "p\n",
      "p\n",
      "l\n",
      "e\n"
     ]
    }
   ],
   "source": [
    "# for문을 사용하여 사용자가 입력한 데이터를 한글자씩 출력하는 코드\n",
    "\n",
    "word = input()\n",
    "for char in word:\n",
    "    print(char)"
   ]
  },
  {
   "cell_type": "code",
   "execution_count": 13,
   "id": "c13389ce-85e1-4e8a-9f4e-92a7fcc67d83",
   "metadata": {},
   "outputs": [
    {
     "name": "stdout",
     "output_type": "stream",
     "text": [
      "0\n",
      "1\n",
      "2\n",
      "3\n",
      "4\n"
     ]
    }
   ],
   "source": [
    "for i in range(5):\n",
    "    print(i)"
   ]
  },
  {
   "cell_type": "code",
   "execution_count": 14,
   "id": "d8c237ce-c668-422e-b0ca-ecf06f43be33",
   "metadata": {},
   "outputs": [
    {
     "name": "stdout",
     "output_type": "stream",
     "text": [
      "1\n",
      "2\n",
      "3\n",
      "4\n",
      "5\n"
     ]
    }
   ],
   "source": [
    "for i in (1,2,3,4,5):\n",
    "    print(i)"
   ]
  },
  {
   "cell_type": "code",
   "execution_count": 24,
   "id": "f7aa74cd-14cc-4e12-870d-7d3ead2b27ef",
   "metadata": {},
   "outputs": [
    {
     "name": "stdout",
     "output_type": "stream",
     "text": [
      "1\n",
      "3\n",
      "5\n",
      "7\n",
      "9\n",
      "11\n",
      "13\n",
      "15\n",
      "17\n",
      "19\n",
      "21\n",
      "23\n",
      "25\n",
      "27\n",
      "29\n"
     ]
    }
   ],
   "source": [
    "# 1~30까지 숫자 중 홀수 출력\n",
    "for i in range(1,30):\n",
    "    if i % 2 == 1:\n",
    "        print(i)"
   ]
  },
  {
   "cell_type": "code",
   "execution_count": 27,
   "id": "27cb7927-2b22-459a-9e39-f55b7faa80b0",
   "metadata": {},
   "outputs": [
    {
     "name": "stdout",
     "output_type": "stream",
     "text": [
      "[1, 3, 5, 7, 9, 11, 13, 15, 17, 19, 21, 23, 25, 27, 29]\n"
     ]
    }
   ],
   "source": [
    "# 1~30까지 숫자 중 홀수만 담아 리스트로 출력\n",
    "# append함수를 통하여 리스트에 담기\n",
    "\n",
    "l = []\n",
    "numbers = range(31)\n",
    "\n",
    "for number in numbers:\n",
    "    if number % 2 == 1:\n",
    "        l.append(number)\n",
    "\n",
    "print(l)"
   ]
  },
  {
   "cell_type": "code",
   "execution_count": 28,
   "id": "4714f5f0-f39b-49fa-b7d5-d3cc0200dd61",
   "metadata": {},
   "outputs": [
    {
     "name": "stdout",
     "output_type": "stream",
     "text": [
      "라면\n",
      "김밥\n",
      "돈가스\n"
     ]
    }
   ],
   "source": [
    "menus=['라면','김밥','돈가스']\n",
    "\n",
    "for menu in menus:\n",
    "    print(menu)"
   ]
  },
  {
   "cell_type": "code",
   "execution_count": 29,
   "id": "1897c75f-a19a-42c7-860c-5a8eff614b02",
   "metadata": {},
   "outputs": [
    {
     "name": "stdout",
     "output_type": "stream",
     "text": [
      "(0, '라면')\n",
      "(1, '김밥')\n",
      "(2, '돈가스')\n"
     ]
    }
   ],
   "source": [
    "# enumerate함수를 통하여 (인덱스, 값)을 튜플형태로 출력함.\n",
    "menus = ['라면','김밥','돈가스']\n",
    "\n",
    "for menu in enumerate(menus):\n",
    "    print(menu)"
   ]
  },
  {
   "cell_type": "code",
   "execution_count": 30,
   "id": "d47be879-e34b-4333-bd5f-229a475c7be8",
   "metadata": {},
   "outputs": [
    {
     "name": "stdout",
     "output_type": "stream",
     "text": [
      "0\n",
      "라면\n",
      "1\n",
      "김밥\n",
      "2\n",
      "돈가스\n"
     ]
    }
   ],
   "source": [
    "# 인덱스와 값을 따로따로 출력하는 방법(1)\n",
    "menus = ['라면','김밥','돈가스']\n",
    "\n",
    "for menu in enumerate(menus):\n",
    "    print(menu[0])\n",
    "    print(menu[1])"
   ]
  },
  {
   "cell_type": "code",
   "execution_count": 31,
   "id": "ca8473b3-4ce0-41a6-8653-5fcc70630764",
   "metadata": {},
   "outputs": [
    {
     "name": "stdout",
     "output_type": "stream",
     "text": [
      "0\n",
      "라면\n",
      "1\n",
      "김밥\n",
      "2\n",
      "돈가스\n"
     ]
    }
   ],
   "source": [
    "# 인덱스와 값을 따로따로 출력하는 방법(2)\n",
    "menus = ['라면','김밥','돈가스']\n",
    "\n",
    "for idx, menu in enumerate(menus):\n",
    "    print(idx)\n",
    "    print(menu)"
   ]
  },
  {
   "cell_type": "markdown",
   "id": "f45d556b-cb9c-4929-ba60-9aef509d203c",
   "metadata": {},
   "source": [
    "## dictionary 반복\n",
    "\n",
    "1. for key in dict:\n",
    "2. for key in dict.keys():\n",
    "3. for value in dict.values():\n",
    "4. for key, value in dict.items():"
   ]
  },
  {
   "cell_type": "code",
   "execution_count": 33,
   "id": "43fd816a-3042-43dd-b2a7-f9cd37340dd2",
   "metadata": {},
   "outputs": [],
   "source": [
    "info = {\n",
    "    'name' : 'junbeom',\n",
    "    'location' : 'Seongnam',\n",
    "    'phone' : '010-7774-8062'\n",
    "}"
   ]
  },
  {
   "cell_type": "code",
   "execution_count": 42,
   "id": "ea770da4-2827-403e-94ec-38217e77bbbc",
   "metadata": {},
   "outputs": [
    {
     "name": "stdout",
     "output_type": "stream",
     "text": [
      "name\n",
      "junbeom\n",
      "location\n",
      "Seongnam\n",
      "phone\n",
      "010-7774-8062\n"
     ]
    }
   ],
   "source": [
    "for i in info:\n",
    "    print(i)    # 딕셔너리의 키를 출력\n",
    "    print(info[i])    # 딕셔너리의 키에대한 값을 출력"
   ]
  },
  {
   "cell_type": "code",
   "execution_count": 41,
   "id": "5862a315-2337-480e-a8f5-0de62a5f2825",
   "metadata": {},
   "outputs": [],
   "source": [
    "blood_type = {\n",
    "    'A' : 5,\n",
    "    'B' : 4,\n",
    "    'O' : 2,\n",
    "    'AB' : 3,\n",
    "}"
   ]
  },
  {
   "cell_type": "code",
   "execution_count": 39,
   "id": "718ee60a-0ec2-4bf1-8de8-2bd9c7935d23",
   "metadata": {},
   "outputs": [
    {
     "name": "stdout",
     "output_type": "stream",
     "text": [
      "혈액형 목록은 다음과 같습니다.\n",
      "A\n",
      "B\n",
      "O\n",
      "AB\n"
     ]
    }
   ],
   "source": [
    "print('혈액형 목록은 다음과 같습니다.')\n",
    "for key in blood_type:\n",
    "    print(key)"
   ]
  },
  {
   "cell_type": "code",
   "execution_count": 49,
   "id": "1e81aadb-ce16-43cf-93fa-5d2a11475689",
   "metadata": {},
   "outputs": [
    {
     "name": "stdout",
     "output_type": "stream",
     "text": [
      "혈액형 목록은 다음과 같습니다.\n",
      "A\n",
      "B\n",
      "O\n",
      "AB\n"
     ]
    }
   ],
   "source": [
    "print('혈액형 목록은 다음과 같습니다.')\n",
    "for key in blood_type.keys():\n",
    "    print(key)"
   ]
  },
  {
   "cell_type": "code",
   "execution_count": 50,
   "id": "02b59780-8fd0-483a-ad30-60f802829e3a",
   "metadata": {},
   "outputs": [
    {
     "name": "stdout",
     "output_type": "stream",
     "text": [
      "5\n",
      "4\n",
      "2\n",
      "3\n"
     ]
    }
   ],
   "source": [
    "for value in blood_type.values():\n",
    "    print(value)"
   ]
  },
  {
   "cell_type": "code",
   "execution_count": 45,
   "id": "4d811d69-1e8a-49cf-b8dc-29306cc89e04",
   "metadata": {},
   "outputs": [
    {
     "name": "stdout",
     "output_type": "stream",
     "text": [
      "총인원은 14명입니다\n"
     ]
    }
   ],
   "source": [
    "result = 0\n",
    "\n",
    "for value in blood_type.values():\n",
    "    result = result + value\n",
    "print(f'총인원은 {result}명입니다')"
   ]
  },
  {
   "cell_type": "code",
   "execution_count": 51,
   "id": "60cfb605-7ac9-42d1-9136-0df863a9f5ed",
   "metadata": {},
   "outputs": [
    {
     "name": "stdout",
     "output_type": "stream",
     "text": [
      "A 5\n",
      "B 4\n",
      "O 2\n",
      "AB 3\n"
     ]
    }
   ],
   "source": [
    "for key, value in blood_type.items():\n",
    "    print(key,value)"
   ]
  },
  {
   "cell_type": "code",
   "execution_count": 52,
   "id": "eba7cf86-a5f5-48e0-8cc1-428f91cef363",
   "metadata": {},
   "outputs": [
    {
     "name": "stdout",
     "output_type": "stream",
     "text": [
      "A형은 5명입니다.\n",
      "B형은 4명입니다.\n",
      "O형은 2명입니다.\n",
      "AB형은 3명입니다.\n"
     ]
    }
   ],
   "source": [
    "for key, value in blood_type.items():\n",
    "    print(f'{key}형은 {value}명입니다.')"
   ]
  },
  {
   "cell_type": "code",
   "execution_count": 47,
   "id": "2aa638de-e7cf-4e20-af05-69a38df40266",
   "metadata": {},
   "outputs": [
    {
     "data": {
      "text/plain": [
       "dict_items([('A', 5), ('B', 4), ('O', 2), ('AB', 3)])"
      ]
     },
     "execution_count": 47,
     "metadata": {},
     "output_type": "execute_result"
    }
   ],
   "source": [
    "blood_type.items()"
   ]
  },
  {
   "cell_type": "markdown",
   "id": "fee3f391-cc0f-4254-96bc-8f11d058bea8",
   "metadata": {},
   "source": [
    "## break\n",
    "반복문을 종료시키는 키워드"
   ]
  },
  {
   "cell_type": "code",
   "execution_count": 54,
   "id": "17760e20-4858-428d-8324-e9461942a4ab",
   "metadata": {},
   "outputs": [
    {
     "name": "stdout",
     "output_type": "stream",
     "text": [
      "0\n",
      "1\n",
      "2\n",
      "3\n",
      "4\n",
      "5\n",
      "6\n",
      "7\n",
      "8\n",
      "9\n",
      "10\n",
      "10넘었어\n"
     ]
    }
   ],
   "source": [
    "for i in range(100):\n",
    "    if i > 10:\n",
    "        print('10넘었어')\n",
    "        break\n",
    "    print(i)"
   ]
  },
  {
   "cell_type": "code",
   "execution_count": 58,
   "id": "57bbd591-6d51-42de-b433-10d01351a360",
   "metadata": {},
   "outputs": [
    {
     "name": "stdout",
     "output_type": "stream",
     "text": [
      "보리,\n",
      "보리,\n",
      "보리,\n",
      "쌀, 잡았다!\n"
     ]
    }
   ],
   "source": [
    "#내 코드\n",
    "rice = ['보리','보리','보리','쌀','보리','보리']\n",
    "# 보리, 보리, 보리, 쌀, 잡았다! =>\n",
    "\n",
    "for i in rice :\n",
    "    if i == '쌀':\n",
    "        print('쌀, 잡았다!')\n",
    "        break\n",
    "    print('보리,')"
   ]
  },
  {
   "cell_type": "code",
   "execution_count": 60,
   "id": "34db5b08-1e0a-4cfb-8dce-1e03cb3d3b0b",
   "metadata": {},
   "outputs": [
    {
     "name": "stdout",
     "output_type": "stream",
     "text": [
      "보리\n",
      "보리\n",
      "보리\n",
      "쌀\n",
      "잡았다!\n"
     ]
    }
   ],
   "source": [
    "#강사님 코드\n",
    "rice = ['보리','보리','보리','쌀','보리','보리']\n",
    "# 보리, 보리, 보리, 쌀, 잡았다! =>\n",
    "\n",
    "for i in rice :\n",
    "    print(i)\n",
    "    if i == '쌀':\n",
    "        print('잡았다!')\n",
    "        break"
   ]
  },
  {
   "cell_type": "markdown",
   "id": "5be03291-6216-46d9-a15c-905cf730ea9d",
   "metadata": {},
   "source": [
    "## continue\n",
    "\n",
    "continue 이후의 코드를 실행하지 않고 다음 반복을 진행"
   ]
  },
  {
   "cell_type": "code",
   "execution_count": 63,
   "id": "eac78b21-472a-4f28-b2c7-3fa1dfa06e32",
   "metadata": {},
   "outputs": [
    {
     "name": "stdout",
     "output_type": "stream",
     "text": [
      "0\n",
      "2\n",
      "4\n",
      "6\n",
      "8\n"
     ]
    }
   ],
   "source": [
    "for i in range(10):\n",
    "    if i % 2 == 1:\n",
    "        continue\n",
    "    print(i)"
   ]
  },
  {
   "cell_type": "code",
   "execution_count": 66,
   "id": "fdeacc79-f3a1-47e2-a712-cca37cefd5b3",
   "metadata": {},
   "outputs": [
    {
     "name": "stdout",
     "output_type": "stream",
     "text": [
      "성인이 아닙니다.\n",
      "성인입니다.\n",
      "성인입니다.\n",
      "성인이 아닙니다.\n",
      "성인이 아닙니다.\n",
      "성인입니다.\n"
     ]
    }
   ],
   "source": [
    "#내 코드\n",
    "age = [10, 35, 20, 18, 9, 40]\n",
    "\n",
    "for i in age:\n",
    "    if i < 20:\n",
    "        print('성인이 아닙니다.')\n",
    "        continue\n",
    "    print('성인입니다.')"
   ]
  },
  {
   "cell_type": "code",
   "execution_count": 67,
   "id": "5cdbdc8c-5e97-445e-86ac-a635d7337dfe",
   "metadata": {},
   "outputs": [
    {
     "name": "stdout",
     "output_type": "stream",
     "text": [
      "성인입니다.\n",
      "성인입니다.\n",
      "성인입니다.\n"
     ]
    }
   ],
   "source": [
    "#강사님 코드\n",
    "age = [10, 35, 20, 18, 9, 40]\n",
    "\n",
    "for i in age:\n",
    "    if i < 20:\n",
    "        continue\n",
    "    print('성인입니다.')"
   ]
  },
  {
   "cell_type": "markdown",
   "id": "919948d1-27d2-4ac5-94bd-a7f95fd38ba8",
   "metadata": {},
   "source": [
    "### else\n",
    "else문은 끝까지 반복이 진행된 후 실행됍니다."
   ]
  },
  {
   "cell_type": "code",
   "execution_count": 71,
   "id": "1ede7ee1-523e-4b75-aef9-d71814259b38",
   "metadata": {},
   "outputs": [
    {
     "name": "stdout",
     "output_type": "stream",
     "text": [
      "0\n",
      "1\n",
      "2\n",
      "3\n",
      "4\n",
      "5\n",
      "6\n",
      "7\n",
      "8\n",
      "9\n",
      "break 못만남\n"
     ]
    }
   ],
   "source": [
    "for i in range(10):\n",
    "    if i > 100:\n",
    "        break\n",
    "    print(i)\n",
    "else:\n",
    "    print(\"break 못만남\")"
   ]
  },
  {
   "cell_type": "code",
   "execution_count": 72,
   "id": "0cf6adcc-4fdc-4992-a5bf-90acbd9fa953",
   "metadata": {},
   "outputs": [
    {
     "name": "stdout",
     "output_type": "stream",
     "text": [
      "0\n",
      "1\n",
      "2\n",
      "3\n",
      "4\n",
      "5\n"
     ]
    }
   ],
   "source": [
    "for i in range(10):\n",
    "    if i > 5:\n",
    "        break\n",
    "    print(i)\n",
    "else:\n",
    "    print(\"break 못만남\")"
   ]
  },
  {
   "cell_type": "code",
   "execution_count": 73,
   "id": "e40fb0f4-3ab3-44c0-80ae-208713652f65",
   "metadata": {},
   "outputs": [
    {
     "name": "stdout",
     "output_type": "stream",
     "text": [
      "True\n",
      "False\n"
     ]
    }
   ],
   "source": [
    "numbers = [1,3,5,7,9]\n",
    "print(3 in numbers)\n",
    "print(2 in numbers)"
   ]
  },
  {
   "cell_type": "code",
   "execution_count": 79,
   "id": "04ee9c56-94b8-46fd-962a-a0814fec0ec1",
   "metadata": {},
   "outputs": [
    {
     "name": "stdout",
     "output_type": "stream",
     "text": [
      "True\n"
     ]
    }
   ],
   "source": [
    "#내 코드\n",
    "numbers = [1,3,5,7,9]\n",
    "\n",
    "for number in numbers:\n",
    "    if number == 3:\n",
    "        print(3 in numbers)\n",
    "        break\n",
    "else:\n",
    "    print(\"break를 못만남\")"
   ]
  },
  {
   "cell_type": "code",
   "execution_count": 82,
   "id": "5cc6121c-6a03-4f46-9246-a632108f2961",
   "metadata": {},
   "outputs": [
    {
     "name": "stdout",
     "output_type": "stream",
     "text": [
      "False\n"
     ]
    }
   ],
   "source": [
    "#내 코드\n",
    "numbers = [1,3,5,7,9]\n",
    "\n",
    "for number in numbers:\n",
    "    if number == 2:\n",
    "        print(2 in numbers)\n",
    "        break\n",
    "else:\n",
    "    print(\"False\")"
   ]
  },
  {
   "cell_type": "code",
   "execution_count": 80,
   "id": "62fc0b42-ab4d-45ab-931a-5769095c8dc3",
   "metadata": {},
   "outputs": [
    {
     "name": "stdout",
     "output_type": "stream",
     "text": [
      "True\n"
     ]
    }
   ],
   "source": [
    "#강사님 코드\n",
    "numbers = [1,3,5,7,9]\n",
    "target = 5\n",
    "\n",
    "for number in numbers:\n",
    "    # if문을 통해 내가 원하는 숫자가 있으면 true\n",
    "    if number == target:\n",
    "        print('True')\n",
    "        break"
   ]
  },
  {
   "cell_type": "code",
   "execution_count": 81,
   "id": "ea4eb5dd-75ff-4171-abff-895edd84b6ab",
   "metadata": {},
   "outputs": [
    {
     "name": "stdout",
     "output_type": "stream",
     "text": [
      "False\n"
     ]
    }
   ],
   "source": [
    "#강사님 코드\n",
    "numbers = [1,3,5,7,9]\n",
    "target = 4\n",
    "\n",
    "for number in numbers:\n",
    "    # if문을 통해 내가 원하는 숫자가 있으면 true\n",
    "    if number == target:\n",
    "        print('True')\n",
    "        break\n",
    "else :\n",
    "    print('False')"
   ]
  },
  {
   "cell_type": "markdown",
   "id": "09e0028c-06ad-4526-9036-b4d2ee9a8370",
   "metadata": {},
   "source": [
    "## pass"
   ]
  },
  {
   "cell_type": "code",
   "execution_count": 84,
   "id": "a3e3df8d-ba9a-4ce5-810f-45ad8ee1ae3a",
   "metadata": {},
   "outputs": [],
   "source": [
    "if True:\n",
    "    pass"
   ]
  },
  {
   "cell_type": "markdown",
   "id": "faf69346-5514-422c-bf8d-532d5c9d00dc",
   "metadata": {},
   "source": [
    "### match\n",
    "```\n",
    "match value:\n",
    "    case 조건:\n",
    "        code\n",
    "    case 조건:\n",
    "        code\n",
    "    case _:\n",
    "        code\n",
    "```"
   ]
  },
  {
   "cell_type": "code",
   "execution_count": 88,
   "id": "5added57-abd8-44d0-860d-5c3d7d34fdc5",
   "metadata": {},
   "outputs": [
    {
     "name": "stdout",
     "output_type": "stream",
     "text": [
      "Not found\n"
     ]
    }
   ],
   "source": [
    "status = 404\n",
    "\n",
    "match status:\n",
    "    case 400:\n",
    "        print('Bad request')\n",
    "    case 404:\n",
    "        print('Not found')\n",
    "    case _:\n",
    "        print('something is wrong')"
   ]
  },
  {
   "cell_type": "code",
   "execution_count": null,
   "id": "bba57ddb-d0bd-4a06-8cbb-21b26f9a4b23",
   "metadata": {},
   "outputs": [],
   "source": []
  }
 ],
 "metadata": {
  "kernelspec": {
   "display_name": "Python 3 (ipykernel)",
   "language": "python",
   "name": "python3"
  },
  "language_info": {
   "codemirror_mode": {
    "name": "ipython",
    "version": 3
   },
   "file_extension": ".py",
   "mimetype": "text/x-python",
   "name": "python",
   "nbconvert_exporter": "python",
   "pygments_lexer": "ipython3",
   "version": "3.11.4"
  }
 },
 "nbformat": 4,
 "nbformat_minor": 5
}
