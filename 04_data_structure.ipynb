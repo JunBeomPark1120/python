{
 "cells": [
  {
   "cell_type": "code",
   "execution_count": 1,
   "id": "f7a0300f-9a85-46fe-bea9-d9f526857bc1",
   "metadata": {},
   "outputs": [
    {
     "name": "stdout",
     "output_type": "stream",
     "text": [
      "hello\n"
     ]
    }
   ],
   "source": [
    "print('hello')"
   ]
  },
  {
   "cell_type": "code",
   "execution_count": 2,
   "id": "24e3698b-2821-45cd-a704-90ec84a69120",
   "metadata": {},
   "outputs": [
    {
     "data": {
      "text/plain": [
       "'123'"
      ]
     },
     "execution_count": 2,
     "metadata": {},
     "output_type": "execute_result"
    }
   ],
   "source": [
    "''.join(['1','2','3'])"
   ]
  },
  {
   "cell_type": "code",
   "execution_count": 3,
   "id": "56ec4163-e41b-4f6d-bb23-fa3e04982918",
   "metadata": {},
   "outputs": [
    {
     "data": {
      "text/plain": [
       "['__add__',\n",
       " '__class__',\n",
       " '__contains__',\n",
       " '__delattr__',\n",
       " '__dir__',\n",
       " '__doc__',\n",
       " '__eq__',\n",
       " '__format__',\n",
       " '__ge__',\n",
       " '__getattribute__',\n",
       " '__getitem__',\n",
       " '__getnewargs__',\n",
       " '__getstate__',\n",
       " '__gt__',\n",
       " '__hash__',\n",
       " '__init__',\n",
       " '__init_subclass__',\n",
       " '__iter__',\n",
       " '__le__',\n",
       " '__len__',\n",
       " '__lt__',\n",
       " '__mod__',\n",
       " '__mul__',\n",
       " '__ne__',\n",
       " '__new__',\n",
       " '__reduce__',\n",
       " '__reduce_ex__',\n",
       " '__repr__',\n",
       " '__rmod__',\n",
       " '__rmul__',\n",
       " '__setattr__',\n",
       " '__sizeof__',\n",
       " '__str__',\n",
       " '__subclasshook__',\n",
       " 'capitalize',\n",
       " 'casefold',\n",
       " 'center',\n",
       " 'count',\n",
       " 'encode',\n",
       " 'endswith',\n",
       " 'expandtabs',\n",
       " 'find',\n",
       " 'format',\n",
       " 'format_map',\n",
       " 'index',\n",
       " 'isalnum',\n",
       " 'isalpha',\n",
       " 'isascii',\n",
       " 'isdecimal',\n",
       " 'isdigit',\n",
       " 'isidentifier',\n",
       " 'islower',\n",
       " 'isnumeric',\n",
       " 'isprintable',\n",
       " 'isspace',\n",
       " 'istitle',\n",
       " 'isupper',\n",
       " 'join',\n",
       " 'ljust',\n",
       " 'lower',\n",
       " 'lstrip',\n",
       " 'maketrans',\n",
       " 'partition',\n",
       " 'removeprefix',\n",
       " 'removesuffix',\n",
       " 'replace',\n",
       " 'rfind',\n",
       " 'rindex',\n",
       " 'rjust',\n",
       " 'rpartition',\n",
       " 'rsplit',\n",
       " 'rstrip',\n",
       " 'split',\n",
       " 'splitlines',\n",
       " 'startswith',\n",
       " 'strip',\n",
       " 'swapcase',\n",
       " 'title',\n",
       " 'translate',\n",
       " 'upper',\n",
       " 'zfill']"
      ]
     },
     "execution_count": 3,
     "metadata": {},
     "output_type": "execute_result"
    }
   ],
   "source": [
    "dir('hello')\n",
    "#문자열들이 가지고 있는 기능이라고 생각하면 편함."
   ]
  },
  {
   "cell_type": "code",
   "execution_count": 5,
   "id": "48b0b916-3738-4d1d-a125-7f75c56463cc",
   "metadata": {},
   "outputs": [
    {
     "data": {
      "text/plain": [
       "['__abs__',\n",
       " '__add__',\n",
       " '__and__',\n",
       " '__bool__',\n",
       " '__ceil__',\n",
       " '__class__',\n",
       " '__delattr__',\n",
       " '__dir__',\n",
       " '__divmod__',\n",
       " '__doc__',\n",
       " '__eq__',\n",
       " '__float__',\n",
       " '__floor__',\n",
       " '__floordiv__',\n",
       " '__format__',\n",
       " '__ge__',\n",
       " '__getattribute__',\n",
       " '__getnewargs__',\n",
       " '__getstate__',\n",
       " '__gt__',\n",
       " '__hash__',\n",
       " '__index__',\n",
       " '__init__',\n",
       " '__init_subclass__',\n",
       " '__int__',\n",
       " '__invert__',\n",
       " '__le__',\n",
       " '__lshift__',\n",
       " '__lt__',\n",
       " '__mod__',\n",
       " '__mul__',\n",
       " '__ne__',\n",
       " '__neg__',\n",
       " '__new__',\n",
       " '__or__',\n",
       " '__pos__',\n",
       " '__pow__',\n",
       " '__radd__',\n",
       " '__rand__',\n",
       " '__rdivmod__',\n",
       " '__reduce__',\n",
       " '__reduce_ex__',\n",
       " '__repr__',\n",
       " '__rfloordiv__',\n",
       " '__rlshift__',\n",
       " '__rmod__',\n",
       " '__rmul__',\n",
       " '__ror__',\n",
       " '__round__',\n",
       " '__rpow__',\n",
       " '__rrshift__',\n",
       " '__rshift__',\n",
       " '__rsub__',\n",
       " '__rtruediv__',\n",
       " '__rxor__',\n",
       " '__setattr__',\n",
       " '__sizeof__',\n",
       " '__str__',\n",
       " '__sub__',\n",
       " '__subclasshook__',\n",
       " '__truediv__',\n",
       " '__trunc__',\n",
       " '__xor__',\n",
       " 'as_integer_ratio',\n",
       " 'bit_count',\n",
       " 'bit_length',\n",
       " 'conjugate',\n",
       " 'denominator',\n",
       " 'from_bytes',\n",
       " 'imag',\n",
       " 'numerator',\n",
       " 'real',\n",
       " 'to_bytes']"
      ]
     },
     "execution_count": 5,
     "metadata": {},
     "output_type": "execute_result"
    }
   ],
   "source": [
    "dir(1)\n",
    "#숫자가 가지고 있는 기능이라 생각하면 편함"
   ]
  },
  {
   "cell_type": "markdown",
   "id": "cdbf8a17-49f0-4bf2-b240-0cf2686a4e84",
   "metadata": {},
   "source": [
    "# 1. 문자열 메소드"
   ]
  },
  {
   "cell_type": "code",
   "execution_count": 17,
   "id": "45589d51-9289-4c7b-b4ed-567faaa10a82",
   "metadata": {},
   "outputs": [],
   "source": [
    "a = 'hello my name is junbeom'"
   ]
  },
  {
   "cell_type": "code",
   "execution_count": 18,
   "id": "e54506e9-8325-496f-b6e2-93c6185ba2e8",
   "metadata": {},
   "outputs": [
    {
     "data": {
      "text/plain": [
       "'h'"
      ]
     },
     "execution_count": 18,
     "metadata": {},
     "output_type": "execute_result"
    }
   ],
   "source": [
    "a[0]\n",
    "# a의 0번 째 인덱스를 출력"
   ]
  },
  {
   "cell_type": "code",
   "execution_count": 19,
   "id": "980d94b4-c92a-4b76-b6dd-7ac668a0eb6e",
   "metadata": {},
   "outputs": [
    {
     "ename": "TypeError",
     "evalue": "'str' object does not support item assignment",
     "output_type": "error",
     "traceback": [
      "\u001b[1;31m---------------------------------------------------------------------------\u001b[0m",
      "\u001b[1;31mTypeError\u001b[0m                                 Traceback (most recent call last)",
      "Cell \u001b[1;32mIn[19], line 1\u001b[0m\n\u001b[1;32m----> 1\u001b[0m \u001b[43ma\u001b[49m\u001b[43m[\u001b[49m\u001b[38;5;241;43m0\u001b[39;49m\u001b[43m]\u001b[49m \u001b[38;5;241m=\u001b[39m \u001b[38;5;124m'\u001b[39m\u001b[38;5;124mH\u001b[39m\u001b[38;5;124m'\u001b[39m\n\u001b[0;32m      2\u001b[0m \u001b[38;5;66;03m# 안의 있는 내용을 직접적으로 수정 불가능\u001b[39;00m\n",
      "\u001b[1;31mTypeError\u001b[0m: 'str' object does not support item assignment"
     ]
    }
   ],
   "source": [
    "a[0] = 'H'\n",
    "# 안의 있는 내용을 직접적으로 수정 불가능"
   ]
  },
  {
   "cell_type": "code",
   "execution_count": 20,
   "id": "0ed5c9c5-0777-4968-a979-1a19492a983b",
   "metadata": {},
   "outputs": [
    {
     "data": {
      "text/plain": [
       "'Hello my name is junbeom'"
      ]
     },
     "execution_count": 20,
     "metadata": {},
     "output_type": "execute_result"
    }
   ],
   "source": [
    "a.capitalize()\n",
    "# 첫번 째 문자를 대문자로 변경하는 함수"
   ]
  },
  {
   "cell_type": "code",
   "execution_count": 21,
   "id": "347938d9-f6e3-427c-a82e-da144a8834ac",
   "metadata": {},
   "outputs": [
    {
     "name": "stdout",
     "output_type": "stream",
     "text": [
      "hello my name is junbeom\n"
     ]
    }
   ],
   "source": [
    "print(a)\n",
    "# 이 코드를 통해 알 수 있는것은 직접적으로 변하지 않는다는 것을 알 수 있음"
   ]
  },
  {
   "cell_type": "code",
   "execution_count": 22,
   "id": "464f8673-7ecb-44f7-af91-3d9f580059df",
   "metadata": {},
   "outputs": [],
   "source": [
    "a = a.capitalize()"
   ]
  },
  {
   "cell_type": "code",
   "execution_count": 23,
   "id": "3877ec93-b499-4cc2-b34f-89b03986d966",
   "metadata": {},
   "outputs": [
    {
     "name": "stdout",
     "output_type": "stream",
     "text": [
      "Hello my name is junbeom\n"
     ]
    }
   ],
   "source": [
    "print(a)\n",
    "# 이 경우는 변수를 통해 나타냈기 때문에\n",
    "# 바뀐 문자로 나옴"
   ]
  },
  {
   "cell_type": "code",
   "execution_count": 24,
   "id": "4537d971-8ac7-4de7-ace5-4fb2c7982b05",
   "metadata": {},
   "outputs": [
    {
     "data": {
      "text/plain": [
       "'Hello My Name Is Junbeom'"
      ]
     },
     "execution_count": 24,
     "metadata": {},
     "output_type": "execute_result"
    }
   ],
   "source": [
    "a.title()\n",
    "# 단어 단어들 마다 대문자로 변형"
   ]
  },
  {
   "cell_type": "code",
   "execution_count": 26,
   "id": "0cd99731-8171-4368-ab3d-74f9c0c049c8",
   "metadata": {},
   "outputs": [
    {
     "data": {
      "text/plain": [
       "'HELLO MY NAME IS JUNBEOM'"
      ]
     },
     "execution_count": 26,
     "metadata": {},
     "output_type": "execute_result"
    }
   ],
   "source": [
    "a.upper()\n",
    "# 모든 문자를 대문자로"
   ]
  },
  {
   "cell_type": "code",
   "execution_count": 27,
   "id": "532c78f4-bc99-43ac-b150-76b92bd180cd",
   "metadata": {},
   "outputs": [
    {
     "data": {
      "text/plain": [
       "'hello my name is junbeom'"
      ]
     },
     "execution_count": 27,
     "metadata": {},
     "output_type": "execute_result"
    }
   ],
   "source": [
    "a.lower()\n",
    "# 모든 문자를 소문자로"
   ]
  },
  {
   "cell_type": "code",
   "execution_count": 28,
   "id": "c132de2b-2245-414a-951a-4ece948202f5",
   "metadata": {},
   "outputs": [
    {
     "name": "stdout",
     "output_type": "stream",
     "text": [
      "Hello my name is junbeom\n"
     ]
    }
   ],
   "source": [
    "print(a)"
   ]
  },
  {
   "cell_type": "code",
   "execution_count": 31,
   "id": "136e0285-0f52-4b0f-99b8-2fe07b7455e9",
   "metadata": {},
   "outputs": [
    {
     "data": {
      "text/plain": [
       "'hi, my, name'"
      ]
     },
     "execution_count": 31,
     "metadata": {},
     "output_type": "execute_result"
    }
   ],
   "source": [
    "# 보통은 빈 문자열에 선언 함\n",
    "# ''.join(iterable)\n",
    "my_list = ['hi', 'my', 'name']\n",
    "', '.join(my_list)"
   ]
  },
  {
   "cell_type": "code",
   "execution_count": 34,
   "id": "c1f07edf-2c76-4c5e-9e7f-85627c387699",
   "metadata": {},
   "outputs": [
    {
     "data": {
      "text/plain": [
       "'w!!!!!!w'"
      ]
     },
     "execution_count": 34,
     "metadata": {},
     "output_type": "execute_result"
    }
   ],
   "source": [
    "# 어떤 텍스트를 찾아 교체하는 함수\n",
    "# .replace(old, new[, count])\n",
    "# count라는 기본 인자가 할당되어 있다.\n",
    "'woooooow'.replace('o','!')"
   ]
  },
  {
   "cell_type": "code",
   "execution_count": 35,
   "id": "44d04c19-145b-4e6c-b3d5-fa235b5c5c9f",
   "metadata": {},
   "outputs": [
    {
     "data": {
      "text/plain": [
       "'w!!!ooow'"
      ]
     },
     "execution_count": 35,
     "metadata": {},
     "output_type": "execute_result"
    }
   ],
   "source": [
    "'woooooow'.replace('o','!',3)\n",
    "# 앞의 3개를 바꾸겠다는 뜻"
   ]
  },
  {
   "cell_type": "code",
   "execution_count": 36,
   "id": "76ac7781-5dc9-4544-ad2b-5f7ef83db70c",
   "metadata": {},
   "outputs": [
    {
     "name": "stdout",
     "output_type": "stream",
     "text": [
      "     hello     \n",
      "hello\n"
     ]
    }
   ],
   "source": [
    "# .strip()\n",
    "my_string = '     hello     '\n",
    "print(my_string)\n",
    "print(my_string.strip())\n",
    "# .strip() : 기본적으로 빈칸을 지워주는 역할"
   ]
  },
  {
   "cell_type": "code",
   "execution_count": 41,
   "id": "280e5dfe-aed6-4c93-9533-6569b432b031",
   "metadata": {},
   "outputs": [
    {
     "name": "stdout",
     "output_type": "stream",
     "text": [
      "     hello\n",
      "\n",
      "hello\n",
      "ello\n",
      "ellohihihihihi\n",
      "hihihihihihello\n"
     ]
    }
   ],
   "source": [
    "# .strip([chars])\n",
    "# .lstrip([chars]) : 앞의 내용을 삭제\n",
    "# .rstrip([chars]) : 뒤의 내용을 삭제\n",
    "my_string = '     hello\\n'\n",
    "print(my_string)\n",
    "print(my_string.strip())\n",
    "\n",
    "my_string2 = 'hihihihihihellohihihihihi'\n",
    "print(my_string2.strip('hi'))\n",
    "print(my_string2.lstrip('hi'))\n",
    "print(my_string2.rstrip('hi'))"
   ]
  },
  {
   "cell_type": "code",
   "execution_count": 50,
   "id": "ad1445a6-58ed-40c8-af84-eb8f60fc4bca",
   "metadata": {},
   "outputs": [
    {
     "name": "stdout",
     "output_type": "stream",
     "text": [
      "0\n",
      "1\n",
      "-1\n",
      "1\n",
      "2\n"
     ]
    }
   ],
   "source": [
    "# .find(x)\n",
    "# 현재의 인덱스 값을 찾아 줌\n",
    "# 중복된 문자가 있으면 제일 앞에있는 문자의 인덱스 반환\n",
    "# 없는 문자를 찾으려 하면 -1을 반환\n",
    "a = 'apple'\n",
    "print(a.find('a'))\n",
    "print(a.find('p'))\n",
    "print(a.find('z'))\n",
    "\n",
    "# 두번 째 p를 구하기 위해선?\n",
    "# for char in range(len(a)):\n",
    "#     if 'p' == a[char] :\n",
    "#         print(char)\n",
    "    "
   ]
  },
  {
   "cell_type": "code",
   "execution_count": 45,
   "id": "ff3a0731-e103-42f1-a6c2-79f8dbab55cf",
   "metadata": {},
   "outputs": [
    {
     "name": "stdout",
     "output_type": "stream",
     "text": [
      "1\n"
     ]
    },
    {
     "ename": "ValueError",
     "evalue": "substring not found",
     "output_type": "error",
     "traceback": [
      "\u001b[1;31m---------------------------------------------------------------------------\u001b[0m",
      "\u001b[1;31mValueError\u001b[0m                                Traceback (most recent call last)",
      "Cell \u001b[1;32mIn[45], line 4\u001b[0m\n\u001b[0;32m      2\u001b[0m a \u001b[38;5;241m=\u001b[39m \u001b[38;5;124m'\u001b[39m\u001b[38;5;124mapple\u001b[39m\u001b[38;5;124m'\u001b[39m\n\u001b[0;32m      3\u001b[0m \u001b[38;5;28mprint\u001b[39m(a\u001b[38;5;241m.\u001b[39mindex(\u001b[38;5;124m'\u001b[39m\u001b[38;5;124mp\u001b[39m\u001b[38;5;124m'\u001b[39m))\n\u001b[1;32m----> 4\u001b[0m \u001b[38;5;28mprint\u001b[39m(\u001b[43ma\u001b[49m\u001b[38;5;241;43m.\u001b[39;49m\u001b[43mindex\u001b[49m\u001b[43m(\u001b[49m\u001b[38;5;124;43m'\u001b[39;49m\u001b[38;5;124;43mz\u001b[39;49m\u001b[38;5;124;43m'\u001b[39;49m\u001b[43m)\u001b[49m)\n",
      "\u001b[1;31mValueError\u001b[0m: substring not found"
     ]
    }
   ],
   "source": [
    "# .index(x)\n",
    "a = 'apple'\n",
    "print(a.index('p'))\n",
    "print(a.index('z'))"
   ]
  },
  {
   "cell_type": "code",
   "execution_count": 53,
   "id": "ef6cccd1-a395-4856-b7d4-c8fcf5cd06db",
   "metadata": {},
   "outputs": [
    {
     "data": {
      "text/plain": [
       "['my', 'name', 'is', 'hong']"
      ]
     },
     "execution_count": 53,
     "metadata": {},
     "output_type": "execute_result"
    }
   ],
   "source": [
    "# .split()\n",
    "# 띄어쓰기를 기준으로 문자를 나눔\n",
    "a = 'my name is hong'\n",
    "a.split()"
   ]
  },
  {
   "cell_type": "code",
   "execution_count": 54,
   "id": "661ad99d-8655-47aa-96b9-d13c3f1f9653",
   "metadata": {},
   "outputs": [
    {
     "data": {
      "text/plain": [
       "['my', 'name', 'is', 'hong']"
      ]
     },
     "execution_count": 54,
     "metadata": {},
     "output_type": "execute_result"
    }
   ],
   "source": [
    "# .split(x)\n",
    "# x를 기준으로 문자를 나눔\n",
    "a = 'my_name_is_hong'\n",
    "a.split('_')"
   ]
  },
  {
   "cell_type": "code",
   "execution_count": 57,
   "id": "18c447ef-c9df-48a4-a749-d247a6975029",
   "metadata": {},
   "outputs": [
    {
     "data": {
      "text/plain": [
       "5"
      ]
     },
     "execution_count": 57,
     "metadata": {},
     "output_type": "execute_result"
    }
   ],
   "source": [
    "# .count()\n",
    "# 해당 문자의 개수를 출력함\n",
    "'wooooow'.count('o')"
   ]
  },
  {
   "cell_type": "code",
   "execution_count": 58,
   "id": "71dd7072-8c37-466c-b924-2700acf46f8e",
   "metadata": {},
   "outputs": [],
   "source": [
    "# 위에 있는 메소드들은 주로 사용되는 메소드들임\n",
    "# 다 외울 순 없으니\n",
    "# 자세한 건 '파이썬 자습서'라는 공식문서를 통해 연습해볼 것.\n",
    "# 보통 is라고 시작되는 메소드들은 true, false를 반환함."
   ]
  },
  {
   "cell_type": "markdown",
   "id": "2475f396-fc77-4cd9-90b5-12fcaf0f9800",
   "metadata": {},
   "source": [
    "# 2. 리스트 메소드"
   ]
  },
  {
   "cell_type": "code",
   "execution_count": 81,
   "id": "76904cdc-9444-4d40-ad10-9baa2f1eddd8",
   "metadata": {},
   "outputs": [],
   "source": [
    "numbers = [1,2,2,3,4,5,6,7,7,8,8,9,9]"
   ]
  },
  {
   "cell_type": "code",
   "execution_count": 82,
   "id": "55ffd919-47f2-4c24-91b7-1c2aca7c1d91",
   "metadata": {},
   "outputs": [
    {
     "name": "stdout",
     "output_type": "stream",
     "text": [
      "[1, 2, 2, 3, 4, 5, 6, 7, 7, 8, 8, 9, 9, 10]\n"
     ]
    }
   ],
   "source": [
    "# .append(x)\n",
    "# 해당 x값을 리스트 뒤에 추가한다.\n",
    "# list를 mutable할 수 있는 객체이기 때문에\n",
    "# 원본 수정자체가 가능함.\n",
    "numbers.append(10)\n",
    "print(numbers)"
   ]
  },
  {
   "cell_type": "code",
   "execution_count": 83,
   "id": "3663941f-bcd1-4f20-b937-844adcee4814",
   "metadata": {},
   "outputs": [
    {
     "name": "stdout",
     "output_type": "stream",
     "text": [
      "[1, 2, 2, 3, 4, 5, 6, 7, 7, 8, 8, 9, 9, 10, 99, 100]\n",
      "[1, 2, 2, 3, 4, 5, 6, 7, 7, 8, 8, 9, 9, 10, 99, 100, 99, 100]\n"
     ]
    }
   ],
   "source": [
    "# .extend(iterable)\n",
    "a = [99, 100]\n",
    "numbers.extend(a)\n",
    "print(numbers)\n",
    "\n",
    "#위와 동일한 코드임\n",
    "print(numbers + a)"
   ]
  },
  {
   "cell_type": "code",
   "execution_count": 84,
   "id": "ffc96358-4e18-41b7-abdc-4a0134cc6c25",
   "metadata": {},
   "outputs": [
    {
     "name": "stdout",
     "output_type": "stream",
     "text": [
      "[1, 2, 2, 3.5, 3, 4, 5, 6, 7, 7, 8, 8, 9, 9, 10, 99, 100]\n"
     ]
    }
   ],
   "source": [
    "# .insert(idx, x)\n",
    "# 원하는 인덱스 위치의 뒤에 값을 추가\n",
    "numbers.insert(3, 3.5)\n",
    "print(numbers)"
   ]
  },
  {
   "cell_type": "code",
   "execution_count": 85,
   "id": "6408a582-1aa4-4611-b53e-cbbc99277954",
   "metadata": {},
   "outputs": [
    {
     "name": "stdout",
     "output_type": "stream",
     "text": [
      "[1, 2, 2, 3, 4, 5, 6, 7, 7, 8, 8, 9, 9, 10, 99, 100]\n"
     ]
    }
   ],
   "source": [
    "# .remove(x)\n",
    "numbers.remove(3.5)\n",
    "print(numbers)\n",
    "\n",
    "#만약 한 번 더 실행시키면?\n",
    "# -오류가 발생함"
   ]
  },
  {
   "cell_type": "code",
   "execution_count": 86,
   "id": "82226319-2b12-432c-a620-fda5c7447c43",
   "metadata": {},
   "outputs": [
    {
     "name": "stdout",
     "output_type": "stream",
     "text": [
      "[1, 2, 2, 3, 4, 5, 6, 7, 7, 8, 8, 9, 9, 10, 99]\n"
     ]
    }
   ],
   "source": [
    "# .pop([i]) - 해당 인덱스에서 부터 pop실행\n",
    "# .pop() - 뒤에서 부터 pop실행\n",
    "numbers.pop()\n",
    "print(numbers)\n"
   ]
  },
  {
   "cell_type": "code",
   "execution_count": 87,
   "id": "6e2ccc6e-bd92-42ec-8b55-2c05196a8c98",
   "metadata": {},
   "outputs": [
    {
     "name": "stdout",
     "output_type": "stream",
     "text": [
      "[1, 2, 2, 3, 4, 5, 6, 7, 7, 8, 8, 9, 9, 10, 99]\n",
      "[99, 10, 9, 9, 8, 8, 7, 7, 6, 5, 4, 3, 2, 2, 1]\n"
     ]
    }
   ],
   "source": [
    "# .sort() - 기본적으로 오름 차순으로 정렬\n",
    "# .sort(reverse=True) - 내림 차순으로 정렬\n",
    "# sort는 구현하지 말고 가급적 내장함수를 통해 사용하자!\n",
    "numbers.sort()\n",
    "print(numbers)\n",
    "numbers.sort(reverse=True)\n",
    "print(numbers)"
   ]
  },
  {
   "cell_type": "code",
   "execution_count": 90,
   "id": "f4ca16e5-ad3c-47d4-aae8-686fd74234e6",
   "metadata": {},
   "outputs": [
    {
     "name": "stdout",
     "output_type": "stream",
     "text": [
      "[1, 2, 2, 3, 4, 5, 6, 7, 7, 8, 8, 9, 9, 10, 99]\n",
      "[99, 10, 9, 9, 8, 8, 7, 7, 6, 5, 4, 3, 2, 2, 1]\n",
      "[1, 2, 2, 3, 4, 5, 6, 7, 7, 8, 8, 9, 9, 10, 99]\n"
     ]
    }
   ],
   "source": [
    "# .reverse()\n",
    "# 역순으로 데이터 정렬함.\n",
    "print(numbers)\n",
    "numbers.reverse()\n",
    "print(numbers)\n",
    "\n",
    "# 해당 함수 중 슬라이싱을 통한 reverse\n",
    "# 비어있는 왼쪽 오른쪽 칸은 기본적으로 0,-1로 설정되어있음.\n",
    "numbers = numbers[ : :-1]\n",
    "print(numbers)"
   ]
  },
  {
   "cell_type": "code",
   "execution_count": 91,
   "id": "9ffb25ec-ac5d-4b88-8bd0-514fba8b7e30",
   "metadata": {},
   "outputs": [],
   "source": [
    "# 리스트에서 가장 많이 사용하는 메소드들"
   ]
  },
  {
   "cell_type": "markdown",
   "id": "7335c685-76e3-4018-b07e-b7ba108c7e7f",
   "metadata": {},
   "source": [
    "## 2.1 list copy"
   ]
  },
  {
   "cell_type": "code",
   "execution_count": 92,
   "id": "4f810c66-6559-4e20-99ea-7c420f589ea1",
   "metadata": {},
   "outputs": [],
   "source": [
    "origin_list = [1,2,3]\n",
    "copy_list = origin_list"
   ]
  },
  {
   "cell_type": "code",
   "execution_count": 93,
   "id": "5d698bdf-3dcb-466f-8ba1-8bddbedf1d77",
   "metadata": {},
   "outputs": [
    {
     "name": "stdout",
     "output_type": "stream",
     "text": [
      "[1, 2, 3]\n",
      "[1, 2, 3]\n"
     ]
    }
   ],
   "source": [
    "print(origin_list)\n",
    "print(copy_list)"
   ]
  },
  {
   "cell_type": "code",
   "execution_count": 94,
   "id": "c0700e78-10c3-41a2-8d92-f3336e659f9d",
   "metadata": {},
   "outputs": [],
   "source": [
    "copy_list[0] = 100"
   ]
  },
  {
   "cell_type": "code",
   "execution_count": 95,
   "id": "ee0c3bbe-8bff-4a2e-a4f8-f15e060acdd6",
   "metadata": {},
   "outputs": [
    {
     "name": "stdout",
     "output_type": "stream",
     "text": [
      "[100, 2, 3]\n",
      "[100, 2, 3]\n"
     ]
    }
   ],
   "source": [
    "print(origin_list)\n",
    "print(copy_list)"
   ]
  },
  {
   "cell_type": "code",
   "execution_count": 96,
   "id": "de7990bf-5bc5-4b48-bf0a-95c9ab8be165",
   "metadata": {},
   "outputs": [
    {
     "name": "stdout",
     "output_type": "stream",
     "text": [
      "[1, 2, 3]\n",
      "[100, 2, 3]\n"
     ]
    }
   ],
   "source": [
    "a = [1,2,3]\n",
    "b = a[:] \n",
    "# b = list(a) - 위와 동일한 코드\n",
    "\n",
    "# 0번째 부터 끝 인덱스까지 복사하는 코드\n",
    "# 주소를 참조하는 것이 아닌 주소내의 데이터를 뽑아\n",
    "# 복사한 방법이다.\n",
    "b[0] = 100\n",
    "print(a)\n",
    "print(b)"
   ]
  },
  {
   "cell_type": "code",
   "execution_count": 97,
   "id": "1eb7c54a-34af-4ebc-9b92-ccc41d61c335",
   "metadata": {},
   "outputs": [
    {
     "name": "stdout",
     "output_type": "stream",
     "text": [
      "[1, 2, [100, 4]]\n",
      "[1, 2, [100, 4]]\n"
     ]
    }
   ],
   "source": [
    "a = [1, 2, [3, 4]]\n",
    "b = a[:]\n",
    "\n",
    "b[2][0] = 100\n",
    "# 3을 100으로 바꾸는 코드\n",
    "\n",
    "print(a)\n",
    "print(b)\n",
    "# 똑같은 주소를 가리키고 있기 때문에\n",
    "# 동일한 결과가 나올 것임\n",
    "# python tutor를 통해 알아보자"
   ]
  },
  {
   "cell_type": "code",
   "execution_count": 99,
   "id": "8809ee83-044d-4002-86de-c6230edaa34b",
   "metadata": {},
   "outputs": [
    {
     "name": "stdout",
     "output_type": "stream",
     "text": [
      "[1, 2, [3, 4]]\n",
      "[1, 2, [100, 4]]\n"
     ]
    }
   ],
   "source": [
    "import copy\n",
    "a = [1,2,[3,4]]\n",
    "b = copy.deepcopy(a) \n",
    "# 깊은 복사라고 함\n",
    "\n",
    "b[2][0] = 100\n",
    "\n",
    "print(a)\n",
    "print(b)"
   ]
  },
  {
   "cell_type": "markdown",
   "id": "0ff414c3-94c4-48bd-a82e-1badabe23e61",
   "metadata": {},
   "source": [
    "## 2.2 list comprehension"
   ]
  },
  {
   "cell_type": "code",
   "execution_count": 100,
   "id": "bcecfa4a-4eb1-4599-b3f1-0d8bd22f0785",
   "metadata": {},
   "outputs": [
    {
     "name": "stdout",
     "output_type": "stream",
     "text": [
      "[1, 2, 3, 4, 5, 6, 7, 8, 9, 10]\n"
     ]
    }
   ],
   "source": [
    "numbers = list(range(1,11))\n",
    "print(numbers)"
   ]
  },
  {
   "cell_type": "code",
   "execution_count": 104,
   "id": "b630e140-c324-4878-aebf-f8e6050efd84",
   "metadata": {},
   "outputs": [
    {
     "name": "stdout",
     "output_type": "stream",
     "text": [
      "[1, 8, 27, 64, 125, 216, 343, 512, 729, 1000]\n"
     ]
    }
   ],
   "source": [
    "# [1, 8, 27, .. , 1000]\n",
    "# 세제곱을 이용한 값 저장\n",
    "result = []\n",
    "for value in numbers:\n",
    "    result.append(value ** 3)\n",
    "print(result)"
   ]
  },
  {
   "cell_type": "code",
   "execution_count": 107,
   "id": "e14c97fe-5d52-4adf-bf20-c45e99a1cb73",
   "metadata": {},
   "outputs": [
    {
     "name": "stdout",
     "output_type": "stream",
     "text": [
      "[1, 8, 27, 64, 125, 216, 343, 512, 729, 1000]\n"
     ]
    }
   ],
   "source": [
    "# 반복 작업을 돌려서 그 작업의 값을 앞에다가 명시\n",
    "# 이 과정을 list comprehension이라 함\n",
    "result2 = [number ** 3 for number in numbers]\n",
    "print(result2)"
   ]
  },
  {
   "cell_type": "code",
   "execution_count": 108,
   "id": "63a08632-2b99-446a-ac93-60553df0d9d7",
   "metadata": {},
   "outputs": [
    {
     "name": "stdout",
     "output_type": "stream",
     "text": [
      "[2, 4, 6, 8, 10]\n"
     ]
    }
   ],
   "source": [
    "# 짝수만 고르기(반복문)\n",
    "even_list = []\n",
    "for i in numbers:\n",
    "    if i % 2 == 0:\n",
    "        even_list.append(i)\n",
    "\n",
    "print(even_list)"
   ]
  },
  {
   "cell_type": "code",
   "execution_count": 109,
   "id": "8be1ba86-a44f-4e15-8664-af3320cfc44f",
   "metadata": {},
   "outputs": [
    {
     "name": "stdout",
     "output_type": "stream",
     "text": [
      "[2, 4, 6, 8, 10]\n"
     ]
    }
   ],
   "source": [
    "# 짝수만 고르기 (list comprehension)\n",
    "even_list2 = [i for i in numbers if i % 2 == 0]\n",
    "print(even_list2)"
   ]
  },
  {
   "cell_type": "code",
   "execution_count": 119,
   "id": "98509945-48cc-4edd-b362-b6a045d9f689",
   "metadata": {},
   "outputs": [],
   "source": [
    "#연습문제\n",
    "words = 'my name is junbeom'\n",
    "vowels = 'aeiou'\n",
    "\n",
    "# => 모음을 제거하는 문제\n",
    "# my nm s jnbm"
   ]
  },
  {
   "cell_type": "code",
   "execution_count": 121,
   "id": "dbceb10a-4ff4-40a3-8bd1-182725464969",
   "metadata": {},
   "outputs": [
    {
     "name": "stdout",
     "output_type": "stream",
     "text": [
      "['m', 'y', ' ', 'n', 'm', ' ', 's', ' ', 'j', 'n', 'b', 'm']\n",
      "my nm s jnbm\n"
     ]
    }
   ],
   "source": [
    "# 1. for문 버전\n",
    "result = []\n",
    "for word in words :\n",
    "    if (word not in vowels):\n",
    "        result.append(word)\n",
    "\n",
    "print(result)\n",
    "print(''.join(result))"
   ]
  },
  {
   "cell_type": "code",
   "execution_count": 124,
   "id": "1f985932-7f98-4039-84b7-2851195852fa",
   "metadata": {},
   "outputs": [
    {
     "name": "stdout",
     "output_type": "stream",
     "text": [
      "['m', 'y', ' ', 'n', 'm', ' ', 's', ' ', 'j', 'n', 'b', 'm']\n",
      "my nm s jnbm\n"
     ]
    }
   ],
   "source": [
    "# 2. list comprehension\n",
    "result2 = [word for word in words if word not in vowels]\n",
    "print(result2)\n",
    "print(''.join(result2))"
   ]
  },
  {
   "cell_type": "code",
   "execution_count": 125,
   "id": "0438a444-790a-4b08-81c8-6a1836654caa",
   "metadata": {},
   "outputs": [],
   "source": [
    "# 어지간해서는 for문으로 작성할 것\n",
    "# python에 익숙해지면 list comprehension을 사용하기"
   ]
  },
  {
   "cell_type": "markdown",
   "id": "f7d4230e-3ff3-4f1e-9b8b-aecbbb8569be",
   "metadata": {},
   "source": [
    "## 3. 딕셔너리 메소드"
   ]
  },
  {
   "cell_type": "code",
   "execution_count": 131,
   "id": "fd531b1d-8fcc-4b06-8a2c-0b9fbb2a7335",
   "metadata": {},
   "outputs": [],
   "source": [
    "info = {\n",
    "    'name' : 'junbeom',\n",
    "    'location' : 'Seongnam',\n",
    "}"
   ]
  },
  {
   "cell_type": "code",
   "execution_count": 132,
   "id": "f2ea110a-02b2-4b72-b888-33f56fafd4e3",
   "metadata": {},
   "outputs": [
    {
     "name": "stdout",
     "output_type": "stream",
     "text": [
      "kim\n"
     ]
    }
   ],
   "source": [
    "info['name'] = 'kim'\n",
    "print(info['name'])"
   ]
  },
  {
   "cell_type": "code",
   "execution_count": 133,
   "id": "5ed526bb-9b00-4e8b-b4ab-ed0e2eda3a35",
   "metadata": {},
   "outputs": [
    {
     "name": "stdout",
     "output_type": "stream",
     "text": [
      "{'name': 'kim'}\n"
     ]
    }
   ],
   "source": [
    "# .pop()\n",
    "info.pop('location')\n",
    "print(info)"
   ]
  },
  {
   "cell_type": "code",
   "execution_count": 135,
   "id": "5ba85e38-4563-4eb4-9eae-a08b0da0cca1",
   "metadata": {},
   "outputs": [
    {
     "name": "stdout",
     "output_type": "stream",
     "text": [
      "None\n",
      "{'name': 'kim'}\n"
     ]
    }
   ],
   "source": [
    "# .pop(key[, default])\n",
    "print(info.pop('location',None))\n",
    "print(info)"
   ]
  },
  {
   "cell_type": "code",
   "execution_count": 136,
   "id": "c084b217-4a6d-4215-bd17-cc471419f9f2",
   "metadata": {},
   "outputs": [
    {
     "name": "stdout",
     "output_type": "stream",
     "text": [
      "{'name': 'junbeom'}\n"
     ]
    }
   ],
   "source": [
    "# .update(key=value)\n",
    "info.update(name='junbeom')\n",
    "print(info)"
   ]
  },
  {
   "cell_type": "code",
   "execution_count": 138,
   "id": "c35c1262-9fa3-47c0-96a8-ca057ebfe272",
   "metadata": {},
   "outputs": [
    {
     "name": "stdout",
     "output_type": "stream",
     "text": [
      "junbeom\n",
      "None\n"
     ]
    }
   ],
   "source": [
    "# .get(key[, default])\n",
    "print(info.get('name'))\n",
    "print(info.get('school'))\n",
    "#print(info['school'])"
   ]
  },
  {
   "cell_type": "markdown",
   "id": "cf32fce6-588e-4142-9064-88a0a242a023",
   "metadata": {},
   "source": [
    "## 3.1 dict comprehension"
   ]
  },
  {
   "cell_type": "code",
   "execution_count": 139,
   "id": "56c10adb-1255-41a0-a614-bb77d4ea19e4",
   "metadata": {},
   "outputs": [],
   "source": [
    "# {1 : 1, 2 : 8, 3 : 27}"
   ]
  },
  {
   "cell_type": "code",
   "execution_count": 141,
   "id": "d943af96-03f0-4af1-8f41-a7d97b344313",
   "metadata": {},
   "outputs": [
    {
     "name": "stdout",
     "output_type": "stream",
     "text": [
      "{1: 1, 2: 8, 3: 27}\n"
     ]
    }
   ],
   "source": [
    "#for\n",
    "cube_dict = {}\n",
    "for i in range(1,4):\n",
    "    cube_dict[i] = i ** 3\n",
    "print(cube_dict)"
   ]
  },
  {
   "cell_type": "code",
   "execution_count": 142,
   "id": "d88e53d6-dc64-429b-a7c7-4e43653c3763",
   "metadata": {},
   "outputs": [
    {
     "name": "stdout",
     "output_type": "stream",
     "text": [
      "{1: 1, 2: 8, 3: 27}\n"
     ]
    }
   ],
   "source": [
    "# comp\n",
    "cube_dict2 = {i : i ** 3 for i in range(1,4)}\n",
    "print(cube_dict2)"
   ]
  },
  {
   "cell_type": "code",
   "execution_count": 144,
   "id": "84e287a2-bfc7-4c2e-843c-28e559408c16",
   "metadata": {},
   "outputs": [],
   "source": [
    "#\n",
    "dust = {\n",
    "    '서울' : 100,\n",
    "    '대구' : 30,\n",
    "    '대전' : 10,\n",
    "    '부산' : 80,\n",
    "    '광주' : 50,\n",
    "}\n",
    "\n",
    "# =>\n",
    "# result = {\n",
    "#     '서울' : 100,\n",
    "#     '부산' : 80,\n",
    "#     '광주' : 50,\n",
    "# }"
   ]
  },
  {
   "cell_type": "code",
   "execution_count": 150,
   "id": "d93faab8-5f4d-4283-93f1-e9412cb74f68",
   "metadata": {},
   "outputs": [
    {
     "name": "stdout",
     "output_type": "stream",
     "text": [
      "{'서울': 100, '부산': 80, '광주': 50}\n"
     ]
    }
   ],
   "source": [
    "#1. for\n",
    "result = {}\n",
    "\n",
    "for k, v in dust.items():\n",
    "    if v >= 50 :\n",
    "        result[k] = v\n",
    "\n",
    "print(result)"
   ]
  },
  {
   "cell_type": "code",
   "execution_count": 152,
   "id": "0a2f04f6-eba8-4b45-8996-0d42cfa4f796",
   "metadata": {},
   "outputs": [
    {
     "name": "stdout",
     "output_type": "stream",
     "text": [
      "{'서울': 100, '부산': 80, '광주': 50}\n"
     ]
    }
   ],
   "source": [
    "#2. comp\n",
    "result2 = {k: v for k, v in dust.items() if v >= 50}\n",
    "print(result2)"
   ]
  },
  {
   "cell_type": "code",
   "execution_count": 153,
   "id": "794f4f4a-3036-4f9a-b493-f2a5166d07e1",
   "metadata": {},
   "outputs": [
    {
     "name": "stdout",
     "output_type": "stream",
     "text": [
      "{'서울': '나쁨', '부산': '나쁨', '광주': '나쁨'}\n"
     ]
    }
   ],
   "source": [
    "# 문자로 변경하여 표기할 수 있음.\n",
    "result3 = {k: '나쁨' for k, v in dust.items() if v >= 50}\n",
    "print(result3)"
   ]
  },
  {
   "cell_type": "markdown",
   "id": "419db0e5-5e1d-4830-b5b4-00f7846ffb18",
   "metadata": {},
   "source": [
    "# 4.세트 메소드"
   ]
  },
  {
   "cell_type": "code",
   "execution_count": 155,
   "id": "58d49b5f-92fb-4774-9b19-b71c3822e582",
   "metadata": {},
   "outputs": [],
   "source": [
    "fruits = {'apple', 'banana', 'melon'}"
   ]
  },
  {
   "cell_type": "code",
   "execution_count": 156,
   "id": "403492db-ae02-40a4-a2ef-e4925c86e86a",
   "metadata": {},
   "outputs": [
    {
     "name": "stdout",
     "output_type": "stream",
     "text": [
      "{'watermelon', 'apple', 'banana', 'melon'}\n"
     ]
    }
   ],
   "source": [
    "# .add(x)\n",
    "# 컴퓨터 환경에 따라 순서가 없이 무작위로 들어감.\n",
    "fruits.add('watermelon')\n",
    "print(fruits)"
   ]
  },
  {
   "cell_type": "code",
   "execution_count": 157,
   "id": "17e5a07a-bbcb-41a3-8035-65d32aeb8d06",
   "metadata": {},
   "outputs": [
    {
     "name": "stdout",
     "output_type": "stream",
     "text": [
      "{'watermelon', 'apple', 'banana', 'melon'}\n"
     ]
    }
   ],
   "source": [
    "#중복 불가\n",
    "fruits.add('watermelon')\n",
    "print(fruits)"
   ]
  },
  {
   "cell_type": "code",
   "execution_count": 159,
   "id": "371e1041-7c22-4e89-b9d1-ca7a93049661",
   "metadata": {},
   "outputs": [
    {
     "name": "stdout",
     "output_type": "stream",
     "text": [
      "{'e', 'watermelon', 'apple', 'g', 'banana', 'a', 'p', 'r', 'melon'}\n",
      "{'e', 'orange', 'watermelon', 'apple', 'g', 'banana', 'a', 'p', 'pear', 'r', 'melon'}\n"
     ]
    }
   ],
   "source": [
    "# .update()\n",
    "fruits.update('grape')\n",
    "print(fruits)\n",
    "fruits.update({'orange','pear'})\n",
    "print(fruits)"
   ]
  },
  {
   "cell_type": "code",
   "execution_count": 160,
   "id": "c3cbe06e-e410-445f-97f8-57be4bca62b9",
   "metadata": {},
   "outputs": [
    {
     "name": "stdout",
     "output_type": "stream",
     "text": [
      "{'e', 'watermelon', 'apple', 'g', 'banana', 'a', 'p', 'pear', 'r', 'melon'}\n"
     ]
    }
   ],
   "source": [
    "# .remove()\n",
    "fruits.remove('orange')\n",
    "print(fruits)"
   ]
  },
  {
   "cell_type": "code",
   "execution_count": 161,
   "id": "424aec6d-ce84-4b77-a54c-f8f69364e82a",
   "metadata": {},
   "outputs": [
    {
     "name": "stdout",
     "output_type": "stream",
     "text": [
      "{'watermelon', 'apple', 'g', 'banana', 'a', 'p', 'pear', 'r', 'melon'}\n"
     ]
    }
   ],
   "source": [
    "# .pop()\n",
    "fruits.pop()\n",
    "print(fruits)"
   ]
  },
  {
   "cell_type": "markdown",
   "id": "7d7d9ad3-6fd8-4ca9-a8e9-a93511aa780c",
   "metadata": {},
   "source": [
    "## 5. map(), zip(), filter()"
   ]
  },
  {
   "cell_type": "markdown",
   "id": "d97ec79d-43b4-4b40-85a8-1d4972371f9e",
   "metadata": {},
   "source": [
    "## 5.1 map()\n",
    "```\n",
    "map(function, iterable)"
   ]
  },
  {
   "cell_type": "code",
   "execution_count": 163,
   "id": "e8f6dc7f-44a5-4d23-8588-789b07481171",
   "metadata": {},
   "outputs": [
    {
     "name": "stdout",
     "output_type": "stream",
     "text": [
      "<map object at 0x000001719B101870>\n",
      "['1', '2', '3']\n"
     ]
    }
   ],
   "source": [
    "a = [1, 2, 3]\n",
    "\n",
    "number_str = map(str, a)\n",
    "print(number_str)\n",
    "print(list(number_str))"
   ]
  },
  {
   "cell_type": "code",
   "execution_count": 164,
   "id": "59ab2211-e05c-40ea-b6b9-49aa2a0eed40",
   "metadata": {},
   "outputs": [],
   "source": [
    "def cube(x):\n",
    "    return x ** 3"
   ]
  },
  {
   "cell_type": "code",
   "execution_count": 166,
   "id": "121927ec-4838-42fc-9f34-e418b72982d9",
   "metadata": {},
   "outputs": [
    {
     "name": "stdout",
     "output_type": "stream",
     "text": [
      "[1, 8, 27]\n"
     ]
    }
   ],
   "source": [
    "# for문을 활용하여 모든 item에 cube함수를 실행\n",
    "result = []\n",
    "for i in a:\n",
    "    result.append(cube(i))\n",
    "print(result)"
   ]
  },
  {
   "cell_type": "code",
   "execution_count": 168,
   "id": "c7c66c2c-4467-46c1-a6f8-5631949f643e",
   "metadata": {},
   "outputs": [
    {
     "name": "stdout",
     "output_type": "stream",
     "text": [
      "[1, 8, 27]\n"
     ]
    }
   ],
   "source": [
    "result2 = map(cube, a)\n",
    "print(list(result2))"
   ]
  },
  {
   "cell_type": "code",
   "execution_count": 171,
   "id": "c4b98687-659a-4e4b-8d36-e580567d6c75",
   "metadata": {},
   "outputs": [
    {
     "name": "stdin",
     "output_type": "stream",
     "text": [
      " 1 2 3 4 5\n"
     ]
    },
    {
     "name": "stdout",
     "output_type": "stream",
     "text": [
      "[1, 2, 3, 4, 5]\n"
     ]
    }
   ],
   "source": [
    "numbers = list(map(int, input().split()))\n",
    "print(numbers)"
   ]
  },
  {
   "cell_type": "markdown",
   "id": "402c9b70-5aea-4cfd-a5ca-b96e8e6b0f5b",
   "metadata": {},
   "source": [
    "## 5.2 zip()"
   ]
  },
  {
   "cell_type": "code",
   "execution_count": 172,
   "id": "3aa3605b-14ac-4082-a61a-47e49a4bf728",
   "metadata": {},
   "outputs": [],
   "source": [
    "a = [1, 2, 3]\n",
    "b = [100, 200, 300]"
   ]
  },
  {
   "cell_type": "code",
   "execution_count": 174,
   "id": "ca4446c5-7640-4db9-bda9-725787393915",
   "metadata": {},
   "outputs": [
    {
     "name": "stdout",
     "output_type": "stream",
     "text": [
      "<zip object at 0x000001719B65CB40>\n",
      "[(1, 100), (2, 200), (3, 300)]\n"
     ]
    }
   ],
   "source": [
    "result = zip(a, b)\n",
    "print(result)\n",
    "print(list(result))"
   ]
  },
  {
   "cell_type": "markdown",
   "id": "1cfe719b-a6b6-4b79-a793-5c1f3ffe18aa",
   "metadata": {},
   "source": [
    "## 5.3 filter()\n",
    "```python\n",
    "filter(function,iterable)\n",
    "```\n",
    "filter에 들어가는 function은 T/F를 반환해야 함."
   ]
  },
  {
   "cell_type": "code",
   "execution_count": 175,
   "id": "0143d66b-ac53-4987-aea6-d69452c39d99",
   "metadata": {},
   "outputs": [],
   "source": [
    "def is_odd(x):\n",
    "    return bool(x % 2)"
   ]
  },
  {
   "cell_type": "code",
   "execution_count": 177,
   "id": "25a5ab71-f2b9-4738-bca1-768c5661fe5a",
   "metadata": {},
   "outputs": [
    {
     "name": "stdout",
     "output_type": "stream",
     "text": [
      "<filter object at 0x000001719B100B80>\n",
      "[1, 3, 5]\n"
     ]
    }
   ],
   "source": [
    "numbers = [1,2,3,4,5]\n",
    "result = filter(is_odd, numbers)\n",
    "print(result)\n",
    "print(list(result))"
   ]
  },
  {
   "cell_type": "code",
   "execution_count": null,
   "id": "2e9bdf68-acd2-486a-8b95-ce76d8a41494",
   "metadata": {},
   "outputs": [],
   "source": []
  }
 ],
 "metadata": {
  "kernelspec": {
   "display_name": "Python 3 (ipykernel)",
   "language": "python",
   "name": "python3"
  },
  "language_info": {
   "codemirror_mode": {
    "name": "ipython",
    "version": 3
   },
   "file_extension": ".py",
   "mimetype": "text/x-python",
   "name": "python",
   "nbconvert_exporter": "python",
   "pygments_lexer": "ipython3",
   "version": "3.11.4"
  }
 },
 "nbformat": 4,
 "nbformat_minor": 5
}
